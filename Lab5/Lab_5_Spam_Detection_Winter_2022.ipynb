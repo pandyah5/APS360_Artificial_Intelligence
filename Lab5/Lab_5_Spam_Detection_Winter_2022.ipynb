{
  "cells": [
    {
      "cell_type": "markdown",
      "metadata": {
        "id": "_bphECiUa9zw"
      },
      "source": [
        "# Lab 5: Spam Detection\n",
        "\n",
        "**Deadline**: Monday, Mar 14, 5:00 PM\n",
        "\n",
        "**Late Penalty**: Any work that is submitted between 0 hour and 24 hours past the deadline will receive a 20% grade deduction. No other late work is accepted. Quercus submission time will be used, not your local computer time. You can submit your labs as many times as you want before the deadline, so please submit often and early.\n",
        "\n",
        "**TA**: Hossein Yousefi <hossein.yousefi@mail.utoronto.ca>\n",
        "\n",
        "In this assignment, we will build a recurrent neural network to classify a SMS text message\n",
        "as \"spam\" or \"not spam\". In the process, you will\n",
        "    \n",
        "1. Clean and process text data for machine learning.\n",
        "2. Understand and implement a character-level recurrent neural network.\n",
        "3. Use torchtext to build recurrent neural network models.\n",
        "4. Understand batching for a recurrent neural network, and use torchtext to implement RNN batching.\n",
        "\n",
        "### What to submit\n",
        "\n",
        "Submit a PDF file containing all your code, outputs, and write-up. You can produce a PDF of your Google Colab file by going to File > Print and then save as PDF. The Colab instructions have more information (.html files are also acceptable).\n",
        "\n",
        "Do not submit any other files produced by your code.\n",
        "\n",
        "Include a link to your colab file in your submission."
      ]
    },
    {
      "cell_type": "markdown",
      "metadata": {
        "id": "rWiUqJJTa9z6"
      },
      "source": [
        "## Colab Link\n",
        "\n",
        "Include a link to your Colab file here. If you would like the TA to look at your\n",
        "Colab file in case your solutions are cut off, **please make sure that your Colab\n",
        "file is publicly accessible at the time of submission**.\n",
        "\n",
        "Colab Link: https://colab.research.google.com/drive/1XOsfG_BoHJzsTV_HCQwshMRDOy_gVDD6?usp=sharing"
      ]
    },
    {
      "cell_type": "code",
      "execution_count": null,
      "metadata": {
        "collapsed": true,
        "id": "HgfNOUaPa9z8",
        "jupyter": {
          "outputs_hidden": true
        }
      },
      "outputs": [],
      "source": [
        "import torch\n",
        "import torch.nn as nn\n",
        "import torch.nn.functional as F\n",
        "import torch.optim as optim\n",
        "import numpy as np"
      ]
    },
    {
      "cell_type": "markdown",
      "metadata": {
        "id": "M0jLI9LBa90C"
      },
      "source": [
        "## Part 1. Data Cleaning [15 pt]\n",
        "\n",
        "We will be using the \"SMS Spam Collection Data Set\" available at http://archive.ics.uci.edu/ml/datasets/SMS+Spam+Collection\n",
        "\n",
        "There is a link to download the \"Data Folder\" at the very top of the webpage. Download the zip file, unzip it, and upload the file `SMSSpamCollection` to Colab.    "
      ]
    },
    {
      "cell_type": "markdown",
      "metadata": {
        "id": "sSuF7C_Ga90E"
      },
      "source": [
        "### Part (a) [2 pt]\n",
        "\n",
        "Open up the file in Python, and print out one example of a spam SMS, and one example of a non-spam SMS.\n",
        "\n",
        "What is the label value for a spam message, and what is the label value for a non-spam message?"
      ]
    },
    {
      "cell_type": "code",
      "execution_count": null,
      "metadata": {
        "colab": {
          "base_uri": "https://localhost:8080/"
        },
        "collapsed": true,
        "id": "I_IfXHeTa90F",
        "jupyter": {
          "outputs_hidden": true
        },
        "outputId": "b98c3e5a-0195-4d1c-c9ba-82880aca1fc8"
      },
      "outputs": [
        {
          "output_type": "stream",
          "name": "stdout",
          "text": [
            "ham\tGo until jurong point, crazy.. Available only in bugis n great world la e buffet... Cine there got amore wat...\n",
            "\n",
            "spam\tFree entry in 2 a wkly comp to win FA Cup final tkts 21st May 2005. Text FA to 87121 to receive entry question(std txt rate)T&C's apply 08452810075over18's\n",
            "\n"
          ]
        }
      ],
      "source": [
        "ham = 0\n",
        "spam = 0\n",
        "for line in open('/content/sample_data/smsspamcollection/SMSSpamCollection', 'r'):\n",
        "   if (ham and spam) == 0:\n",
        "      if line.split()[0] == 'ham' and not ham:\n",
        "        print(line)\n",
        "        ham = 1\n",
        "      elif (line.split()[0] == 'spam') and not spam:\n",
        "        print(line)\n",
        "        spam = 1\n",
        "   else:\n",
        "     break"
      ]
    },
    {
      "cell_type": "markdown",
      "metadata": {
        "id": "AukA6vMVa90d"
      },
      "source": [
        "### Part (b) [1 pt]\n",
        "\n",
        "How many spam messages are there in the data set?\n",
        "How many non-spam messages are there in the data set?\n"
      ]
    },
    {
      "cell_type": "code",
      "execution_count": null,
      "metadata": {
        "colab": {
          "base_uri": "https://localhost:8080/"
        },
        "collapsed": true,
        "id": "LgsqyemVa90e",
        "jupyter": {
          "outputs_hidden": true
        },
        "outputId": "72df0550-3e49-4e42-b831-3e71f495d5af"
      },
      "outputs": [
        {
          "output_type": "stream",
          "name": "stdout",
          "text": [
            "Spam samples: 747 and Non - spam samples: 4827\n"
          ]
        }
      ],
      "source": [
        "spam = 0\n",
        "norm = 0\n",
        "for line in open('/content/sample_data/smsspamcollection/SMSSpamCollection', 'r'):\n",
        "   if (line.split()[0] == 'spam'):\n",
        "        spam += 1\n",
        "   elif (line.split()[0] == 'ham'):\n",
        "        norm += 1\n",
        "\n",
        "print(\"Spam samples:\", spam, \"and Non - spam samples:\", norm)"
      ]
    },
    {
      "cell_type": "markdown",
      "metadata": {
        "id": "d1WXxVt6a90h"
      },
      "source": [
        "### Part (c) [4 pt]\n",
        "\n",
        "We will be using the package `torchtext` to load, process, and batch the data.\n",
        "A tutorial to torchtext is available below. This tutorial uses the same\n",
        "Sentiment140 data set that we explored during lecture.\n",
        "\n",
        "https://medium.com/@sonicboom8/sentiment-analysis-torchtext-55fb57b1fab8\n",
        "\n",
        "Unlike what we did during lecture, we will be building a **character level RNN**.\n",
        "That is, we will treat each **character** as a token in our sequence,\n",
        "rather than each **word**.\n",
        "\n",
        "Identify two advantage and two disadvantage of modelling SMS text\n",
        "messages as a sequence of characters rather than a sequence of words."
      ]
    },
    {
      "cell_type": "markdown",
      "source": [
        "ANS:\n",
        "\n",
        "Advantage: By using character level RNN we will save space as the range of characters is much limited as compared to range of words.\n",
        "\n",
        "Disadvantage: However, our model might have a hard time training because we loose the word association. Now the model will have to learn the characters sequence (spelling) that make words and the relation of these words with each other."
      ],
      "metadata": {
        "id": "ECCDte_EY3-v"
      }
    },
    {
      "cell_type": "markdown",
      "metadata": {
        "id": "ie_D0bv9a90k"
      },
      "source": [
        "### Part (d) [1 pt]\n",
        "\n",
        "We will be loading our data set using `torchtext.data.TabularDataset`. The\n",
        "constructor will read directly from the `SMSSpamCollection` file. \n",
        "\n",
        "For the data file to be read successfuly, we\n",
        "need to specify the **fields** (columns) in the file. \n",
        "In our case, the dataset has two fields: \n",
        "\n",
        "- a text field containing the sms messages,\n",
        "- a label field which will be converted into a binary label.\n",
        "\n",
        "Split the dataset into `train`, `valid`, and `test`. Use a 60-20-20 split.\n",
        "You may find this torchtext API page helpful:\n",
        "https://torchtext.readthedocs.io/en/latest/data.html#dataset\n",
        "\n",
        "Hint: There is a `Dataset` method that can perform the random split for you."
      ]
    },
    {
      "cell_type": "code",
      "execution_count": null,
      "metadata": {
        "colab": {
          "base_uri": "https://localhost:8080/"
        },
        "collapsed": true,
        "id": "P_Y6Puz9a90l",
        "jupyter": {
          "outputs_hidden": true
        },
        "outputId": "fa4aa8e6-9207-443a-f453-d5b4aa2d77fe"
      },
      "outputs": [
        {
          "output_type": "stream",
          "name": "stdout",
          "text": [
            "WINNER!! As a valued network customer you have been selected to receivea £900 prize reward! To claim call 09061701461. Claim code KL341. Valid 12 hours only.\n",
            "1\n"
          ]
        }
      ],
      "source": [
        "import torchtext\n",
        "\n",
        "text_field = torchtext.legacy.data.Field(sequential=True,      # text sequence\n",
        "                                  tokenize=lambda x: x, # because are building a character-RNN\n",
        "                                  include_lengths=True, # to track the length of sequences, for batching\n",
        "                                  batch_first=True,\n",
        "                                  use_vocab=True)       # to turn each character into an integer index\n",
        "label_field = torchtext.legacy.data.Field(sequential=False,    # not a sequence\n",
        "                                   use_vocab=False,     # don't need to track vocabulary\n",
        "                                   is_target=True,      \n",
        "                                   batch_first=True,\n",
        "                                   preprocessing=lambda x: int(x == 'spam')) # convert text to 0 and 1\n",
        "\n",
        "fields = [('label', label_field), ('sms', text_field)]\n",
        "dataset = torchtext.legacy.data.TabularDataset(\"/content/sample_data/smsspamcollection/SMSSpamCollection\", # name of the file\n",
        "                                        \"tsv\",               # fields are separated by a tab\n",
        "                                        fields)\n",
        "\n",
        "i = 8\n",
        "print(dataset[i].sms)\n",
        "print(dataset[i].label)\n",
        "train, valid, test = dataset.split([0.6, 0.2, 0.2])"
      ]
    },
    {
      "cell_type": "code",
      "source": [
        "print(len(train), len(valid), len(test))"
      ],
      "metadata": {
        "colab": {
          "base_uri": "https://localhost:8080/"
        },
        "id": "hL5qG5Q9MZ9M",
        "outputId": "38deef68-9098-48da-8132-2a47eb943379"
      },
      "execution_count": null,
      "outputs": [
        {
          "output_type": "stream",
          "name": "stdout",
          "text": [
            "3343 1115 1114\n"
          ]
        }
      ]
    },
    {
      "cell_type": "markdown",
      "metadata": {
        "id": "v6nP0Ks_a90o"
      },
      "source": [
        "### Part (e) [2 pt]\n",
        "\n",
        "You saw in part (b) that there are many more non-spam messages than spam messages.\n",
        "This **imbalance** in our training data will be problematic for training.\n",
        "We can fix this disparity by duplicating spam messages in the training set,\n",
        "so that the training set is roughly **balanced**.\n",
        "\n",
        "Explain why having a balanced training set is helpful for training our neural network.\n",
        "\n",
        "Note: if you are not sure, try removing the below code and train your model."
      ]
    },
    {
      "cell_type": "markdown",
      "source": [
        "ANS: Imbalance in the dataset causes our model to be biased towards the dominant class. Around 85% of the samples are non-spam hence, a model that predicts all inputs as non-spam will achieve a 85% accuracy on this dataset!"
      ],
      "metadata": {
        "id": "45E7zSZENmbd"
      }
    },
    {
      "cell_type": "code",
      "execution_count": null,
      "metadata": {
        "collapsed": true,
        "id": "FWvx9_rka90p",
        "jupyter": {
          "outputs_hidden": true
        }
      },
      "outputs": [],
      "source": [
        "# save the original training examples\n",
        "old_train_examples = train.examples\n",
        "# get all the spam messages in `train`\n",
        "train_spam = []\n",
        "for item in train.examples:\n",
        "    if item.label == 1:\n",
        "        train_spam.append(item)\n",
        "# duplicate each spam message 6 more times\n",
        "train.examples = old_train_examples + train_spam * 6"
      ]
    },
    {
      "cell_type": "code",
      "source": [
        "spam = 0\n",
        "non_spam = 0\n",
        "for item in train.examples:\n",
        "    if item.label == 1:\n",
        "      spam += 1\n",
        "    else:\n",
        "      non_spam += 1\n",
        "\n",
        "print(spam, non_spam)"
      ],
      "metadata": {
        "colab": {
          "base_uri": "https://localhost:8080/"
        },
        "id": "0NxZv6AQNqKZ",
        "outputId": "e4a704d7-aadb-45b1-e2e2-eddbf02561cb"
      },
      "execution_count": null,
      "outputs": [
        {
          "output_type": "stream",
          "name": "stdout",
          "text": [
            "3213 2884\n"
          ]
        }
      ]
    },
    {
      "cell_type": "markdown",
      "metadata": {
        "id": "j7eUmBEva90r"
      },
      "source": [
        "### Part (f) [1 pt]\n",
        "\n",
        "We need to build the vocabulary on the training data by running the below code.\n",
        "This finds all the possible character tokens in the training set.\n",
        "\n",
        "Explain what the variables `text_field.vocab.stoi` and `text_field.vocab.itos` represent."
      ]
    },
    {
      "cell_type": "code",
      "execution_count": null,
      "metadata": {
        "colab": {
          "base_uri": "https://localhost:8080/"
        },
        "collapsed": true,
        "id": "8CQM8flKa90s",
        "jupyter": {
          "outputs_hidden": true
        },
        "outputId": "60f4802e-0f4c-4dd3-d0f0-f6d846b2a3e6"
      },
      "outputs": [
        {
          "output_type": "stream",
          "name": "stdout",
          "text": [
            "defaultdict(<bound method Vocab._default_unk_index of <torchtext.legacy.vocab.Vocab object at 0x7f510d010dd0>>, {'<unk>': 0, '<pad>': 1, ' ': 2, 'e': 3, 'o': 4, 't': 5, 'a': 6, 'n': 7, 'r': 8, 'i': 9, 's': 10, 'l': 11, 'u': 12, '0': 13, 'h': 14, 'd': 15, 'c': 16, 'm': 17, '.': 18, 'y': 19, 'w': 20, 'p': 21, 'g': 22, '1': 23, 'f': 24, '2': 25, 'b': 26, '8': 27, 'T': 28, 'k': 29, 'v': 30, 'E': 31, '5': 32, 'S': 33, 'C': 34, 'I': 35, '7': 36, 'O': 37, '4': 38, 'A': 39, 'N': 40, '6': 41, 'x': 42, '3': 43, '9': 44, '!': 45, 'R': 46, ',': 47, 'P': 48, 'W': 49, 'U': 50, 'M': 51, 'L': 52, 'H': 53, 'D': 54, 'B': 55, 'Y': 56, \"'\": 57, '?': 58, 'G': 59, 'F': 60, '/': 61, '£': 62, '-': 63, '&': 64, 'X': 65, ':': 66, 'z': 67, 'V': 68, 'K': 69, 'j': 70, '*': 71, ')': 72, 'J': 73, ';': 74, '+': 75, '(': 76, 'Q': 77, 'q': 78, '#': 79, '\"': 80, '>': 81, '@': 82, '=': 83, 'ü': 84, 'Z': 85, '<': 86, 'Ü': 87, '\\x92': 88, '|': 89, '$': 90, '‘': 91, '%': 92, '_': 93, '…': 94, '’': 95, '[': 96, ']': 97, '–': 98, '\\x93': 99, 'ú': 100, '“': 101, '\\x94': 102, '~': 103, '\\x96': 104, '\\\\': 105, '\\x91': 106, '»': 107, 'è': 108, '—': 109})\n",
            "['<unk>', '<pad>', ' ', 'e', 'o', 't', 'a', 'n', 'r', 'i', 's', 'l', 'u', '0', 'h', 'd', 'c', 'm', '.', 'y', 'w', 'p', 'g', '1', 'f', '2', 'b', '8', 'T', 'k', 'v', 'E', '5', 'S', 'C', 'I', '7', 'O', '4', 'A', 'N', '6', 'x', '3', '9', '!', 'R', ',', 'P', 'W', 'U', 'M', 'L', 'H', 'D', 'B', 'Y', \"'\", '?', 'G', 'F', '/', '£', '-', '&', 'X', ':', 'z', 'V', 'K', 'j', '*', ')', 'J', ';', '+', '(', 'Q', 'q', '#', '\"', '>', '@', '=', 'ü', 'Z', '<', 'Ü', '\\x92', '|', '$', '‘', '%', '_', '…', '’', '[', ']', '–', '\\x93', 'ú', '“', '\\x94', '~', '\\x96', '\\\\', '\\x91', '»', 'è', '—']\n"
          ]
        }
      ],
      "source": [
        "text_field.build_vocab(train)\n",
        "print(text_field.vocab.stoi)\n",
        "print(text_field.vocab.itos)"
      ]
    },
    {
      "cell_type": "markdown",
      "source": [
        "ANS: \n",
        "\n",
        "text_field.vocab.stoi contains a dictionary where the keys are the characters in the text including padding and the values are the value they have been mapped to.\n",
        "\n",
        "text_field.vocab.itos is a list of all the characters in the text including padding where the index is the value they have been mapped to."
      ],
      "metadata": {
        "id": "urXpOZ99OJcl"
      }
    },
    {
      "cell_type": "markdown",
      "metadata": {
        "id": "TC8WVE8Ua90u"
      },
      "source": [
        "### Part (g) [2 pt]\n",
        "\n",
        "The tokens `<unk>` and `<pad>` were not in our SMS text messages.\n",
        "What do these two values represent?"
      ]
    },
    {
      "cell_type": "markdown",
      "source": [
        "ANS:\n",
        "\n",
        "\\<unk\\> is the token used for words that are not known to the model during inference.\n",
        "\n",
        "\\<pad\\> The text samples vary in size and padding is used to ensure that they are all the same size"
      ],
      "metadata": {
        "id": "CrhcODsvOi0f"
      }
    },
    {
      "cell_type": "code",
      "execution_count": null,
      "metadata": {
        "collapsed": true,
        "id": "y_4Er7KUa90v",
        "jupyter": {
          "outputs_hidden": true
        }
      },
      "outputs": [],
      "source": [
        ""
      ]
    },
    {
      "cell_type": "markdown",
      "metadata": {
        "id": "Ff5CNk7Qa90y"
      },
      "source": [
        "### Part (h) [2 pt]\n",
        "\n",
        "Since text sequences are of variable length, `torchtext` provides a `BucketIterator` data loader,\n",
        "which batches similar length sequences together. The iterator also provides functionalities to\n",
        "pad sequences automatically.\n",
        "\n",
        "Take a look at 10 batches in `train_iter`. What is the maximum length of the\n",
        "input sequence in each batch? How many `<pad>` tokens are used in each of the 10\n",
        "batches?"
      ]
    },
    {
      "cell_type": "code",
      "execution_count": null,
      "metadata": {
        "collapsed": true,
        "id": "V8N8qLWOa90y",
        "jupyter": {
          "outputs_hidden": true
        }
      },
      "outputs": [],
      "source": [
        "train_iter = torchtext.legacy.data.BucketIterator(train,\n",
        "                                           batch_size=32,\n",
        "                                           sort_key=lambda x: len(x.sms), # to minimize padding\n",
        "                                           sort_within_batch=True,        # sort within each batch\n",
        "                                           repeat=False)                  # repeat the iterator for many epochs"
      ]
    },
    {
      "cell_type": "code",
      "source": [
        "val_iter = torchtext.legacy.data.BucketIterator(valid,\n",
        "                                           batch_size=32,\n",
        "                                           sort_key=lambda x: len(x.sms), # to minimize padding\n",
        "                                           sort_within_batch=True,        # sort within each batch\n",
        "                                           repeat=False)                  # repeat the iterator for many epochs"
      ],
      "metadata": {
        "id": "cNW8tEsE7vU2"
      },
      "execution_count": null,
      "outputs": []
    },
    {
      "cell_type": "code",
      "source": [
        "test_iter = torchtext.legacy.data.BucketIterator(test,\n",
        "                                           batch_size=32,\n",
        "                                           sort_key=lambda x: len(x.sms), # to minimize padding\n",
        "                                           sort_within_batch=True,        # sort within each batch\n",
        "                                           repeat=False)                  # repeat the iterator for many epochs"
      ],
      "metadata": {
        "id": "9OyUxNcN8dwa"
      },
      "execution_count": null,
      "outputs": []
    },
    {
      "cell_type": "code",
      "execution_count": null,
      "metadata": {
        "colab": {
          "base_uri": "https://localhost:8080/"
        },
        "collapsed": true,
        "id": "Qwz-rOaha902",
        "jupyter": {
          "outputs_hidden": true
        },
        "outputId": "3562d002-fe34-4b53-a95a-c4a40a2534d5"
      },
      "outputs": [
        {
          "output_type": "stream",
          "name": "stdout",
          "text": [
            "Max length of input: 27\n",
            "The number of padding tokens used: 12\n",
            "---\n",
            "Max length of input: 160\n",
            "The number of padding tokens used: 0\n",
            "---\n",
            "Max length of input: 62\n",
            "The number of padding tokens used: 33\n",
            "---\n",
            "Max length of input: 137\n",
            "The number of padding tokens used: 31\n",
            "---\n",
            "Max length of input: 146\n",
            "The number of padding tokens used: 25\n",
            "---\n",
            "Max length of input: 28\n",
            "The number of padding tokens used: 7\n",
            "---\n",
            "Max length of input: 45\n",
            "The number of padding tokens used: 15\n",
            "---\n",
            "Max length of input: 78\n",
            "The number of padding tokens used: 64\n",
            "---\n",
            "Max length of input: 157\n",
            "The number of padding tokens used: 0\n",
            "---\n",
            "Max length of input: 95\n",
            "The number of padding tokens used: 48\n",
            "---\n",
            "Max length of input: 48\n",
            "The number of padding tokens used: 25\n",
            "---\n"
          ]
        }
      ],
      "source": [
        "i = 0\n",
        "for batch in train_iter:\n",
        "    max_len = 0\n",
        "    padding = 0\n",
        "    for tensor in batch.sms[0]:\n",
        "      max_len = max(max_len, len(tensor))\n",
        "      for elem in list(tensor):\n",
        "        if (elem == 1):\n",
        "          padding += 1\n",
        "\n",
        "    print(\"Max length of input:\", max_len)\n",
        "    print(\"The number of padding tokens used:\", padding)\n",
        "    print(\"---\")\n",
        "\n",
        "    i += 1\n",
        "    if i > 10:\n",
        "      break"
      ]
    },
    {
      "cell_type": "markdown",
      "metadata": {
        "id": "y7HnqP6_a904"
      },
      "source": [
        "## Part 2. Model Building [8 pt]\n",
        "\n",
        "Build a recurrent neural network model, using an architecture of your choosing. \n",
        "Use the one-hot embedding of each character as input to your recurrent network.\n",
        "Use one or more fully-connected layers to make the prediction based on your\n",
        "recurrent network output.\n",
        "\n",
        "Instead of using the RNN output value for the final token, another often used\n",
        "strategy is to max-pool over the entire output array. That is, instead of calling\n",
        "something like:\n",
        "\n",
        "```\n",
        "out, _ = self.rnn(x)\n",
        "self.fc(out[:, -1, :])\n",
        "```\n",
        "\n",
        "where `self.rnn` is an `nn.RNN`, `nn.GRU`, or `nn.LSTM` module, and `self.fc` is a \n",
        "fully-connected \n",
        "layer, we use:\n",
        "\n",
        "```\n",
        "out, _ = self.rnn(x)\n",
        "self.fc(torch.max(out, dim=1)[0])\n",
        "```\n",
        "\n",
        "This works reasonably in practice. An even better alternative is to concatenate the\n",
        "max-pooling and average-pooling of the RNN outputs:\n",
        "\n",
        "```\n",
        "out, _ = self.rnn(x)\n",
        "out = torch.cat([torch.max(out, dim=1)[0], \n",
        "                 torch.mean(out, dim=1)], dim=1)\n",
        "self.fc(out)\n",
        "```\n",
        "\n",
        "We encourage you to try out all these options. The way you pool the RNN outputs\n",
        "is one of the \"hyperparameters\" that you can choose to tune later on."
      ]
    },
    {
      "cell_type": "code",
      "source": [
        "from torch import nn\n",
        "\n",
        "class GURU(nn.Module):\n",
        "    def __init__(self, input_size, hidden_size, num_classes):\n",
        "        super(GURU, self).__init__()\n",
        "        self.emb = torch.eye(input_size)\n",
        "        self.hidden_size = hidden_size\n",
        "        self.gru = nn.GRU(input_size, hidden_size, 1, batch_first=True)\n",
        "        self.fc = nn.Linear(hidden_size, num_classes)\n",
        "    \n",
        "    def forward(self, x):\n",
        "        # Look up the embedding\n",
        "        x = self.emb[x]\n",
        "        # Set an initial hidden state\n",
        "        h0 = torch.zeros(1, x.size(0), self.hidden_size)\n",
        "        # Forward propagate the RNN\n",
        "        out, _ = self.gru(x, h0)\n",
        "        # Pass the output of the last time step to the classifier\n",
        "        # out = self.fc(out[:, -1, :])\n",
        "        out = self.fc(torch.max(out, dim=1)[0])\n",
        "        return out"
      ],
      "metadata": {
        "id": "flxh2dxwoMUn"
      },
      "execution_count": null,
      "outputs": []
    },
    {
      "cell_type": "code",
      "execution_count": null,
      "metadata": {
        "collapsed": true,
        "id": "jHl1p_Wwa905",
        "jupyter": {
          "outputs_hidden": true
        },
        "colab": {
          "base_uri": "https://localhost:8080/"
        },
        "outputId": "8fa8d0ad-d778-41bf-9860-f6ae0810e339"
      },
      "outputs": [
        {
          "output_type": "stream",
          "name": "stdout",
          "text": [
            "tensor([1., 0., 0., 0., 0., 0., 0., 0., 0., 0.])\n",
            "tensor([0., 1., 0., 0., 0., 0., 0., 0., 0., 0.])\n",
            "tensor([[[0., 1., 0., 0., 0., 0., 0., 0., 0., 0.],\n",
            "         [0., 0., 1., 0., 0., 0., 0., 0., 0., 0.]],\n",
            "\n",
            "        [[0., 0., 0., 1., 0., 0., 0., 0., 0., 0.],\n",
            "         [0., 0., 0., 0., 1., 0., 0., 0., 0., 0.]]])\n"
          ]
        }
      ],
      "source": [
        "# You might find this code helpful for obtaining\n",
        "# PyTorch one-hot vectors.\n",
        "\n",
        "ident = torch.eye(10)\n",
        "print(ident[0]) # one-hot vector\n",
        "print(ident[1]) # one-hot vector\n",
        "x = torch.tensor([[1, 2], [3, 4]])\n",
        "print(ident[x]) # one-hot vectors"
      ]
    },
    {
      "cell_type": "code",
      "execution_count": null,
      "metadata": {
        "collapsed": true,
        "id": "4LTQ7zFka909",
        "jupyter": {
          "outputs_hidden": true
        },
        "colab": {
          "base_uri": "https://localhost:8080/"
        },
        "outputId": "aa6649db-dabc-4122-ab6b-0ce70c8beafa"
      },
      "outputs": [
        {
          "output_type": "stream",
          "name": "stdout",
          "text": [
            "32\n",
            "torch.Size([32, 2])\n",
            "tensor([[-0.0197, -0.1336],\n",
            "        [-0.0092, -0.1337],\n",
            "        [-0.0092, -0.1337],\n",
            "        [-0.0126, -0.1332],\n",
            "        [-0.0190, -0.1271],\n",
            "        [-0.0164, -0.1376],\n",
            "        [-0.0076, -0.1369],\n",
            "        [-0.0174, -0.1445],\n",
            "        [-0.0190, -0.1271],\n",
            "        [-0.0149, -0.1341],\n",
            "        [-0.0149, -0.1341],\n",
            "        [-0.0076, -0.1369],\n",
            "        [-0.0173, -0.1342],\n",
            "        [-0.0171, -0.1411],\n",
            "        [-0.0134, -0.1309],\n",
            "        [-0.0171, -0.1411],\n",
            "        [-0.0134, -0.1309],\n",
            "        [-0.0170, -0.1352],\n",
            "        [-0.0173, -0.1342],\n",
            "        [-0.0149, -0.1341],\n",
            "        [-0.0173, -0.1342],\n",
            "        [-0.0190, -0.1271],\n",
            "        [-0.0174, -0.1445],\n",
            "        [-0.0228, -0.1440],\n",
            "        [-0.0083, -0.1369],\n",
            "        [-0.0228, -0.1440],\n",
            "        [-0.0164, -0.1374],\n",
            "        [-0.0170, -0.1352],\n",
            "        [-0.0173, -0.1342],\n",
            "        [-0.0195, -0.1446],\n",
            "        [-0.0224, -0.1310],\n",
            "        [-0.0170, -0.1352]], grad_fn=<AddmmBackward0>)\n"
          ]
        }
      ],
      "source": [
        "# Trying to test functioning of model\n",
        "model = GURU(len(text_field.vocab.itos), 150, 2)\n",
        "\n",
        "for batch in train_iter:\n",
        "    # print(batch.sms[0][0])\n",
        "    # print(len(batch.label))\n",
        "    print(len(batch))\n",
        "    out = model(batch.sms[0])\n",
        "    print(out.shape)\n",
        "    print(out)\n",
        "    break"
      ]
    },
    {
      "cell_type": "markdown",
      "metadata": {
        "id": "vKIYPl_Ba90_"
      },
      "source": [
        "## Part 3. Training [16 pt]\n",
        "\n",
        "### Part (a) [4 pt]\n",
        "\n",
        "Complete the `get_accuracy` function, which will compute the\n",
        "accuracy (rate) of your model across a dataset (e.g. validation set).\n",
        "You may modify `torchtext.data.BucketIterator` to make your computation\n",
        "faster."
      ]
    },
    {
      "cell_type": "code",
      "execution_count": null,
      "metadata": {
        "collapsed": true,
        "id": "pvNfhGD6a91A",
        "jupyter": {
          "outputs_hidden": true
        },
        "colab": {
          "base_uri": "https://localhost:8080/"
        },
        "outputId": "2a57d45b-abf6-4859-9fba-c165a153e31c"
      },
      "outputs": [
        {
          "output_type": "execute_result",
          "data": {
            "text/plain": [
              "0.4730195177956372"
            ]
          },
          "metadata": {},
          "execution_count": 34
        }
      ],
      "source": [
        "def get_accuracy(model, data):\n",
        "    \"\"\" Compute the accuracy of the `model` across a dataset `data`\n",
        "    \n",
        "    Example usage:\n",
        "    \n",
        "    >>> model = MyRNN() # to be defined\n",
        "    >>> get_accuracy(model, valid) # the variable `valid` is from above\n",
        "    \"\"\"\n",
        "    total_acc = 0\n",
        "    total = 0\n",
        "    m = nn.Softmax(dim=1)\n",
        "\n",
        "    for batch in train_iter:\n",
        "      acc = 0\n",
        "      total += len(batch)\n",
        "      out = model(batch.sms[0])\n",
        "      out = m(out)\n",
        "      pred_list = out.tolist()\n",
        "      labels = batch.label.tolist()\n",
        "      for i in range(len(pred_list)):\n",
        "        if pred_list[i][0] > 0.5:\n",
        "          if (labels[i] == 0):\n",
        "            acc += 1\n",
        "        else:\n",
        "          if (labels[i] == 1):\n",
        "            acc += 1\n",
        "      total_acc += acc\n",
        "\n",
        "    return (total_acc / total)\n",
        "\n",
        "get_accuracy(model, val_iter)"
      ]
    },
    {
      "cell_type": "markdown",
      "metadata": {
        "id": "TlxlcAC1a91C"
      },
      "source": [
        "### Part (b) [4 pt]\n",
        "\n",
        "Train your model. Plot the training curve of your final model. \n",
        "Your training curve should have the training/validation loss and\n",
        "accuracy plotted periodically.\n",
        "\n",
        "Note: Not all of your batches will have the same batch size.\n",
        "In particular, if your training set does not divide evenly by\n",
        "your batch size, there will be a batch that is smaller than\n",
        "the rest. "
      ]
    },
    {
      "cell_type": "code",
      "execution_count": null,
      "metadata": {
        "collapsed": true,
        "id": "CVtf7CJCa91D",
        "jupyter": {
          "outputs_hidden": true
        }
      },
      "outputs": [],
      "source": [
        "import matplotlib.pyplot as plt\n",
        "\n",
        "def train_guru(model, train, valid, num_epochs=5, learning_rate=1e-5):\n",
        "  criterion = nn.CrossEntropyLoss()\n",
        "  optimizer = torch.optim.Adam(model.parameters(), lr=learning_rate)\n",
        "  losses, train_acc, valid_acc = [], [], []\n",
        "  epochs = []\n",
        "  for epoch in range(num_epochs):\n",
        "      for batch in train:\n",
        "          optimizer.zero_grad()\n",
        "          pred = model(batch.sms[0])\n",
        "          loss = criterion(pred, batch.label)\n",
        "          loss.backward()\n",
        "          optimizer.step()\n",
        "      losses.append(float(loss))\n",
        "\n",
        "      epochs.append(epoch)\n",
        "      train_acc.append(get_accuracy(model, train))\n",
        "      valid_acc.append(get_accuracy(model, valid))\n",
        "      print(\"Epoch %d; Loss %f; Train Acc %f; Val Acc %f\" % (\n",
        "            epoch+1, loss, train_acc[-1], valid_acc[-1]))\n",
        "  # plotting\n",
        "  plt.title(\"Training Curve\")\n",
        "  plt.plot(losses, label=\"Train\")\n",
        "  plt.xlabel(\"Epoch\")\n",
        "  plt.ylabel(\"Loss\")\n",
        "  plt.show()\n",
        "\n",
        "  plt.title(\"Training Curve\")\n",
        "  plt.plot(epochs, train_acc, label=\"Train\")\n",
        "  plt.plot(epochs, valid_acc, label=\"Validation\")\n",
        "  plt.xlabel(\"Epoch\")\n",
        "  plt.ylabel(\"Accuracy\")\n",
        "  plt.legend(loc='best')\n",
        "  plt.show()"
      ]
    },
    {
      "cell_type": "markdown",
      "source": [
        "Note initially I tried to train it below with 5 epochs but hyperparameter tuning showed that 10 epochs are better so I reran it"
      ],
      "metadata": {
        "id": "SAjGurkZF5dv"
      }
    },
    {
      "cell_type": "code",
      "source": [
        "model = GURU(len(text_field.vocab.itos), 150, 2)\n",
        "train_guru(model, train_iter, val_iter, num_epochs=5, learning_rate=1e-3)"
      ],
      "metadata": {
        "colab": {
          "base_uri": "https://localhost:8080/",
          "height": 660
        },
        "id": "PbY9xsYeJxhH",
        "outputId": "968d1492-4b2d-4636-e4f5-cab824dc9636"
      },
      "execution_count": null,
      "outputs": [
        {
          "output_type": "stream",
          "name": "stdout",
          "text": [
            "Epoch 1; Loss 0.446061; Train Acc 0.929309; Val Acc 0.929309\n",
            "Epoch 2; Loss 0.091809; Train Acc 0.952272; Val Acc 0.951780\n",
            "Epoch 3; Loss 0.060998; Train Acc 0.952600; Val Acc 0.952272\n",
            "Epoch 4; Loss 0.089030; Train Acc 0.952764; Val Acc 0.952108\n",
            "Epoch 5; Loss 0.322722; Train Acc 0.961948; Val Acc 0.962277\n"
          ]
        },
        {
          "output_type": "display_data",
          "data": {
            "text/plain": [
              "<Figure size 432x288 with 1 Axes>"
            ],
            "image/png": "[encoded data removed]"
          },
          "metadata": {
            "needs_background": "light"
          }
        },
        {
          "output_type": "display_data",
          "data": {
            "text/plain": [
              "<Figure size 432x288 with 1 Axes>"
            ],
            "image/png": "[encoded data removed]"
          },
          "metadata": {
            "needs_background": "light"
          }
        }
      ]
    },
    {
      "cell_type": "markdown",
      "metadata": {
        "id": "fE3eRkDAa91F"
      },
      "source": [
        "### Part (c) [4 pt]\n",
        "\n",
        "Choose at least 4 hyperparameters to tune. Explain how you tuned the hyperparameters.\n",
        "You don't need to include your training curve for every model you trained.\n",
        "Instead, explain what hyperparemters you tuned, what the best validation accuracy was,\n",
        "and the reasoning behind the hyperparameter decisions you made.\n",
        "\n",
        "For this assignment, you should tune more than just your learning rate and epoch. \n",
        "Choose at least 2 hyperparameters that are unrelated to the optimizer."
      ]
    },
    {
      "cell_type": "markdown",
      "source": [
        "We will alter:\n",
        "- Learning rate\n",
        "- Changing hidden unit\n",
        "- Lowering number of epochs\n",
        "- Changing batch size"
      ],
      "metadata": {
        "id": "vYZcevCVCd_8"
      }
    },
    {
      "cell_type": "markdown",
      "source": [
        "Learning rate = 1e-5\n",
        "\n",
        "Lesson: Doesn't learn the data or is too slow to do so"
      ],
      "metadata": {
        "id": "ezVrKbEsHQ9L"
      }
    },
    {
      "cell_type": "code",
      "execution_count": null,
      "metadata": {
        "collapsed": true,
        "id": "A2GEWfDca91G",
        "jupyter": {
          "outputs_hidden": true
        },
        "colab": {
          "base_uri": "https://localhost:8080/",
          "height": 660
        },
        "outputId": "cca74fef-d298-4829-8c83-d6a403d7020a"
      },
      "outputs": [
        {
          "output_type": "stream",
          "name": "stdout",
          "text": [
            "Epoch 1; Loss 0.624606; Train Acc 0.526980; Val Acc 0.526980\n",
            "Epoch 2; Loss 0.799300; Train Acc 0.526980; Val Acc 0.526980\n",
            "Epoch 3; Loss 0.631500; Train Acc 0.526980; Val Acc 0.526980\n",
            "Epoch 4; Loss 0.791016; Train Acc 0.526980; Val Acc 0.526980\n",
            "Epoch 5; Loss 0.601852; Train Acc 0.526980; Val Acc 0.526980\n"
          ]
        },
        {
          "output_type": "display_data",
          "data": {
            "text/plain": [
              "<Figure size 432x288 with 1 Axes>"
            ],
            "image/png": "[encoded data removed]"
          },
          "metadata": {
            "needs_background": "light"
          }
        },
        {
          "output_type": "display_data",
          "data": {
            "text/plain": [
              "<Figure size 432x288 with 1 Axes>"
            ],
            "image/png": "[encoded data removed]"
          },
          "metadata": {
            "needs_background": "light"
          }
        }
      ],
      "source": [
        "# Learning rate = 1e-5 - Doesn't learn\n",
        "model_lr_low = GURU(len(text_field.vocab.itos), 150, 2)\n",
        "train_guru(model_lr_low, train_iter, val_iter, num_epochs=5, learning_rate=1e-5)"
      ]
    },
    {
      "cell_type": "markdown",
      "source": [
        "Learning rate = 1e-1\n",
        "\n",
        "Lesson: Achieves a good first epoch accuracy but seems to struggle in converging further"
      ],
      "metadata": {
        "id": "hpMz9NFkHY2d"
      }
    },
    {
      "cell_type": "code",
      "source": [
        "# Learning rate = 1e-1 - Achieves a good first epoch accuracy but seems to struggle in converging further\n",
        "model_lr_high = GURU(len(text_field.vocab.itos), 150, 2)\n",
        "train_guru(model_lr_high, train_iter, val_iter, num_epochs=5, learning_rate=1e-1)"
      ],
      "metadata": {
        "colab": {
          "base_uri": "https://localhost:8080/",
          "height": 660
        },
        "id": "1vgLKpsIE_Ql",
        "outputId": "6464693c-634b-4a45-f0b0-3ef00c61966a"
      },
      "execution_count": null,
      "outputs": [
        {
          "output_type": "stream",
          "name": "stdout",
          "text": [
            "Epoch 1; Loss 0.871254; Train Acc 0.945875; Val Acc 0.944891\n",
            "Epoch 2; Loss 0.052637; Train Acc 0.963589; Val Acc 0.963917\n",
            "Epoch 3; Loss 0.012958; Train Acc 0.950795; Val Acc 0.952108\n",
            "Epoch 4; Loss 0.337041; Train Acc 0.964573; Val Acc 0.963589\n",
            "Epoch 5; Loss 0.148175; Train Acc 0.969329; Val Acc 0.967689\n"
          ]
        },
        {
          "output_type": "display_data",
          "data": {
            "text/plain": [
              "<Figure size 432x288 with 1 Axes>"
            ],
            "image/png": "[encoded data removed]"
          },
          "metadata": {
            "needs_background": "light"
          }
        },
        {
          "output_type": "display_data",
          "data": {
            "text/plain": [
              "<Figure size 432x288 with 1 Axes>"
            ],
            "image/png": "[encoded data removed]"
          },
          "metadata": {
            "needs_background": "light"
          }
        }
      ]
    },
    {
      "cell_type": "markdown",
      "source": [
        "More hidden units are added\n",
        "\n",
        "Lesson: It helps us learn faster too, but it might be just because of a higher learning rate. So we will try decreasing the number of hidden units"
      ],
      "metadata": {
        "id": "U7zTxA1SHfGk"
      }
    },
    {
      "cell_type": "code",
      "source": [
        "# More hidden units\n",
        "big_model = GURU(len(text_field.vocab.itos), 200, 2)\n",
        "train_guru(big_model, train_iter, val_iter, num_epochs=5, learning_rate=1e-3)"
      ],
      "metadata": {
        "colab": {
          "base_uri": "https://localhost:8080/",
          "height": 660
        },
        "id": "_NXY6GbvFOr2",
        "outputId": "b5d5fd3d-0b23-44c2-dc0a-61c7b55aa1e9"
      },
      "execution_count": null,
      "outputs": [
        {
          "output_type": "stream",
          "name": "stdout",
          "text": [
            "Epoch 1; Loss 0.274024; Train Acc 0.936526; Val Acc 0.936690\n",
            "Epoch 2; Loss 0.068091; Train Acc 0.952764; Val Acc 0.952108\n",
            "Epoch 3; Loss 0.012173; Train Acc 0.965229; Val Acc 0.964409\n",
            "Epoch 4; Loss 0.303590; Train Acc 0.973266; Val Acc 0.973594\n",
            "Epoch 5; Loss 0.040904; Train Acc 0.965721; Val Acc 0.966541\n"
          ]
        },
        {
          "output_type": "display_data",
          "data": {
            "text/plain": [
              "<Figure size 432x288 with 1 Axes>"
            ],
            "image/png": "[encoded data removed]"
          },
          "metadata": {
            "needs_background": "light"
          }
        },
        {
          "output_type": "display_data",
          "data": {
            "text/plain": [
              "<Figure size 432x288 with 1 Axes>"
            ],
            "image/png": "[encoded data removed]"
          },
          "metadata": {
            "needs_background": "light"
          }
        }
      ]
    },
    {
      "cell_type": "markdown",
      "source": [
        "Less hidden units: The model performance was very similar to previous experiment with higher number of hidden units.\n",
        "\n",
        "Lesson: We observe that number of hidden units does not make that big of a difference"
      ],
      "metadata": {
        "id": "co2vemuKJ2PD"
      }
    },
    {
      "cell_type": "code",
      "source": [
        "# Less hidden units\n",
        "small_model = GURU(len(text_field.vocab.itos), 100, 2)\n",
        "train_guru(small_model, train_iter, val_iter, num_epochs=5, learning_rate=1e-3)"
      ],
      "metadata": {
        "colab": {
          "base_uri": "https://localhost:8080/",
          "height": 660
        },
        "id": "FBi2KxKSFlnJ",
        "outputId": "26ad8ce7-ec77-4e18-9f20-9ab90af5feee"
      },
      "execution_count": null,
      "outputs": [
        {
          "output_type": "stream",
          "name": "stdout",
          "text": [
            "Epoch 1; Loss 0.112131; Train Acc 0.921601; Val Acc 0.920945\n",
            "Epoch 2; Loss 0.320226; Train Acc 0.950467; Val Acc 0.949319\n",
            "Epoch 3; Loss 0.034133; Train Acc 0.955716; Val Acc 0.956864\n",
            "Epoch 4; Loss 0.885681; Train Acc 0.954568; Val Acc 0.954404\n",
            "Epoch 5; Loss 0.160016; Train Acc 0.961456; Val Acc 0.961292\n"
          ]
        },
        {
          "output_type": "display_data",
          "data": {
            "text/plain": [
              "<Figure size 432x288 with 1 Axes>"
            ],
            "image/png": "[encoded data removed]"
          },
          "metadata": {
            "needs_background": "light"
          }
        },
        {
          "output_type": "display_data",
          "data": {
            "text/plain": [
              "<Figure size 432x288 with 1 Axes>"
            ],
            "image/png": "[encoded data removed]"
          },
          "metadata": {
            "needs_background": "light"
          }
        }
      ]
    },
    {
      "cell_type": "markdown",
      "source": [
        "Epoch = 10\n",
        "\n",
        "Lesson: More number of epochs definetly helped us to reach a higher train and validation accuracy!"
      ],
      "metadata": {
        "id": "WJYyYMZjKIAH"
      }
    },
    {
      "cell_type": "code",
      "source": [
        "# More epochs\n",
        "model = GURU(len(text_field.vocab.itos), 150, 2)\n",
        "train_guru(model, train_iter, val_iter, num_epochs=10, learning_rate=1e-3)"
      ],
      "metadata": {
        "colab": {
          "base_uri": "https://localhost:8080/",
          "height": 746
        },
        "id": "OPGid2ix7hR9",
        "outputId": "f5552a5a-149a-4f68-9a38-4d27337e7843"
      },
      "execution_count": null,
      "outputs": [
        {
          "output_type": "stream",
          "name": "stdout",
          "text": [
            "Epoch 1; Loss 0.198448; Train Acc 0.936526; Val Acc 0.935870\n",
            "Epoch 2; Loss 0.026090; Train Acc 0.953748; Val Acc 0.953092\n",
            "Epoch 3; Loss 0.063039; Train Acc 0.962441; Val Acc 0.961128\n",
            "Epoch 4; Loss 0.009400; Train Acc 0.965557; Val Acc 0.965229\n",
            "Epoch 5; Loss 0.057929; Train Acc 0.972117; Val Acc 0.972117\n",
            "Epoch 6; Loss 0.044658; Train Acc 0.972773; Val Acc 0.972445\n",
            "Epoch 7; Loss 0.048001; Train Acc 0.981630; Val Acc 0.982614\n",
            "Epoch 8; Loss 0.026755; Train Acc 0.985895; Val Acc 0.986059\n",
            "Epoch 9; Loss 0.016324; Train Acc 0.983270; Val Acc 0.983927\n",
            "Epoch 10; Loss 0.015428; Train Acc 0.994752; Val Acc 0.994916\n"
          ]
        },
        {
          "output_type": "display_data",
          "data": {
            "text/plain": [
              "<Figure size 432x288 with 1 Axes>"
            ],
            "image/png": "[encoded data removed]"
          },
          "metadata": {
            "needs_background": "light"
          }
        },
        {
          "output_type": "display_data",
          "data": {
            "text/plain": [
              "<Figure size 432x288 with 1 Axes>"
            ],
            "image/png": "[encoded data removed]"
          },
          "metadata": {
            "needs_background": "light"
          }
        }
      ]
    },
    {
      "cell_type": "markdown",
      "source": [
        "Batch size = 64\n",
        "\n",
        "Lesson: The training curve had a huge dip in performance at epoch 2 and the final val accuracy is lower than the model with batch size = 32. Hence, increasing batch size does not help us"
      ],
      "metadata": {
        "id": "7GBs8Oj6LUvZ"
      }
    },
    {
      "cell_type": "code",
      "source": [
        "train_iter = torchtext.legacy.data.BucketIterator(train,\n",
        "                                           batch_size=64,\n",
        "                                           sort_key=lambda x: len(x.sms), # to minimize padding\n",
        "                                           sort_within_batch=True,        # sort within each batch\n",
        "                                           repeat=False)                  # repeat the iterator for many epochs\n",
        "\n",
        "val_iter = torchtext.legacy.data.BucketIterator(valid,\n",
        "                                           batch_size=64,\n",
        "                                           sort_key=lambda x: len(x.sms), # to minimize padding\n",
        "                                           sort_within_batch=True,        # sort within each batch\n",
        "                                           repeat=False)                  # repeat the iterator for many epochs"
      ],
      "metadata": {
        "id": "K_TY-k6PGcZY"
      },
      "execution_count": null,
      "outputs": []
    },
    {
      "cell_type": "code",
      "source": [
        "model_64 = GURU(len(text_field.vocab.itos), 150, 2)\n",
        "train_guru(model_64, train_iter, val_iter, num_epochs=5, learning_rate=1e-3)"
      ],
      "metadata": {
        "colab": {
          "base_uri": "https://localhost:8080/",
          "height": 660
        },
        "id": "zqbqRfNWJkKE",
        "outputId": "6275a944-4d46-4748-b011-7bb880cfcace"
      },
      "execution_count": null,
      "outputs": [
        {
          "output_type": "stream",
          "name": "stdout",
          "text": [
            "Epoch 1; Loss 0.110442; Train Acc 0.928653; Val Acc 0.928981\n",
            "Epoch 2; Loss 0.419850; Train Acc 0.665737; Val Acc 0.665737\n",
            "Epoch 3; Loss 0.714833; Train Acc 0.749057; Val Acc 0.749057\n",
            "Epoch 4; Loss 0.236843; Train Acc 0.869280; Val Acc 0.869280\n",
            "Epoch 5; Loss 0.127495; Train Acc 0.931770; Val Acc 0.931442\n"
          ]
        },
        {
          "output_type": "display_data",
          "data": {
            "text/plain": [
              "<Figure size 432x288 with 1 Axes>"
            ],
            "image/png": "[encoded data removed]"
          },
          "metadata": {
            "needs_background": "light"
          }
        },
        {
          "output_type": "display_data",
          "data": {
            "text/plain": [
              "<Figure size 432x288 with 1 Axes>"
            ],
            "image/png": "[encoded data removed]"
          },
          "metadata": {
            "needs_background": "light"
          }
        }
      ]
    },
    {
      "cell_type": "markdown",
      "source": [
        "Batch size = 16\n",
        "\n",
        "Lesson: Batch size = 16 gives a minor accuracy gain over our base model with batch size 32."
      ],
      "metadata": {
        "id": "B3L5wqLwLxgh"
      }
    },
    {
      "cell_type": "code",
      "source": [
        "train_iter = torchtext.legacy.data.BucketIterator(train,\n",
        "                                           batch_size=16,\n",
        "                                           sort_key=lambda x: len(x.sms), # to minimize padding\n",
        "                                           sort_within_batch=True,        # sort within each batch\n",
        "                                           repeat=False)                  # repeat the iterator for many epochs\n",
        "\n",
        "val_iter = torchtext.legacy.data.BucketIterator(valid,\n",
        "                                           batch_size=16,\n",
        "                                           sort_key=lambda x: len(x.sms), # to minimize padding\n",
        "                                           sort_within_batch=True,        # sort within each batch\n",
        "                                           repeat=False)                  # repeat the iterator for many epochs"
      ],
      "metadata": {
        "id": "Nf2Uw_PdKliO"
      },
      "execution_count": null,
      "outputs": []
    },
    {
      "cell_type": "code",
      "source": [
        "model_16 = GURU(len(text_field.vocab.itos), 150, 2)\n",
        "train_guru(model_16, train_iter, val_iter, num_epochs=5, learning_rate=1e-3)"
      ],
      "metadata": {
        "colab": {
          "base_uri": "https://localhost:8080/",
          "height": 660
        },
        "id": "jy_U11OWKoHr",
        "outputId": "23758e1a-b5f8-463a-ed8e-11fb2ccc5ec5"
      },
      "execution_count": null,
      "outputs": [
        {
          "output_type": "stream",
          "name": "stdout",
          "text": [
            "Epoch 1; Loss 0.040450; Train Acc 0.951452; Val Acc 0.951124\n",
            "Epoch 2; Loss 0.014490; Train Acc 0.958832; Val Acc 0.958340\n",
            "Epoch 3; Loss 0.066004; Train Acc 0.968673; Val Acc 0.967525\n",
            "Epoch 4; Loss 0.047996; Train Acc 0.976874; Val Acc 0.978022\n",
            "Epoch 5; Loss 0.007523; Train Acc 0.981630; Val Acc 0.980810\n"
          ]
        },
        {
          "output_type": "display_data",
          "data": {
            "text/plain": [
              "<Figure size 432x288 with 1 Axes>"
            ],
            "image/png": "[encoded data removed]"
          },
          "metadata": {
            "needs_background": "light"
          }
        },
        {
          "output_type": "display_data",
          "data": {
            "text/plain": [
              "<Figure size 432x288 with 1 Axes>"
            ],
            "image/png": "[encoded data removed]"
          },
          "metadata": {
            "needs_background": "light"
          }
        }
      ]
    },
    {
      "cell_type": "markdown",
      "source": [
        "From the experiments above we choose:\n",
        "- Learning rate = 1e-3\n",
        "- Hidden units = 150\n",
        "- Epoch = 10\n",
        "- Batch size = 16"
      ],
      "metadata": {
        "id": "exXV0DMpMW3C"
      }
    },
    {
      "cell_type": "code",
      "source": [
        "final_model = GURU(len(text_field.vocab.itos), 150, 2)\n",
        "train_guru(final_model, train_iter, val_iter, num_epochs=10, learning_rate=1e-3)"
      ],
      "metadata": {
        "colab": {
          "base_uri": "https://localhost:8080/",
          "height": 746
        },
        "id": "32sKWdL-MpXr",
        "outputId": "f810aa09-90aa-44a5-b340-a83002691345"
      },
      "execution_count": null,
      "outputs": [
        {
          "output_type": "stream",
          "name": "stdout",
          "text": [
            "Epoch 1; Loss 0.039686; Train Acc 0.961456; Val Acc 0.961292\n",
            "Epoch 2; Loss 0.011357; Train Acc 0.964737; Val Acc 0.964409\n",
            "Epoch 3; Loss 0.069452; Train Acc 0.977858; Val Acc 0.976874\n",
            "Epoch 4; Loss 0.076722; Train Acc 0.974906; Val Acc 0.977202\n",
            "Epoch 5; Loss 0.006192; Train Acc 0.990487; Val Acc 0.990815\n",
            "Epoch 6; Loss 0.001352; Train Acc 0.989995; Val Acc 0.990651\n",
            "Epoch 7; Loss 0.000121; Train Acc 0.998196; Val Acc 0.998196\n",
            "Epoch 8; Loss 0.008194; Train Acc 0.996884; Val Acc 0.997048\n",
            "Epoch 9; Loss 0.000845; Train Acc 0.999672; Val Acc 0.999836\n",
            "Epoch 10; Loss 0.000564; Train Acc 1.000000; Val Acc 1.000000\n"
          ]
        },
        {
          "output_type": "display_data",
          "data": {
            "text/plain": [
              "<Figure size 432x288 with 1 Axes>"
            ],
            "image/png": "[encoded data removed]"
          },
          "metadata": {
            "needs_background": "light"
          }
        },
        {
          "output_type": "display_data",
          "data": {
            "text/plain": [
              "<Figure size 432x288 with 1 Axes>"
            ],
            "image/png": "[encoded data removed]"
          },
          "metadata": {
            "needs_background": "light"
          }
        }
      ]
    },
    {
      "cell_type": "markdown",
      "metadata": {
        "id": "v7DY56rKa91I"
      },
      "source": [
        "### Part (d) [2 pt]\n",
        "\n",
        "Before we deploy a machine learning model, we usually want to have a better understanding\n",
        "of how our model performs beyond its validation accuracy. An important metric to track is\n",
        "*how well our model performs in certain subsets of the data*.\n",
        "\n",
        "In particular, what is the model's error rate amongst data with negative labels?\n",
        "This is called the **false positive rate**.\n",
        "\n",
        "What about the model's error rate amongst data with positive labels?\n",
        "This is called the **false negative rate**.\n",
        "\n",
        "Report your final model's false positive and false negative rate across the\n",
        "validation set."
      ]
    },
    {
      "cell_type": "code",
      "execution_count": null,
      "metadata": {
        "collapsed": true,
        "id": "7ggbQSdba91J",
        "jupyter": {
          "outputs_hidden": true
        }
      },
      "outputs": [],
      "source": [
        "# Create a Dataset of only spam validation examples\n",
        "valid_spam = torchtext.legacy.data.Dataset(\n",
        "    [e for e in valid.examples if e.label == 1],\n",
        "    valid.fields)\n",
        "\n",
        "# Create a Dataset of only non-spam validation examples\n",
        "valid_nospam = torchtext.legacy.data.Dataset(\n",
        "    [e for e in valid.examples if e.label == 0],\n",
        "    valid.fields)\n",
        "\n",
        "# Negative labels: No - spam\n",
        "# Positive labels: Spam"
      ]
    },
    {
      "cell_type": "code",
      "source": [
        "# false negative rate\n",
        "1 - get_accuracy(final_model, valid_spam)"
      ],
      "metadata": {
        "colab": {
          "base_uri": "https://localhost:8080/"
        },
        "id": "UDsxZQisL8eK",
        "outputId": "8c606b52-3ce0-411c-e8c2-820e115e487c"
      },
      "execution_count": null,
      "outputs": [
        {
          "output_type": "execute_result",
          "data": {
            "text/plain": [
              "0.03706741020173854"
            ]
          },
          "metadata": {},
          "execution_count": 61
        }
      ]
    },
    {
      "cell_type": "code",
      "source": [
        "# false positive rate\n",
        "1 - get_accuracy(final_model, valid_nospam)"
      ],
      "metadata": {
        "colab": {
          "base_uri": "https://localhost:8080/"
        },
        "id": "80vAx7PtPOEB",
        "outputId": "a0616139-14dd-4a2b-a0f4-bcac36e8b1c3"
      },
      "execution_count": null,
      "outputs": [
        {
          "output_type": "execute_result",
          "data": {
            "text/plain": [
              "0.03772347055929148"
            ]
          },
          "metadata": {},
          "execution_count": 60
        }
      ]
    },
    {
      "cell_type": "markdown",
      "metadata": {
        "id": "N1iRteb3a91O"
      },
      "source": [
        "### Part (e) [2 pt]\n",
        "\n",
        "The impact of a false positive vs a false negative can be drastically different.\n",
        "If our spam detection algorithm was deployed on your phone, what is the impact\n",
        "of a false positive on the phone's user? What is the impact of a false negative?"
      ]
    },
    {
      "cell_type": "markdown",
      "source": [
        "ANS:\n",
        "\n",
        "Imapct of false positive:\n",
        "In our case negative labels refer to no-spam labels. So if no-spam messages were regarded as spam then we might some important and legitimate messages as the algorithm might block them\n",
        "\n",
        "Impact of false negative:\n",
        "In our case spam messages might be passed out as no-spam and this makes the user vulnerable to spam messages and can lead to huge losses if the consumer is not careful"
      ],
      "metadata": {
        "id": "XbaEGmiNQm_b"
      }
    },
    {
      "cell_type": "markdown",
      "metadata": {
        "id": "Gznefulsa91V"
      },
      "source": [
        "## Part 4. Evaluation [11 pt]\n",
        "\n",
        "### Part (a) [1 pt]\n",
        "\n",
        "Report the final test accuracy of your model."
      ]
    },
    {
      "cell_type": "code",
      "execution_count": null,
      "metadata": {
        "collapsed": true,
        "id": "D5L5D-A1a91W",
        "jupyter": {
          "outputs_hidden": true
        },
        "colab": {
          "base_uri": "https://localhost:8080/"
        },
        "outputId": "0b6f2bd2-2f55-4d57-8889-cc5c66706196"
      },
      "outputs": [
        {
          "output_type": "execute_result",
          "data": {
            "text/plain": [
              "0.9806462194521895"
            ]
          },
          "metadata": {},
          "execution_count": 67
        }
      ],
      "source": [
        "get_accuracy(final_model, test_iter)"
      ]
    },
    {
      "cell_type": "markdown",
      "metadata": {
        "id": "6Hjmd8rca91Y"
      },
      "source": [
        "### Part (b) [3 pt]\n",
        "\n",
        "Report the false positive rate and false negative rate of your model across the test set."
      ]
    },
    {
      "cell_type": "code",
      "execution_count": null,
      "metadata": {
        "collapsed": true,
        "id": "GFiAKztJa91Z",
        "jupyter": {
          "outputs_hidden": true
        }
      },
      "outputs": [],
      "source": [
        "# Create a Dataset of only spam validation examples\n",
        "test_spam = torchtext.legacy.data.Dataset(\n",
        "    [e for e in test.examples if e.label == 1],\n",
        "    test.fields)\n",
        "\n",
        "# Create a Dataset of only non-spam validation examples\n",
        "test_nospam = torchtext.legacy.data.Dataset(\n",
        "    [e for e in test.examples if e.label == 0],\n",
        "    test.fields)\n",
        "\n",
        "# Negative labels: No - spam\n",
        "# Positive labels: Spam"
      ]
    },
    {
      "cell_type": "code",
      "source": [
        "# false negative rate\n",
        "1 - get_accuracy(final_model, test_spam)"
      ],
      "metadata": {
        "colab": {
          "base_uri": "https://localhost:8080/"
        },
        "id": "W2Yijw13Q2Yg",
        "outputId": "ce469d25-888d-4e45-f165-18b291fde23c"
      },
      "execution_count": null,
      "outputs": [
        {
          "output_type": "execute_result",
          "data": {
            "text/plain": [
              "0.01886173527964574"
            ]
          },
          "metadata": {},
          "execution_count": 68
        }
      ]
    },
    {
      "cell_type": "code",
      "source": [
        "# false positive rate\n",
        "1 - get_accuracy(final_model, test_nospam)"
      ],
      "metadata": {
        "colab": {
          "base_uri": "https://localhost:8080/"
        },
        "id": "M_C7ZBfpQ7DU",
        "outputId": "74efe90d-97f9-4fb8-9961-6749b8193bee"
      },
      "execution_count": null,
      "outputs": [
        {
          "output_type": "execute_result",
          "data": {
            "text/plain": [
              "0.01804165983270456"
            ]
          },
          "metadata": {},
          "execution_count": 69
        }
      ]
    },
    {
      "cell_type": "markdown",
      "metadata": {
        "id": "0jGHtQFpa91b"
      },
      "source": [
        "### Part (c) [3 pt]\n",
        "\n",
        "What is your model's prediction of the **probability** that\n",
        "the SMS message \"machine learning is sooo cool!\" is spam?\n",
        "\n",
        "Hint: To begin, use `text_field.vocab.stoi` to look up the index\n",
        "of each character in the vocabulary."
      ]
    },
    {
      "cell_type": "code",
      "execution_count": null,
      "metadata": {
        "collapsed": true,
        "id": "h_2nSJq8a91b",
        "jupyter": {
          "outputs_hidden": true
        },
        "colab": {
          "base_uri": "https://localhost:8080/"
        },
        "outputId": "407b2128-fdf9-44b8-f198-db85da487381"
      },
      "outputs": [
        {
          "output_type": "stream",
          "name": "stdout",
          "text": [
            "tensor([[17,  6, 16, 14,  9,  7,  3,  2, 11,  3,  6,  8,  7,  9,  7, 22,  2,  9,\n",
            "         10,  2, 10,  4,  4,  4,  2, 16,  4,  4, 11, 45]])\n"
          ]
        }
      ],
      "source": [
        "msg = \"machine learning is sooo cool!\"\n",
        "vocab_mapping = []\n",
        "for i in range(len(msg)):\n",
        "  if msg[i] in text_field.vocab.stoi.keys():\n",
        "    vocab_mapping.append(text_field.vocab.stoi[msg[i]])\n",
        "  else:\n",
        "    vocab_mapping.append(0)\n",
        "\n",
        "print(torch.LongTensor([vocab_mapping]))"
      ]
    },
    {
      "cell_type": "code",
      "source": [
        "m = nn.Softmax(dim=1)\n",
        "out = model(torch.LongTensor([vocab_mapping]))\n",
        "out = m(out)[0]\n",
        "print(out)\n",
        "if out[0] > 0.5:\n",
        "  print(\"Prediction: No spam\")\n",
        "else:\n",
        "  print(\"Prediction: Spam\")"
      ],
      "metadata": {
        "colab": {
          "base_uri": "https://localhost:8080/"
        },
        "id": "-miD-yqYUtca",
        "outputId": "ef5fe95c-46d2-485c-afcd-e5c6c0196084"
      },
      "execution_count": null,
      "outputs": [
        {
          "output_type": "stream",
          "name": "stdout",
          "text": [
            "tensor([0.9453, 0.0547], grad_fn=<SelectBackward0>)\n",
            "Prediction: No spam\n"
          ]
        }
      ]
    },
    {
      "cell_type": "markdown",
      "metadata": {
        "id": "QD1zgYJpa91f"
      },
      "source": [
        "### Part (d) [4 pt]\n",
        "\n",
        "Do you think detecting spam is an easy or difficult task?\n",
        "\n",
        "Since machine learning models are expensive to train and deploy, it is very\n",
        "important to compare our models against baseline models: a simple\n",
        "model that is easy to build and inexpensive to run that we can compare our\n",
        "recurrent neural network model against.\n",
        "\n",
        "Explain how you might build a simple baseline model. This baseline model\n",
        "can be a simple neural network (with very few weights), a hand-written algorithm,\n",
        "or any other strategy that is easy to build and test.\n",
        "\n",
        "**Do not actually build a baseline model. Instead, provide instructions on\n",
        "how to build it.**"
      ]
    },
    {
      "cell_type": "markdown",
      "source": [
        "ANS:\n",
        "\n",
        "I have once worked with naive bayes for a similar task. It works as follows:\n",
        "\n",
        "It uses the probability of words appearing in each category. In other words this is the probability of a word appearing given we know the category\n",
        "\n",
        "This is a pure statistical method So there is no training loops as such. In this case, we just calculate the probability of each word based on our train dataset.\n",
        "\n",
        "Then when we see a new example (test data) we get the probability of all classes using the following formula:\n",
        "\n",
        "P(class) \\* P(word 0 given the class) \\* P(word 1 given the class) * ...\n",
        "\n",
        "And so on for all the classes. At the end the class with the max probability is selected"
      ],
      "metadata": {
        "id": "TBz-0s1xXOeQ"
      }
    },
    {
      "cell_type": "markdown",
      "source": [
        "---\n",
        "# The end"
      ],
      "metadata": {
        "id": "6qmEnJ5DXRrP"
      }
    }
  ],
  "metadata": {
    "colab": {
      "collapsed_sections": [],
      "name": "Lab_5_Spam_Detection_Winter_2022.ipynb",
      "provenance": []
    },
    "kernelspec": {
      "display_name": "Python 3 (ipykernel)",
      "language": "python",
      "name": "python3"
    },
    "language_info": {
      "codemirror_mode": {
        "name": "ipython",
        "version": 3
      },
      "file_extension": ".py",
      "mimetype": "text/x-python",
      "name": "python",
      "nbconvert_exporter": "python",
      "pygments_lexer": "ipython3",
      "version": "3.9.4"
    }
  },
  "nbformat": 4,
  "nbformat_minor": 0
}