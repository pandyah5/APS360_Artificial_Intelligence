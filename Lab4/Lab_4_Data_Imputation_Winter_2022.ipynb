{
  "cells": [
    {
      "cell_type": "markdown",
      "metadata": {
        "id": "OhtOdxzd1ppr"
      },
      "source": [
        "# Lab 4: Data Imputation using an Autoencoder\n",
        "\n",
        "**Deadline**: Mon, Mar 07, 5:00pm\n",
        "\n",
        "**Late Penalty**:  Any work that is submitted between 0 hour and 24 hours past the deadline will receive a 20% grade deduction. No other late work is accepted. Quercus submission time will be used, not your local computer time. You can submit your labs as many times as you want before the deadline, so please submit often and early.\n",
        "\n",
        "**TA**: Shiva Akbari <shiva.akbari@mail.utoronto.ca>\n",
        "\n",
        "In this lab, you will build and train an autoencoder to impute (or \"fill in\") missing data. \n",
        "\n",
        "We will be using the\n",
        "Adult Data Set provided by the UCI Machine Learning Repository [1], available \n",
        "at https://archive.ics.uci.edu/ml/datasets/adult.\n",
        "The data set contains census record files of adults, including their\n",
        "age, martial status, the type of work they do, and other features. \n",
        "\n",
        "Normally, people use this data set to build a supervised classification\n",
        "model to classify whether a person is a high income earner.\n",
        "We will not use the dataset for this original intended purpose.\n",
        "\n",
        "Instead, we will perform the task of imputing (or \"filling in\") missing values in the dataset. For example,\n",
        "we may be missing one person's martial status, and another person's age, and\n",
        "a third person's level of education. Our model will predict the missing features \n",
        "based on the information that we do have about each person.\n",
        "\n",
        "We will use a variation of a denoising autoencoder to solve this data imputation\n",
        "problem. Our autoencoder will be trained using inputs that have one categorical feature artificially\n",
        "removed, and the goal of the autoencoder is to correctly reconstruct all features,\n",
        "including the one removed from the input.\n",
        "\n",
        "In the process, you are expected to learn to:\n",
        "\n",
        "1. Clean and process continuous and categorical data for machine learning.\n",
        "2. Implement an autoencoder that takes continuous and categorical (one-hot) inputs.\n",
        "3. Tune the hyperparameters of an autoencoder.\n",
        "4. Use baseline models to help interpret model performance.\n",
        "\n",
        "[1] Dua, D. and Karra Taniskidou, E. (2017). UCI Machine Learning Repository [http://archive.ics.uci.edu/ml]. Irvine, CA: University of California, School of Information and Computer Science.\n",
        "\n",
        "\n",
        "### What to submit\n",
        "\n",
        "Submit a PDF file containing all your code, outputs, and write-up. You can produce a PDF of your Google Colab file by going to File > Print and then save as PDF. The Colab instructions have more information (.html files are also acceptable).\n",
        "\n",
        "Do not submit any other files produced by your code.\n",
        "\n",
        "Include a link to your colab file in your submission.\n"
      ]
    },
    {
      "cell_type": "markdown",
      "metadata": {
        "id": "zbnrp2ig1pps"
      },
      "source": [
        "## Colab Link\n",
        "\n",
        "Include a link to your Colab file here. If you would like the TA to look at your\n",
        "Colab file in case your solutions are cut off, **please make sure that your Colab\n",
        "file is publicly accessible at the time of submission**.\n",
        "\n",
        "Colab Link: https://colab.research.google.com/drive/1omJdq9sC3EjUKiaZa2zv14_ncPtsHonL?usp=sharing"
      ]
    },
    {
      "cell_type": "code",
      "execution_count": null,
      "metadata": {
        "collapsed": true,
        "id": "z3p8N43E1ppt",
        "jupyter": {
          "outputs_hidden": true
        }
      },
      "outputs": [],
      "source": [
        "import csv\n",
        "import numpy as np\n",
        "import random\n",
        "import torch\n",
        "import torch.utils.data\n",
        "from torch.utils.data import TensorDataset, DataLoader\n",
        "import matplotlib.pyplot as plt"
      ]
    },
    {
      "cell_type": "markdown",
      "metadata": {
        "id": "8ROwtHcz1ppx"
      },
      "source": [
        "## Part 0\n",
        "\n",
        "We will be using a package called `pandas` for this assignment. \n",
        "\n",
        "If you are using Colab, `pandas` should already be available.\n",
        "If you are using your own computer,\n",
        "installation instructions for `pandas` are available here: \n",
        "https://pandas.pydata.org/pandas-docs/stable/install.html"
      ]
    },
    {
      "cell_type": "code",
      "execution_count": null,
      "metadata": {
        "collapsed": true,
        "id": "IXQ7BP151ppz",
        "jupyter": {
          "outputs_hidden": true
        }
      },
      "outputs": [],
      "source": [
        "import pandas as pd"
      ]
    },
    {
      "cell_type": "markdown",
      "metadata": {
        "id": "hqXihb4Q1pp2"
      },
      "source": [
        "# Part 1. Data Cleaning [15 pt]\n",
        "\n",
        "The adult.data file is available at `https://archive.ics.uci.edu/ml/machine-learning-databases/adult/adult.data`\n",
        "\n",
        "The function `pd.read_csv` loads the adult.data file into a pandas dataframe.\n",
        "You can read about the pandas documentation for `pd.read_csv` at\n",
        "https://pandas.pydata.org/pandas-docs/stable/reference/api/pandas.read_csv.html"
      ]
    },
    {
      "cell_type": "code",
      "execution_count": null,
      "metadata": {
        "colab": {
          "base_uri": "https://localhost:8080/"
        },
        "collapsed": true,
        "id": "EOMItFKn1pp3",
        "jupyter": {
          "outputs_hidden": true
        },
        "outputId": "edfc7a02-9876-4e2f-d8a2-2330a661d425"
      },
      "outputs": [
        {
          "output_type": "stream",
          "name": "stderr",
          "text": [
            "/usr/local/lib/python3.7/dist-packages/pandas/util/_decorators.py:311: ParserWarning: Length of header or names does not match length of data. This leads to a loss of data with index_col=False.\n",
            "  return func(*args, **kwargs)\n"
          ]
        }
      ],
      "source": [
        "header = ['age', 'work', 'fnlwgt', 'edu', 'yredu', 'marriage', 'occupation',\n",
        " 'relationship', 'race', 'sex', 'capgain', 'caploss', 'workhr', 'country']\n",
        "df = pd.read_csv(\n",
        "    \"https://archive.ics.uci.edu/ml/machine-learning-databases/adult/adult.data\",\n",
        "    names=header,\n",
        "    index_col=False)"
      ]
    },
    {
      "cell_type": "code",
      "execution_count": null,
      "metadata": {
        "colab": {
          "base_uri": "https://localhost:8080/"
        },
        "id": "62Ot405q1pp5",
        "outputId": "d5eb0859-7040-45ed-a1e5-6c9277e39d17",
        "scrolled": true
      },
      "outputs": [
        {
          "output_type": "execute_result",
          "data": {
            "text/plain": [
              "(32561, 14)"
            ]
          },
          "metadata": {},
          "execution_count": 4
        }
      ],
      "source": [
        "df.shape # there are 32561 rows (records) in the data frame, and 14 columns (features)"
      ]
    },
    {
      "cell_type": "markdown",
      "metadata": {
        "id": "Tr7YG-QY1pp8"
      },
      "source": [
        "### Part (a) Continuous Features [3 pt]\n",
        "\n",
        "For each of the columns `[\"age\", \"yredu\", \"capgain\", \"caploss\", \"workhr\"]`, report the minimum, maximum, and average value across the dataset. \n",
        "\n",
        "Then, normalize each of the features `[\"age\", \"yredu\", \"capgain\", \"caploss\", \"workhr\"]`\n",
        "so that their values are always between 0 and 1.\n",
        "Make sure that you are actually modifying the dataframe `df`. \n",
        "\n",
        "Like numpy arrays and torch tensors, \n",
        "pandas data frames can be sliced. For example, we can\n",
        "display the first 3 rows of the data frame (3 records) below."
      ]
    },
    {
      "cell_type": "code",
      "execution_count": null,
      "metadata": {
        "colab": {
          "base_uri": "https://localhost:8080/",
          "height": 239
        },
        "id": "9evSLsSa1pp9",
        "outputId": "59f4718c-17f8-4659-bd4b-612250fb6e9f"
      },
      "outputs": [
        {
          "output_type": "execute_result",
          "data": {
            "text/html": [
              "\n",
              "  <div id=\"df-0b18b53b-c547-4845-aede-092c56977327\">\n",
              "    <div class=\"colab-df-container\">\n",
              "      <div>\n",
              "<style scoped>\n",
              "    .dataframe tbody tr th:only-of-type {\n",
              "        vertical-align: middle;\n",
              "    }\n",
              "\n",
              "    .dataframe tbody tr th {\n",
              "        vertical-align: top;\n",
              "    }\n",
              "\n",
              "    .dataframe thead th {\n",
              "        text-align: right;\n",
              "    }\n",
              "</style>\n",
              "<table border=\"1\" class=\"dataframe\">\n",
              "  <thead>\n",
              "    <tr style=\"text-align: right;\">\n",
              "      <th></th>\n",
              "      <th>age</th>\n",
              "      <th>work</th>\n",
              "      <th>fnlwgt</th>\n",
              "      <th>edu</th>\n",
              "      <th>yredu</th>\n",
              "      <th>marriage</th>\n",
              "      <th>occupation</th>\n",
              "      <th>relationship</th>\n",
              "      <th>race</th>\n",
              "      <th>sex</th>\n",
              "      <th>capgain</th>\n",
              "      <th>caploss</th>\n",
              "      <th>workhr</th>\n",
              "      <th>country</th>\n",
              "    </tr>\n",
              "  </thead>\n",
              "  <tbody>\n",
              "    <tr>\n",
              "      <th>0</th>\n",
              "      <td>39</td>\n",
              "      <td>State-gov</td>\n",
              "      <td>77516</td>\n",
              "      <td>Bachelors</td>\n",
              "      <td>13</td>\n",
              "      <td>Never-married</td>\n",
              "      <td>Adm-clerical</td>\n",
              "      <td>Not-in-family</td>\n",
              "      <td>White</td>\n",
              "      <td>Male</td>\n",
              "      <td>2174</td>\n",
              "      <td>0</td>\n",
              "      <td>40</td>\n",
              "      <td>United-States</td>\n",
              "    </tr>\n",
              "    <tr>\n",
              "      <th>1</th>\n",
              "      <td>50</td>\n",
              "      <td>Self-emp-not-inc</td>\n",
              "      <td>83311</td>\n",
              "      <td>Bachelors</td>\n",
              "      <td>13</td>\n",
              "      <td>Married-civ-spouse</td>\n",
              "      <td>Exec-managerial</td>\n",
              "      <td>Husband</td>\n",
              "      <td>White</td>\n",
              "      <td>Male</td>\n",
              "      <td>0</td>\n",
              "      <td>0</td>\n",
              "      <td>13</td>\n",
              "      <td>United-States</td>\n",
              "    </tr>\n",
              "    <tr>\n",
              "      <th>2</th>\n",
              "      <td>38</td>\n",
              "      <td>Private</td>\n",
              "      <td>215646</td>\n",
              "      <td>HS-grad</td>\n",
              "      <td>9</td>\n",
              "      <td>Divorced</td>\n",
              "      <td>Handlers-cleaners</td>\n",
              "      <td>Not-in-family</td>\n",
              "      <td>White</td>\n",
              "      <td>Male</td>\n",
              "      <td>0</td>\n",
              "      <td>0</td>\n",
              "      <td>40</td>\n",
              "      <td>United-States</td>\n",
              "    </tr>\n",
              "  </tbody>\n",
              "</table>\n",
              "</div>\n",
              "      <button class=\"colab-df-convert\" onclick=\"convertToInteractive('df-0b18b53b-c547-4845-aede-092c56977327')\"\n",
              "              title=\"Convert this dataframe to an interactive table.\"\n",
              "              style=\"display:none;\">\n",
              "        \n",
              "  <svg xmlns=\"http://www.w3.org/2000/svg\" height=\"24px\"viewBox=\"0 0 24 24\"\n",
              "       width=\"24px\">\n",
              "    <path d=\"M0 0h24v24H0V0z\" fill=\"none\"/>\n",
              "    <path d=\"M18.56 5.44l.94 2.06.94-2.06 2.06-.94-2.06-.94-.94-2.06-.94 2.06-2.06.94zm-11 1L8.5 8.5l.94-2.06 2.06-.94-2.06-.94L8.5 2.5l-.94 2.06-2.06.94zm10 10l.94 2.06.94-2.06 2.06-.94-2.06-.94-.94-2.06-.94 2.06-2.06.94z\"/><path d=\"M17.41 7.96l-1.37-1.37c-.4-.4-.92-.59-1.43-.59-.52 0-1.04.2-1.43.59L10.3 9.45l-7.72 7.72c-.78.78-.78 2.05 0 2.83L4 21.41c.39.39.9.59 1.41.59.51 0 1.02-.2 1.41-.59l7.78-7.78 2.81-2.81c.8-.78.8-2.07 0-2.86zM5.41 20L4 18.59l7.72-7.72 1.47 1.35L5.41 20z\"/>\n",
              "  </svg>\n",
              "      </button>\n",
              "      \n",
              "  <style>\n",
              "    .colab-df-container {\n",
              "      display:flex;\n",
              "      flex-wrap:wrap;\n",
              "      gap: 12px;\n",
              "    }\n",
              "\n",
              "    .colab-df-convert {\n",
              "      background-color: #E8F0FE;\n",
              "      border: none;\n",
              "      border-radius: 50%;\n",
              "      cursor: pointer;\n",
              "      display: none;\n",
              "      fill: #1967D2;\n",
              "      height: 32px;\n",
              "      padding: 0 0 0 0;\n",
              "      width: 32px;\n",
              "    }\n",
              "\n",
              "    .colab-df-convert:hover {\n",
              "      background-color: #E2EBFA;\n",
              "      box-shadow: 0px 1px 2px rgba(60, 64, 67, 0.3), 0px 1px 3px 1px rgba(60, 64, 67, 0.15);\n",
              "      fill: #174EA6;\n",
              "    }\n",
              "\n",
              "    [theme=dark] .colab-df-convert {\n",
              "      background-color: #3B4455;\n",
              "      fill: #D2E3FC;\n",
              "    }\n",
              "\n",
              "    [theme=dark] .colab-df-convert:hover {\n",
              "      background-color: #434B5C;\n",
              "      box-shadow: 0px 1px 3px 1px rgba(0, 0, 0, 0.15);\n",
              "      filter: drop-shadow(0px 1px 2px rgba(0, 0, 0, 0.3));\n",
              "      fill: #FFFFFF;\n",
              "    }\n",
              "  </style>\n",
              "\n",
              "      <script>\n",
              "        const buttonEl =\n",
              "          document.querySelector('#df-0b18b53b-c547-4845-aede-092c56977327 button.colab-df-convert');\n",
              "        buttonEl.style.display =\n",
              "          google.colab.kernel.accessAllowed ? 'block' : 'none';\n",
              "\n",
              "        async function convertToInteractive(key) {\n",
              "          const element = document.querySelector('#df-0b18b53b-c547-4845-aede-092c56977327');\n",
              "          const dataTable =\n",
              "            await google.colab.kernel.invokeFunction('convertToInteractive',\n",
              "                                                     [key], {});\n",
              "          if (!dataTable) return;\n",
              "\n",
              "          const docLinkHtml = 'Like what you see? Visit the ' +\n",
              "            '<a target=\"_blank\" href=https://colab.research.google.com/notebooks/data_table.ipynb>data table notebook</a>'\n",
              "            + ' to learn more about interactive tables.';\n",
              "          element.innerHTML = '';\n",
              "          dataTable['output_type'] = 'display_data';\n",
              "          await google.colab.output.renderOutput(dataTable, element);\n",
              "          const docLink = document.createElement('div');\n",
              "          docLink.innerHTML = docLinkHtml;\n",
              "          element.appendChild(docLink);\n",
              "        }\n",
              "      </script>\n",
              "    </div>\n",
              "  </div>\n",
              "  "
            ],
            "text/plain": [
              "   age               work  fnlwgt         edu  yredu             marriage  \\\n",
              "0   39          State-gov   77516   Bachelors     13        Never-married   \n",
              "1   50   Self-emp-not-inc   83311   Bachelors     13   Married-civ-spouse   \n",
              "2   38            Private  215646     HS-grad      9             Divorced   \n",
              "\n",
              "           occupation    relationship    race    sex  capgain  caploss  \\\n",
              "0        Adm-clerical   Not-in-family   White   Male     2174        0   \n",
              "1     Exec-managerial         Husband   White   Male        0        0   \n",
              "2   Handlers-cleaners   Not-in-family   White   Male        0        0   \n",
              "\n",
              "   workhr         country  \n",
              "0      40   United-States  \n",
              "1      13   United-States  \n",
              "2      40   United-States  "
            ]
          },
          "metadata": {},
          "execution_count": 5
        }
      ],
      "source": [
        "df[:3] # show the first 3 records"
      ]
    },
    {
      "cell_type": "markdown",
      "metadata": {
        "id": "gBOojI6W1pqA"
      },
      "source": [
        "Alternatively, we can slice based on column names, \n",
        "for example `df[\"race\"]`, `df[\"hr\"]`, or even index multiple columns \n",
        "like below."
      ]
    },
    {
      "cell_type": "code",
      "execution_count": null,
      "metadata": {
        "colab": {
          "base_uri": "https://localhost:8080/",
          "height": 143
        },
        "id": "4v6pp73A1pqB",
        "outputId": "23ced650-bd31-440a-b424-398f16db37c7"
      },
      "outputs": [
        {
          "output_type": "execute_result",
          "data": {
            "text/html": [
              "\n",
              "  <div id=\"df-f6c93c2e-38b2-4d0c-b5c8-6c699421714c\">\n",
              "    <div class=\"colab-df-container\">\n",
              "      <div>\n",
              "<style scoped>\n",
              "    .dataframe tbody tr th:only-of-type {\n",
              "        vertical-align: middle;\n",
              "    }\n",
              "\n",
              "    .dataframe tbody tr th {\n",
              "        vertical-align: top;\n",
              "    }\n",
              "\n",
              "    .dataframe thead th {\n",
              "        text-align: right;\n",
              "    }\n",
              "</style>\n",
              "<table border=\"1\" class=\"dataframe\">\n",
              "  <thead>\n",
              "    <tr style=\"text-align: right;\">\n",
              "      <th></th>\n",
              "      <th>age</th>\n",
              "      <th>yredu</th>\n",
              "      <th>capgain</th>\n",
              "      <th>caploss</th>\n",
              "      <th>workhr</th>\n",
              "    </tr>\n",
              "  </thead>\n",
              "  <tbody>\n",
              "    <tr>\n",
              "      <th>0</th>\n",
              "      <td>39</td>\n",
              "      <td>13</td>\n",
              "      <td>2174</td>\n",
              "      <td>0</td>\n",
              "      <td>40</td>\n",
              "    </tr>\n",
              "    <tr>\n",
              "      <th>1</th>\n",
              "      <td>50</td>\n",
              "      <td>13</td>\n",
              "      <td>0</td>\n",
              "      <td>0</td>\n",
              "      <td>13</td>\n",
              "    </tr>\n",
              "    <tr>\n",
              "      <th>2</th>\n",
              "      <td>38</td>\n",
              "      <td>9</td>\n",
              "      <td>0</td>\n",
              "      <td>0</td>\n",
              "      <td>40</td>\n",
              "    </tr>\n",
              "  </tbody>\n",
              "</table>\n",
              "</div>\n",
              "      <button class=\"colab-df-convert\" onclick=\"convertToInteractive('df-f6c93c2e-38b2-4d0c-b5c8-6c699421714c')\"\n",
              "              title=\"Convert this dataframe to an interactive table.\"\n",
              "              style=\"display:none;\">\n",
              "        \n",
              "  <svg xmlns=\"http://www.w3.org/2000/svg\" height=\"24px\"viewBox=\"0 0 24 24\"\n",
              "       width=\"24px\">\n",
              "    <path d=\"M0 0h24v24H0V0z\" fill=\"none\"/>\n",
              "    <path d=\"M18.56 5.44l.94 2.06.94-2.06 2.06-.94-2.06-.94-.94-2.06-.94 2.06-2.06.94zm-11 1L8.5 8.5l.94-2.06 2.06-.94-2.06-.94L8.5 2.5l-.94 2.06-2.06.94zm10 10l.94 2.06.94-2.06 2.06-.94-2.06-.94-.94-2.06-.94 2.06-2.06.94z\"/><path d=\"M17.41 7.96l-1.37-1.37c-.4-.4-.92-.59-1.43-.59-.52 0-1.04.2-1.43.59L10.3 9.45l-7.72 7.72c-.78.78-.78 2.05 0 2.83L4 21.41c.39.39.9.59 1.41.59.51 0 1.02-.2 1.41-.59l7.78-7.78 2.81-2.81c.8-.78.8-2.07 0-2.86zM5.41 20L4 18.59l7.72-7.72 1.47 1.35L5.41 20z\"/>\n",
              "  </svg>\n",
              "      </button>\n",
              "      \n",
              "  <style>\n",
              "    .colab-df-container {\n",
              "      display:flex;\n",
              "      flex-wrap:wrap;\n",
              "      gap: 12px;\n",
              "    }\n",
              "\n",
              "    .colab-df-convert {\n",
              "      background-color: #E8F0FE;\n",
              "      border: none;\n",
              "      border-radius: 50%;\n",
              "      cursor: pointer;\n",
              "      display: none;\n",
              "      fill: #1967D2;\n",
              "      height: 32px;\n",
              "      padding: 0 0 0 0;\n",
              "      width: 32px;\n",
              "    }\n",
              "\n",
              "    .colab-df-convert:hover {\n",
              "      background-color: #E2EBFA;\n",
              "      box-shadow: 0px 1px 2px rgba(60, 64, 67, 0.3), 0px 1px 3px 1px rgba(60, 64, 67, 0.15);\n",
              "      fill: #174EA6;\n",
              "    }\n",
              "\n",
              "    [theme=dark] .colab-df-convert {\n",
              "      background-color: #3B4455;\n",
              "      fill: #D2E3FC;\n",
              "    }\n",
              "\n",
              "    [theme=dark] .colab-df-convert:hover {\n",
              "      background-color: #434B5C;\n",
              "      box-shadow: 0px 1px 3px 1px rgba(0, 0, 0, 0.15);\n",
              "      filter: drop-shadow(0px 1px 2px rgba(0, 0, 0, 0.3));\n",
              "      fill: #FFFFFF;\n",
              "    }\n",
              "  </style>\n",
              "\n",
              "      <script>\n",
              "        const buttonEl =\n",
              "          document.querySelector('#df-f6c93c2e-38b2-4d0c-b5c8-6c699421714c button.colab-df-convert');\n",
              "        buttonEl.style.display =\n",
              "          google.colab.kernel.accessAllowed ? 'block' : 'none';\n",
              "\n",
              "        async function convertToInteractive(key) {\n",
              "          const element = document.querySelector('#df-f6c93c2e-38b2-4d0c-b5c8-6c699421714c');\n",
              "          const dataTable =\n",
              "            await google.colab.kernel.invokeFunction('convertToInteractive',\n",
              "                                                     [key], {});\n",
              "          if (!dataTable) return;\n",
              "\n",
              "          const docLinkHtml = 'Like what you see? Visit the ' +\n",
              "            '<a target=\"_blank\" href=https://colab.research.google.com/notebooks/data_table.ipynb>data table notebook</a>'\n",
              "            + ' to learn more about interactive tables.';\n",
              "          element.innerHTML = '';\n",
              "          dataTable['output_type'] = 'display_data';\n",
              "          await google.colab.output.renderOutput(dataTable, element);\n",
              "          const docLink = document.createElement('div');\n",
              "          docLink.innerHTML = docLinkHtml;\n",
              "          element.appendChild(docLink);\n",
              "        }\n",
              "      </script>\n",
              "    </div>\n",
              "  </div>\n",
              "  "
            ],
            "text/plain": [
              "   age  yredu  capgain  caploss  workhr\n",
              "0   39     13     2174        0      40\n",
              "1   50     13        0        0      13\n",
              "2   38      9        0        0      40"
            ]
          },
          "metadata": {},
          "execution_count": 6
        }
      ],
      "source": [
        "subdf = df[[\"age\", \"yredu\", \"capgain\", \"caploss\", \"workhr\"]]\n",
        "subdf[:3] # show the first 3 records"
      ]
    },
    {
      "cell_type": "markdown",
      "metadata": {
        "id": "2Nru2P0E1pqD"
      },
      "source": [
        "Numpy works nicely with pandas, like below:"
      ]
    },
    {
      "cell_type": "code",
      "execution_count": null,
      "metadata": {
        "colab": {
          "base_uri": "https://localhost:8080/"
        },
        "id": "JXrS6tjp1pqE",
        "outputId": "bb149ca4-3621-42a3-eb1b-d166b4851236"
      },
      "outputs": [
        {
          "output_type": "execute_result",
          "data": {
            "text/plain": [
              "2842700"
            ]
          },
          "metadata": {},
          "execution_count": 7
        }
      ],
      "source": [
        "np.sum(subdf[\"caploss\"])"
      ]
    },
    {
      "cell_type": "markdown",
      "metadata": {
        "id": "Mv5mbxDM1pqH"
      },
      "source": [
        "Just like numpy arrays, you can modify\n",
        "entire columns of data rather than one scalar element at a time.\n",
        "For example, the code  \n",
        "\n",
        "`df[\"age\"] = df[\"age\"] + 1` \n",
        "\n",
        "would increment everyone's age by 1."
      ]
    },
    {
      "cell_type": "markdown",
      "source": [
        "Finding min, max and normalizing"
      ],
      "metadata": {
        "id": "6q3BtHWsEBNY"
      }
    },
    {
      "cell_type": "code",
      "execution_count": null,
      "metadata": {
        "colab": {
          "base_uri": "https://localhost:8080/",
          "height": 300
        },
        "collapsed": true,
        "id": "k5rlWD7-1pqH",
        "jupyter": {
          "outputs_hidden": true
        },
        "outputId": "9845a48a-81dd-4125-e7c1-2c77df6b0902"
      },
      "outputs": [
        {
          "output_type": "execute_result",
          "data": {
            "text/html": [
              "\n",
              "  <div id=\"df-c4f29486-2ae7-4dd1-9303-e582fb3c5a6c\">\n",
              "    <div class=\"colab-df-container\">\n",
              "      <div>\n",
              "<style scoped>\n",
              "    .dataframe tbody tr th:only-of-type {\n",
              "        vertical-align: middle;\n",
              "    }\n",
              "\n",
              "    .dataframe tbody tr th {\n",
              "        vertical-align: top;\n",
              "    }\n",
              "\n",
              "    .dataframe thead th {\n",
              "        text-align: right;\n",
              "    }\n",
              "</style>\n",
              "<table border=\"1\" class=\"dataframe\">\n",
              "  <thead>\n",
              "    <tr style=\"text-align: right;\">\n",
              "      <th></th>\n",
              "      <th>age</th>\n",
              "      <th>fnlwgt</th>\n",
              "      <th>yredu</th>\n",
              "      <th>capgain</th>\n",
              "      <th>caploss</th>\n",
              "      <th>workhr</th>\n",
              "    </tr>\n",
              "  </thead>\n",
              "  <tbody>\n",
              "    <tr>\n",
              "      <th>count</th>\n",
              "      <td>32561.000000</td>\n",
              "      <td>3.256100e+04</td>\n",
              "      <td>32561.000000</td>\n",
              "      <td>32561.000000</td>\n",
              "      <td>32561.000000</td>\n",
              "      <td>32561.000000</td>\n",
              "    </tr>\n",
              "    <tr>\n",
              "      <th>mean</th>\n",
              "      <td>38.581647</td>\n",
              "      <td>1.897784e+05</td>\n",
              "      <td>10.080679</td>\n",
              "      <td>1077.648844</td>\n",
              "      <td>87.303830</td>\n",
              "      <td>40.437456</td>\n",
              "    </tr>\n",
              "    <tr>\n",
              "      <th>std</th>\n",
              "      <td>13.640433</td>\n",
              "      <td>1.055500e+05</td>\n",
              "      <td>2.572720</td>\n",
              "      <td>7385.292085</td>\n",
              "      <td>402.960219</td>\n",
              "      <td>12.347429</td>\n",
              "    </tr>\n",
              "    <tr>\n",
              "      <th>min</th>\n",
              "      <td>17.000000</td>\n",
              "      <td>1.228500e+04</td>\n",
              "      <td>1.000000</td>\n",
              "      <td>0.000000</td>\n",
              "      <td>0.000000</td>\n",
              "      <td>1.000000</td>\n",
              "    </tr>\n",
              "    <tr>\n",
              "      <th>25%</th>\n",
              "      <td>28.000000</td>\n",
              "      <td>1.178270e+05</td>\n",
              "      <td>9.000000</td>\n",
              "      <td>0.000000</td>\n",
              "      <td>0.000000</td>\n",
              "      <td>40.000000</td>\n",
              "    </tr>\n",
              "    <tr>\n",
              "      <th>50%</th>\n",
              "      <td>37.000000</td>\n",
              "      <td>1.783560e+05</td>\n",
              "      <td>10.000000</td>\n",
              "      <td>0.000000</td>\n",
              "      <td>0.000000</td>\n",
              "      <td>40.000000</td>\n",
              "    </tr>\n",
              "    <tr>\n",
              "      <th>75%</th>\n",
              "      <td>48.000000</td>\n",
              "      <td>2.370510e+05</td>\n",
              "      <td>12.000000</td>\n",
              "      <td>0.000000</td>\n",
              "      <td>0.000000</td>\n",
              "      <td>45.000000</td>\n",
              "    </tr>\n",
              "    <tr>\n",
              "      <th>max</th>\n",
              "      <td>90.000000</td>\n",
              "      <td>1.484705e+06</td>\n",
              "      <td>16.000000</td>\n",
              "      <td>99999.000000</td>\n",
              "      <td>4356.000000</td>\n",
              "      <td>99.000000</td>\n",
              "    </tr>\n",
              "  </tbody>\n",
              "</table>\n",
              "</div>\n",
              "      <button class=\"colab-df-convert\" onclick=\"convertToInteractive('df-c4f29486-2ae7-4dd1-9303-e582fb3c5a6c')\"\n",
              "              title=\"Convert this dataframe to an interactive table.\"\n",
              "              style=\"display:none;\">\n",
              "        \n",
              "  <svg xmlns=\"http://www.w3.org/2000/svg\" height=\"24px\"viewBox=\"0 0 24 24\"\n",
              "       width=\"24px\">\n",
              "    <path d=\"M0 0h24v24H0V0z\" fill=\"none\"/>\n",
              "    <path d=\"M18.56 5.44l.94 2.06.94-2.06 2.06-.94-2.06-.94-.94-2.06-.94 2.06-2.06.94zm-11 1L8.5 8.5l.94-2.06 2.06-.94-2.06-.94L8.5 2.5l-.94 2.06-2.06.94zm10 10l.94 2.06.94-2.06 2.06-.94-2.06-.94-.94-2.06-.94 2.06-2.06.94z\"/><path d=\"M17.41 7.96l-1.37-1.37c-.4-.4-.92-.59-1.43-.59-.52 0-1.04.2-1.43.59L10.3 9.45l-7.72 7.72c-.78.78-.78 2.05 0 2.83L4 21.41c.39.39.9.59 1.41.59.51 0 1.02-.2 1.41-.59l7.78-7.78 2.81-2.81c.8-.78.8-2.07 0-2.86zM5.41 20L4 18.59l7.72-7.72 1.47 1.35L5.41 20z\"/>\n",
              "  </svg>\n",
              "      </button>\n",
              "      \n",
              "  <style>\n",
              "    .colab-df-container {\n",
              "      display:flex;\n",
              "      flex-wrap:wrap;\n",
              "      gap: 12px;\n",
              "    }\n",
              "\n",
              "    .colab-df-convert {\n",
              "      background-color: #E8F0FE;\n",
              "      border: none;\n",
              "      border-radius: 50%;\n",
              "      cursor: pointer;\n",
              "      display: none;\n",
              "      fill: #1967D2;\n",
              "      height: 32px;\n",
              "      padding: 0 0 0 0;\n",
              "      width: 32px;\n",
              "    }\n",
              "\n",
              "    .colab-df-convert:hover {\n",
              "      background-color: #E2EBFA;\n",
              "      box-shadow: 0px 1px 2px rgba(60, 64, 67, 0.3), 0px 1px 3px 1px rgba(60, 64, 67, 0.15);\n",
              "      fill: #174EA6;\n",
              "    }\n",
              "\n",
              "    [theme=dark] .colab-df-convert {\n",
              "      background-color: #3B4455;\n",
              "      fill: #D2E3FC;\n",
              "    }\n",
              "\n",
              "    [theme=dark] .colab-df-convert:hover {\n",
              "      background-color: #434B5C;\n",
              "      box-shadow: 0px 1px 3px 1px rgba(0, 0, 0, 0.15);\n",
              "      filter: drop-shadow(0px 1px 2px rgba(0, 0, 0, 0.3));\n",
              "      fill: #FFFFFF;\n",
              "    }\n",
              "  </style>\n",
              "\n",
              "      <script>\n",
              "        const buttonEl =\n",
              "          document.querySelector('#df-c4f29486-2ae7-4dd1-9303-e582fb3c5a6c button.colab-df-convert');\n",
              "        buttonEl.style.display =\n",
              "          google.colab.kernel.accessAllowed ? 'block' : 'none';\n",
              "\n",
              "        async function convertToInteractive(key) {\n",
              "          const element = document.querySelector('#df-c4f29486-2ae7-4dd1-9303-e582fb3c5a6c');\n",
              "          const dataTable =\n",
              "            await google.colab.kernel.invokeFunction('convertToInteractive',\n",
              "                                                     [key], {});\n",
              "          if (!dataTable) return;\n",
              "\n",
              "          const docLinkHtml = 'Like what you see? Visit the ' +\n",
              "            '<a target=\"_blank\" href=https://colab.research.google.com/notebooks/data_table.ipynb>data table notebook</a>'\n",
              "            + ' to learn more about interactive tables.';\n",
              "          element.innerHTML = '';\n",
              "          dataTable['output_type'] = 'display_data';\n",
              "          await google.colab.output.renderOutput(dataTable, element);\n",
              "          const docLink = document.createElement('div');\n",
              "          docLink.innerHTML = docLinkHtml;\n",
              "          element.appendChild(docLink);\n",
              "        }\n",
              "      </script>\n",
              "    </div>\n",
              "  </div>\n",
              "  "
            ],
            "text/plain": [
              "                age        fnlwgt         yredu       capgain       caploss  \\\n",
              "count  32561.000000  3.256100e+04  32561.000000  32561.000000  32561.000000   \n",
              "mean      38.581647  1.897784e+05     10.080679   1077.648844     87.303830   \n",
              "std       13.640433  1.055500e+05      2.572720   7385.292085    402.960219   \n",
              "min       17.000000  1.228500e+04      1.000000      0.000000      0.000000   \n",
              "25%       28.000000  1.178270e+05      9.000000      0.000000      0.000000   \n",
              "50%       37.000000  1.783560e+05     10.000000      0.000000      0.000000   \n",
              "75%       48.000000  2.370510e+05     12.000000      0.000000      0.000000   \n",
              "max       90.000000  1.484705e+06     16.000000  99999.000000   4356.000000   \n",
              "\n",
              "             workhr  \n",
              "count  32561.000000  \n",
              "mean      40.437456  \n",
              "std       12.347429  \n",
              "min        1.000000  \n",
              "25%       40.000000  \n",
              "50%       40.000000  \n",
              "75%       45.000000  \n",
              "max       99.000000  "
            ]
          },
          "metadata": {},
          "execution_count": 8
        }
      ],
      "source": [
        "df.describe()"
      ]
    },
    {
      "cell_type": "markdown",
      "source": [
        "Age: Max = 90, Min = 17, Avg = 38.58\n",
        "\n",
        "yredu: Max = 16, Min = 1, Avg = 10.08\n",
        "\n",
        "capgain: Max = 99999, Min = 0, Avg = 1077.64\n",
        "\n",
        "caploss: workhr: Max = 4356, Min = 0, Avg = 87.3038"
      ],
      "metadata": {
        "id": "tf9qAy-jDby2"
      }
    },
    {
      "cell_type": "code",
      "source": [
        "for col in [\"age\", \"yredu\", \"capgain\", \"caploss\", \"workhr\"]:\n",
        "  df[col] -= min(df[col])\n",
        "  df[col] = df[col] / (max(df[col]) - min(df[col]))"
      ],
      "metadata": {
        "id": "q7a4tRJdEEjN"
      },
      "execution_count": null,
      "outputs": []
    },
    {
      "cell_type": "code",
      "source": [
        "df.describe()"
      ],
      "metadata": {
        "colab": {
          "base_uri": "https://localhost:8080/",
          "height": 300
        },
        "id": "IZpxaNnfEbBX",
        "outputId": "ef229395-a164-4526-cefa-9fcba3ccc72b"
      },
      "execution_count": null,
      "outputs": [
        {
          "output_type": "execute_result",
          "data": {
            "text/html": [
              "\n",
              "  <div id=\"df-6568aea6-5edf-46e0-930f-cb36f6cc00c4\">\n",
              "    <div class=\"colab-df-container\">\n",
              "      <div>\n",
              "<style scoped>\n",
              "    .dataframe tbody tr th:only-of-type {\n",
              "        vertical-align: middle;\n",
              "    }\n",
              "\n",
              "    .dataframe tbody tr th {\n",
              "        vertical-align: top;\n",
              "    }\n",
              "\n",
              "    .dataframe thead th {\n",
              "        text-align: right;\n",
              "    }\n",
              "</style>\n",
              "<table border=\"1\" class=\"dataframe\">\n",
              "  <thead>\n",
              "    <tr style=\"text-align: right;\">\n",
              "      <th></th>\n",
              "      <th>age</th>\n",
              "      <th>fnlwgt</th>\n",
              "      <th>yredu</th>\n",
              "      <th>capgain</th>\n",
              "      <th>caploss</th>\n",
              "      <th>workhr</th>\n",
              "    </tr>\n",
              "  </thead>\n",
              "  <tbody>\n",
              "    <tr>\n",
              "      <th>count</th>\n",
              "      <td>32561.000000</td>\n",
              "      <td>3.256100e+04</td>\n",
              "      <td>32561.000000</td>\n",
              "      <td>32561.000000</td>\n",
              "      <td>32561.000000</td>\n",
              "      <td>32561.000000</td>\n",
              "    </tr>\n",
              "    <tr>\n",
              "      <th>mean</th>\n",
              "      <td>0.295639</td>\n",
              "      <td>1.897784e+05</td>\n",
              "      <td>0.605379</td>\n",
              "      <td>0.010777</td>\n",
              "      <td>0.020042</td>\n",
              "      <td>0.402423</td>\n",
              "    </tr>\n",
              "    <tr>\n",
              "      <th>std</th>\n",
              "      <td>0.186855</td>\n",
              "      <td>1.055500e+05</td>\n",
              "      <td>0.171515</td>\n",
              "      <td>0.073854</td>\n",
              "      <td>0.092507</td>\n",
              "      <td>0.125994</td>\n",
              "    </tr>\n",
              "    <tr>\n",
              "      <th>min</th>\n",
              "      <td>0.000000</td>\n",
              "      <td>1.228500e+04</td>\n",
              "      <td>0.000000</td>\n",
              "      <td>0.000000</td>\n",
              "      <td>0.000000</td>\n",
              "      <td>0.000000</td>\n",
              "    </tr>\n",
              "    <tr>\n",
              "      <th>25%</th>\n",
              "      <td>0.150685</td>\n",
              "      <td>1.178270e+05</td>\n",
              "      <td>0.533333</td>\n",
              "      <td>0.000000</td>\n",
              "      <td>0.000000</td>\n",
              "      <td>0.397959</td>\n",
              "    </tr>\n",
              "    <tr>\n",
              "      <th>50%</th>\n",
              "      <td>0.273973</td>\n",
              "      <td>1.783560e+05</td>\n",
              "      <td>0.600000</td>\n",
              "      <td>0.000000</td>\n",
              "      <td>0.000000</td>\n",
              "      <td>0.397959</td>\n",
              "    </tr>\n",
              "    <tr>\n",
              "      <th>75%</th>\n",
              "      <td>0.424658</td>\n",
              "      <td>2.370510e+05</td>\n",
              "      <td>0.733333</td>\n",
              "      <td>0.000000</td>\n",
              "      <td>0.000000</td>\n",
              "      <td>0.448980</td>\n",
              "    </tr>\n",
              "    <tr>\n",
              "      <th>max</th>\n",
              "      <td>1.000000</td>\n",
              "      <td>1.484705e+06</td>\n",
              "      <td>1.000000</td>\n",
              "      <td>1.000000</td>\n",
              "      <td>1.000000</td>\n",
              "      <td>1.000000</td>\n",
              "    </tr>\n",
              "  </tbody>\n",
              "</table>\n",
              "</div>\n",
              "      <button class=\"colab-df-convert\" onclick=\"convertToInteractive('df-6568aea6-5edf-46e0-930f-cb36f6cc00c4')\"\n",
              "              title=\"Convert this dataframe to an interactive table.\"\n",
              "              style=\"display:none;\">\n",
              "        \n",
              "  <svg xmlns=\"http://www.w3.org/2000/svg\" height=\"24px\"viewBox=\"0 0 24 24\"\n",
              "       width=\"24px\">\n",
              "    <path d=\"M0 0h24v24H0V0z\" fill=\"none\"/>\n",
              "    <path d=\"M18.56 5.44l.94 2.06.94-2.06 2.06-.94-2.06-.94-.94-2.06-.94 2.06-2.06.94zm-11 1L8.5 8.5l.94-2.06 2.06-.94-2.06-.94L8.5 2.5l-.94 2.06-2.06.94zm10 10l.94 2.06.94-2.06 2.06-.94-2.06-.94-.94-2.06-.94 2.06-2.06.94z\"/><path d=\"M17.41 7.96l-1.37-1.37c-.4-.4-.92-.59-1.43-.59-.52 0-1.04.2-1.43.59L10.3 9.45l-7.72 7.72c-.78.78-.78 2.05 0 2.83L4 21.41c.39.39.9.59 1.41.59.51 0 1.02-.2 1.41-.59l7.78-7.78 2.81-2.81c.8-.78.8-2.07 0-2.86zM5.41 20L4 18.59l7.72-7.72 1.47 1.35L5.41 20z\"/>\n",
              "  </svg>\n",
              "      </button>\n",
              "      \n",
              "  <style>\n",
              "    .colab-df-container {\n",
              "      display:flex;\n",
              "      flex-wrap:wrap;\n",
              "      gap: 12px;\n",
              "    }\n",
              "\n",
              "    .colab-df-convert {\n",
              "      background-color: #E8F0FE;\n",
              "      border: none;\n",
              "      border-radius: 50%;\n",
              "      cursor: pointer;\n",
              "      display: none;\n",
              "      fill: #1967D2;\n",
              "      height: 32px;\n",
              "      padding: 0 0 0 0;\n",
              "      width: 32px;\n",
              "    }\n",
              "\n",
              "    .colab-df-convert:hover {\n",
              "      background-color: #E2EBFA;\n",
              "      box-shadow: 0px 1px 2px rgba(60, 64, 67, 0.3), 0px 1px 3px 1px rgba(60, 64, 67, 0.15);\n",
              "      fill: #174EA6;\n",
              "    }\n",
              "\n",
              "    [theme=dark] .colab-df-convert {\n",
              "      background-color: #3B4455;\n",
              "      fill: #D2E3FC;\n",
              "    }\n",
              "\n",
              "    [theme=dark] .colab-df-convert:hover {\n",
              "      background-color: #434B5C;\n",
              "      box-shadow: 0px 1px 3px 1px rgba(0, 0, 0, 0.15);\n",
              "      filter: drop-shadow(0px 1px 2px rgba(0, 0, 0, 0.3));\n",
              "      fill: #FFFFFF;\n",
              "    }\n",
              "  </style>\n",
              "\n",
              "      <script>\n",
              "        const buttonEl =\n",
              "          document.querySelector('#df-6568aea6-5edf-46e0-930f-cb36f6cc00c4 button.colab-df-convert');\n",
              "        buttonEl.style.display =\n",
              "          google.colab.kernel.accessAllowed ? 'block' : 'none';\n",
              "\n",
              "        async function convertToInteractive(key) {\n",
              "          const element = document.querySelector('#df-6568aea6-5edf-46e0-930f-cb36f6cc00c4');\n",
              "          const dataTable =\n",
              "            await google.colab.kernel.invokeFunction('convertToInteractive',\n",
              "                                                     [key], {});\n",
              "          if (!dataTable) return;\n",
              "\n",
              "          const docLinkHtml = 'Like what you see? Visit the ' +\n",
              "            '<a target=\"_blank\" href=https://colab.research.google.com/notebooks/data_table.ipynb>data table notebook</a>'\n",
              "            + ' to learn more about interactive tables.';\n",
              "          element.innerHTML = '';\n",
              "          dataTable['output_type'] = 'display_data';\n",
              "          await google.colab.output.renderOutput(dataTable, element);\n",
              "          const docLink = document.createElement('div');\n",
              "          docLink.innerHTML = docLinkHtml;\n",
              "          element.appendChild(docLink);\n",
              "        }\n",
              "      </script>\n",
              "    </div>\n",
              "  </div>\n",
              "  "
            ],
            "text/plain": [
              "                age        fnlwgt         yredu       capgain       caploss  \\\n",
              "count  32561.000000  3.256100e+04  32561.000000  32561.000000  32561.000000   \n",
              "mean       0.295639  1.897784e+05      0.605379      0.010777      0.020042   \n",
              "std        0.186855  1.055500e+05      0.171515      0.073854      0.092507   \n",
              "min        0.000000  1.228500e+04      0.000000      0.000000      0.000000   \n",
              "25%        0.150685  1.178270e+05      0.533333      0.000000      0.000000   \n",
              "50%        0.273973  1.783560e+05      0.600000      0.000000      0.000000   \n",
              "75%        0.424658  2.370510e+05      0.733333      0.000000      0.000000   \n",
              "max        1.000000  1.484705e+06      1.000000      1.000000      1.000000   \n",
              "\n",
              "             workhr  \n",
              "count  32561.000000  \n",
              "mean       0.402423  \n",
              "std        0.125994  \n",
              "min        0.000000  \n",
              "25%        0.397959  \n",
              "50%        0.397959  \n",
              "75%        0.448980  \n",
              "max        1.000000  "
            ]
          },
          "metadata": {},
          "execution_count": 10
        }
      ]
    },
    {
      "cell_type": "markdown",
      "metadata": {
        "id": "qbfMly4R1pqK"
      },
      "source": [
        "### Part (b) Categorical Features [1 pt]\n",
        "\n",
        "What percentage of people in our data set are male? Note that the data labels all have an unfortunate space in the beginning, e.g. \" Male\" instead of \"Male\".\n",
        "\n",
        "What percentage of people in our data set are female?"
      ]
    },
    {
      "cell_type": "code",
      "source": [
        "np.unique(df['sex'])"
      ],
      "metadata": {
        "colab": {
          "base_uri": "https://localhost:8080/"
        },
        "id": "a4ieYpxdFGA9",
        "outputId": "11ffcb12-e9b4-4fe4-c0c3-890aa45f30f9"
      },
      "execution_count": null,
      "outputs": [
        {
          "output_type": "execute_result",
          "data": {
            "text/plain": [
              "array([' Female', ' Male'], dtype=object)"
            ]
          },
          "metadata": {},
          "execution_count": 11
        }
      ]
    },
    {
      "cell_type": "code",
      "execution_count": null,
      "metadata": {
        "colab": {
          "base_uri": "https://localhost:8080/"
        },
        "id": "DjAjcsB_1pqK",
        "outputId": "cd10cd2e-19fe-4dba-ab67-b591b82485ae"
      },
      "outputs": [
        {
          "output_type": "stream",
          "name": "stdout",
          "text": [
            "Male percentage: 66.92054912318419\n"
          ]
        }
      ],
      "source": [
        "# hint: you can do something like this in pandas\n",
        "print(\"Male percentage:\", sum(df[\"sex\"] == \" Male\") / len(df[\"sex\"]) * 100)"
      ]
    },
    {
      "cell_type": "code",
      "source": [
        "# hint: you can do something like this in pandas\n",
        "print(\"Female percentage:\", sum(df[\"sex\"] == \" Female\") / len(df[\"sex\"]) * 100)"
      ],
      "metadata": {
        "colab": {
          "base_uri": "https://localhost:8080/"
        },
        "id": "IPKDXN5gE8Iw",
        "outputId": "6fe76d88-1860-48e9-ca3a-cd6a1e7b4019"
      },
      "execution_count": null,
      "outputs": [
        {
          "output_type": "stream",
          "name": "stdout",
          "text": [
            "Female percentage: 33.07945087681583\n"
          ]
        }
      ]
    },
    {
      "cell_type": "markdown",
      "metadata": {
        "id": "eGVw7pqL1pqN"
      },
      "source": [
        "### Part (c) [2 pt]\n",
        "\n",
        "Before proceeding, we will modify our data frame in a couple more ways:\n",
        "\n",
        "1. We will restrict ourselves to using a subset of the features (to simplify our autoencoder)\n",
        "2. We will remove any records (rows) already containing missing values, and store them in a second dataframe. We will only use records without missing values to train our autoencoder.\n",
        "\n",
        "Both of these steps are done for you, below.\n",
        "\n",
        "How many records contained missing features? What percentage of records were removed?"
      ]
    },
    {
      "cell_type": "code",
      "execution_count": null,
      "metadata": {
        "collapsed": true,
        "id": "z6ewPUdv1pqO",
        "jupyter": {
          "outputs_hidden": true
        }
      },
      "outputs": [],
      "source": [
        "contcols = [\"age\", \"yredu\", \"capgain\", \"caploss\", \"workhr\"]\n",
        "catcols = [\"work\", \"marriage\", \"occupation\", \"edu\", \"relationship\", \"sex\"]\n",
        "features = contcols + catcols\n",
        "df = df[features]"
      ]
    },
    {
      "cell_type": "code",
      "execution_count": null,
      "metadata": {
        "collapsed": true,
        "id": "fjdVll5a1pqQ",
        "jupyter": {
          "outputs_hidden": true
        }
      },
      "outputs": [],
      "source": [
        "missing = pd.concat([df[c] == \" ?\" for c in catcols], axis=1).any(axis=1)\n",
        "df_with_missing = df[missing]\n",
        "df_not_missing = df[~missing]"
      ]
    },
    {
      "cell_type": "markdown",
      "metadata": {
        "id": "XuEpndTQ1pqU"
      },
      "source": [
        "### Part (d) One-Hot Encoding [1 pt]\n",
        "\n",
        "What are all the possible values of the feature \"work\" in `df_not_missing`? You may find the Python function `set` useful."
      ]
    },
    {
      "cell_type": "code",
      "execution_count": null,
      "metadata": {
        "colab": {
          "base_uri": "https://localhost:8080/"
        },
        "collapsed": true,
        "id": "iKFh4owE1pqV",
        "jupyter": {
          "outputs_hidden": true
        },
        "outputId": "1c3bd77f-7906-40fb-f6fb-8b5bf93f5cb7"
      },
      "outputs": [
        {
          "output_type": "execute_result",
          "data": {
            "text/plain": [
              "array([' Federal-gov', ' Local-gov', ' Private', ' Self-emp-inc',\n",
              "       ' Self-emp-not-inc', ' State-gov', ' Without-pay'], dtype=object)"
            ]
          },
          "metadata": {},
          "execution_count": 16
        }
      ],
      "source": [
        "np.unique(df_not_missing['work'])"
      ]
    },
    {
      "cell_type": "markdown",
      "metadata": {
        "id": "COv3HaKr1pqY"
      },
      "source": [
        "We will be using a one-hot encoding to represent each of the categorical variables.\n",
        "Our autoencoder will be trained using these one-hot encodings.\n",
        "\n",
        "We will use the pandas function `get_dummies` to produce one-hot encodings\n",
        "for all of the categorical variables in `df_not_missing`. "
      ]
    },
    {
      "cell_type": "code",
      "execution_count": null,
      "metadata": {
        "collapsed": true,
        "id": "eKlSYmJg1pqZ",
        "jupyter": {
          "outputs_hidden": true
        }
      },
      "outputs": [],
      "source": [
        "data = pd.get_dummies(df_not_missing)"
      ]
    },
    {
      "cell_type": "code",
      "execution_count": null,
      "metadata": {
        "colab": {
          "base_uri": "https://localhost:8080/",
          "height": 306
        },
        "collapsed": true,
        "id": "3y7nTZ7H1pqb",
        "jupyter": {
          "outputs_hidden": true
        },
        "scrolled": true,
        "outputId": "c0121846-a94d-4954-a5e2-8d0e23e12577"
      },
      "outputs": [
        {
          "output_type": "execute_result",
          "data": {
            "text/html": [
              "\n",
              "  <div id=\"df-16de84b4-44ef-4c53-b4fb-9995bf7fefe4\">\n",
              "    <div class=\"colab-df-container\">\n",
              "      <div>\n",
              "<style scoped>\n",
              "    .dataframe tbody tr th:only-of-type {\n",
              "        vertical-align: middle;\n",
              "    }\n",
              "\n",
              "    .dataframe tbody tr th {\n",
              "        vertical-align: top;\n",
              "    }\n",
              "\n",
              "    .dataframe thead th {\n",
              "        text-align: right;\n",
              "    }\n",
              "</style>\n",
              "<table border=\"1\" class=\"dataframe\">\n",
              "  <thead>\n",
              "    <tr style=\"text-align: right;\">\n",
              "      <th></th>\n",
              "      <th>age</th>\n",
              "      <th>yredu</th>\n",
              "      <th>capgain</th>\n",
              "      <th>caploss</th>\n",
              "      <th>workhr</th>\n",
              "      <th>work_ Federal-gov</th>\n",
              "      <th>work_ Local-gov</th>\n",
              "      <th>work_ Private</th>\n",
              "      <th>work_ Self-emp-inc</th>\n",
              "      <th>work_ Self-emp-not-inc</th>\n",
              "      <th>...</th>\n",
              "      <th>edu_ Prof-school</th>\n",
              "      <th>edu_ Some-college</th>\n",
              "      <th>relationship_ Husband</th>\n",
              "      <th>relationship_ Not-in-family</th>\n",
              "      <th>relationship_ Other-relative</th>\n",
              "      <th>relationship_ Own-child</th>\n",
              "      <th>relationship_ Unmarried</th>\n",
              "      <th>relationship_ Wife</th>\n",
              "      <th>sex_ Female</th>\n",
              "      <th>sex_ Male</th>\n",
              "    </tr>\n",
              "  </thead>\n",
              "  <tbody>\n",
              "    <tr>\n",
              "      <th>0</th>\n",
              "      <td>0.301370</td>\n",
              "      <td>0.800000</td>\n",
              "      <td>0.02174</td>\n",
              "      <td>0.0</td>\n",
              "      <td>0.397959</td>\n",
              "      <td>0</td>\n",
              "      <td>0</td>\n",
              "      <td>0</td>\n",
              "      <td>0</td>\n",
              "      <td>0</td>\n",
              "      <td>...</td>\n",
              "      <td>0</td>\n",
              "      <td>0</td>\n",
              "      <td>0</td>\n",
              "      <td>1</td>\n",
              "      <td>0</td>\n",
              "      <td>0</td>\n",
              "      <td>0</td>\n",
              "      <td>0</td>\n",
              "      <td>0</td>\n",
              "      <td>1</td>\n",
              "    </tr>\n",
              "    <tr>\n",
              "      <th>1</th>\n",
              "      <td>0.452055</td>\n",
              "      <td>0.800000</td>\n",
              "      <td>0.00000</td>\n",
              "      <td>0.0</td>\n",
              "      <td>0.122449</td>\n",
              "      <td>0</td>\n",
              "      <td>0</td>\n",
              "      <td>0</td>\n",
              "      <td>0</td>\n",
              "      <td>1</td>\n",
              "      <td>...</td>\n",
              "      <td>0</td>\n",
              "      <td>0</td>\n",
              "      <td>1</td>\n",
              "      <td>0</td>\n",
              "      <td>0</td>\n",
              "      <td>0</td>\n",
              "      <td>0</td>\n",
              "      <td>0</td>\n",
              "      <td>0</td>\n",
              "      <td>1</td>\n",
              "    </tr>\n",
              "    <tr>\n",
              "      <th>2</th>\n",
              "      <td>0.287671</td>\n",
              "      <td>0.533333</td>\n",
              "      <td>0.00000</td>\n",
              "      <td>0.0</td>\n",
              "      <td>0.397959</td>\n",
              "      <td>0</td>\n",
              "      <td>0</td>\n",
              "      <td>1</td>\n",
              "      <td>0</td>\n",
              "      <td>0</td>\n",
              "      <td>...</td>\n",
              "      <td>0</td>\n",
              "      <td>0</td>\n",
              "      <td>0</td>\n",
              "      <td>1</td>\n",
              "      <td>0</td>\n",
              "      <td>0</td>\n",
              "      <td>0</td>\n",
              "      <td>0</td>\n",
              "      <td>0</td>\n",
              "      <td>1</td>\n",
              "    </tr>\n",
              "  </tbody>\n",
              "</table>\n",
              "<p>3 rows × 57 columns</p>\n",
              "</div>\n",
              "      <button class=\"colab-df-convert\" onclick=\"convertToInteractive('df-16de84b4-44ef-4c53-b4fb-9995bf7fefe4')\"\n",
              "              title=\"Convert this dataframe to an interactive table.\"\n",
              "              style=\"display:none;\">\n",
              "        \n",
              "  <svg xmlns=\"http://www.w3.org/2000/svg\" height=\"24px\"viewBox=\"0 0 24 24\"\n",
              "       width=\"24px\">\n",
              "    <path d=\"M0 0h24v24H0V0z\" fill=\"none\"/>\n",
              "    <path d=\"M18.56 5.44l.94 2.06.94-2.06 2.06-.94-2.06-.94-.94-2.06-.94 2.06-2.06.94zm-11 1L8.5 8.5l.94-2.06 2.06-.94-2.06-.94L8.5 2.5l-.94 2.06-2.06.94zm10 10l.94 2.06.94-2.06 2.06-.94-2.06-.94-.94-2.06-.94 2.06-2.06.94z\"/><path d=\"M17.41 7.96l-1.37-1.37c-.4-.4-.92-.59-1.43-.59-.52 0-1.04.2-1.43.59L10.3 9.45l-7.72 7.72c-.78.78-.78 2.05 0 2.83L4 21.41c.39.39.9.59 1.41.59.51 0 1.02-.2 1.41-.59l7.78-7.78 2.81-2.81c.8-.78.8-2.07 0-2.86zM5.41 20L4 18.59l7.72-7.72 1.47 1.35L5.41 20z\"/>\n",
              "  </svg>\n",
              "      </button>\n",
              "      \n",
              "  <style>\n",
              "    .colab-df-container {\n",
              "      display:flex;\n",
              "      flex-wrap:wrap;\n",
              "      gap: 12px;\n",
              "    }\n",
              "\n",
              "    .colab-df-convert {\n",
              "      background-color: #E8F0FE;\n",
              "      border: none;\n",
              "      border-radius: 50%;\n",
              "      cursor: pointer;\n",
              "      display: none;\n",
              "      fill: #1967D2;\n",
              "      height: 32px;\n",
              "      padding: 0 0 0 0;\n",
              "      width: 32px;\n",
              "    }\n",
              "\n",
              "    .colab-df-convert:hover {\n",
              "      background-color: #E2EBFA;\n",
              "      box-shadow: 0px 1px 2px rgba(60, 64, 67, 0.3), 0px 1px 3px 1px rgba(60, 64, 67, 0.15);\n",
              "      fill: #174EA6;\n",
              "    }\n",
              "\n",
              "    [theme=dark] .colab-df-convert {\n",
              "      background-color: #3B4455;\n",
              "      fill: #D2E3FC;\n",
              "    }\n",
              "\n",
              "    [theme=dark] .colab-df-convert:hover {\n",
              "      background-color: #434B5C;\n",
              "      box-shadow: 0px 1px 3px 1px rgba(0, 0, 0, 0.15);\n",
              "      filter: drop-shadow(0px 1px 2px rgba(0, 0, 0, 0.3));\n",
              "      fill: #FFFFFF;\n",
              "    }\n",
              "  </style>\n",
              "\n",
              "      <script>\n",
              "        const buttonEl =\n",
              "          document.querySelector('#df-16de84b4-44ef-4c53-b4fb-9995bf7fefe4 button.colab-df-convert');\n",
              "        buttonEl.style.display =\n",
              "          google.colab.kernel.accessAllowed ? 'block' : 'none';\n",
              "\n",
              "        async function convertToInteractive(key) {\n",
              "          const element = document.querySelector('#df-16de84b4-44ef-4c53-b4fb-9995bf7fefe4');\n",
              "          const dataTable =\n",
              "            await google.colab.kernel.invokeFunction('convertToInteractive',\n",
              "                                                     [key], {});\n",
              "          if (!dataTable) return;\n",
              "\n",
              "          const docLinkHtml = 'Like what you see? Visit the ' +\n",
              "            '<a target=\"_blank\" href=https://colab.research.google.com/notebooks/data_table.ipynb>data table notebook</a>'\n",
              "            + ' to learn more about interactive tables.';\n",
              "          element.innerHTML = '';\n",
              "          dataTable['output_type'] = 'display_data';\n",
              "          await google.colab.output.renderOutput(dataTable, element);\n",
              "          const docLink = document.createElement('div');\n",
              "          docLink.innerHTML = docLinkHtml;\n",
              "          element.appendChild(docLink);\n",
              "        }\n",
              "      </script>\n",
              "    </div>\n",
              "  </div>\n",
              "  "
            ],
            "text/plain": [
              "        age     yredu  capgain  caploss    workhr  work_ Federal-gov  \\\n",
              "0  0.301370  0.800000  0.02174      0.0  0.397959                  0   \n",
              "1  0.452055  0.800000  0.00000      0.0  0.122449                  0   \n",
              "2  0.287671  0.533333  0.00000      0.0  0.397959                  0   \n",
              "\n",
              "   work_ Local-gov  work_ Private  work_ Self-emp-inc  work_ Self-emp-not-inc  \\\n",
              "0                0              0                   0                       0   \n",
              "1                0              0                   0                       1   \n",
              "2                0              1                   0                       0   \n",
              "\n",
              "   ...  edu_ Prof-school  edu_ Some-college  relationship_ Husband  \\\n",
              "0  ...                 0                  0                      0   \n",
              "1  ...                 0                  0                      1   \n",
              "2  ...                 0                  0                      0   \n",
              "\n",
              "   relationship_ Not-in-family  relationship_ Other-relative  \\\n",
              "0                            1                             0   \n",
              "1                            0                             0   \n",
              "2                            1                             0   \n",
              "\n",
              "   relationship_ Own-child  relationship_ Unmarried  relationship_ Wife  \\\n",
              "0                        0                        0                   0   \n",
              "1                        0                        0                   0   \n",
              "2                        0                        0                   0   \n",
              "\n",
              "   sex_ Female  sex_ Male  \n",
              "0            0          1  \n",
              "1            0          1  \n",
              "2            0          1  \n",
              "\n",
              "[3 rows x 57 columns]"
            ]
          },
          "metadata": {},
          "execution_count": 18
        }
      ],
      "source": [
        "data[:3]"
      ]
    },
    {
      "cell_type": "markdown",
      "metadata": {
        "id": "HwjDg1uM1pqe"
      },
      "source": [
        "### Part (e) One-Hot Encoding [2 pt]\n",
        "\n",
        "The dataframe `data` contains the cleaned and normalized data that we will use to train our denoising autoencoder.\n",
        "\n",
        "How many **columns** (features) are in the dataframe `data`?\n",
        "\n",
        "Briefly explain where that number come from."
      ]
    },
    {
      "cell_type": "markdown",
      "source": [
        "The total number of columns = Continuous categories + Categorical columns * no. of categories"
      ],
      "metadata": {
        "id": "_KRw0iG0F46P"
      }
    },
    {
      "cell_type": "code",
      "execution_count": null,
      "metadata": {
        "colab": {
          "base_uri": "https://localhost:8080/"
        },
        "collapsed": true,
        "id": "yjZ5N0Tl1pqf",
        "jupyter": {
          "outputs_hidden": true
        },
        "outputId": "45464217-1fba-42ce-8b69-aa04c28ff381"
      },
      "outputs": [
        {
          "output_type": "stream",
          "name": "stdout",
          "text": [
            "57\n",
            "Index(['age', 'yredu', 'capgain', 'caploss', 'workhr', 'work_ Federal-gov',\n",
            "       'work_ Local-gov', 'work_ Private', 'work_ Self-emp-inc',\n",
            "       'work_ Self-emp-not-inc', 'work_ State-gov', 'work_ Without-pay',\n",
            "       'marriage_ Divorced', 'marriage_ Married-AF-spouse',\n",
            "       'marriage_ Married-civ-spouse', 'marriage_ Married-spouse-absent',\n",
            "       'marriage_ Never-married', 'marriage_ Separated', 'marriage_ Widowed',\n",
            "       'occupation_ Adm-clerical', 'occupation_ Armed-Forces',\n",
            "       'occupation_ Craft-repair', 'occupation_ Exec-managerial',\n",
            "       'occupation_ Farming-fishing', 'occupation_ Handlers-cleaners',\n",
            "       'occupation_ Machine-op-inspct', 'occupation_ Other-service',\n",
            "       'occupation_ Priv-house-serv', 'occupation_ Prof-specialty',\n",
            "       'occupation_ Protective-serv', 'occupation_ Sales',\n",
            "       'occupation_ Tech-support', 'occupation_ Transport-moving', 'edu_ 10th',\n",
            "       'edu_ 11th', 'edu_ 12th', 'edu_ 1st-4th', 'edu_ 5th-6th',\n",
            "       'edu_ 7th-8th', 'edu_ 9th', 'edu_ Assoc-acdm', 'edu_ Assoc-voc',\n",
            "       'edu_ Bachelors', 'edu_ Doctorate', 'edu_ HS-grad', 'edu_ Masters',\n",
            "       'edu_ Preschool', 'edu_ Prof-school', 'edu_ Some-college',\n",
            "       'relationship_ Husband', 'relationship_ Not-in-family',\n",
            "       'relationship_ Other-relative', 'relationship_ Own-child',\n",
            "       'relationship_ Unmarried', 'relationship_ Wife', 'sex_ Female',\n",
            "       'sex_ Male'],\n",
            "      dtype='object')\n"
          ]
        }
      ],
      "source": [
        "print(len(data.columns))\n",
        "print(data.columns)"
      ]
    },
    {
      "cell_type": "markdown",
      "metadata": {
        "id": "OEJ0Ci3l1pqh"
      },
      "source": [
        "### Part (f) One-Hot Conversion [3 pt]\n",
        "\n",
        "We will convert the pandas data frame `data` into numpy, so that\n",
        "it can be further converted into a PyTorch tensor.\n",
        "However, in doing so, we lose the column label information that\n",
        "a panda data frame automatically stores.\n",
        "\n",
        "Complete the function `get_categorical_value` that will return\n",
        "the named value of a feature given a one-hot embedding.\n",
        "You may find the global variables `cat_index` and `cat_values`\n",
        "useful. (Display them and figure out what they are first.)\n",
        "\n",
        "We will need this function in the next part of the lab\n",
        "to interpret our autoencoder outputs. So, the input\n",
        "to our function `get_categorical_values` might not \n",
        "actually be \"one-hot\" -- the input may instead \n",
        "contain real-valued predictions from our neural network."
      ]
    },
    {
      "cell_type": "code",
      "execution_count": null,
      "metadata": {
        "collapsed": true,
        "id": "ZmovX6gu1pqi",
        "jupyter": {
          "outputs_hidden": true
        }
      },
      "outputs": [],
      "source": [
        "datanp = data.values.astype(np.float32)"
      ]
    },
    {
      "cell_type": "code",
      "execution_count": null,
      "metadata": {
        "colab": {
          "base_uri": "https://localhost:8080/"
        },
        "collapsed": true,
        "id": "YRIa5MBd1pql",
        "jupyter": {
          "outputs_hidden": true
        },
        "outputId": "c47f73d5-eb45-4683-cebe-f27a58eef192"
      },
      "outputs": [
        {
          "output_type": "stream",
          "name": "stdout",
          "text": [
            "Private\n",
            "State-gov\n"
          ]
        }
      ],
      "source": [
        "from numpy.ma.core import maximum_fill_value\n",
        "cat_index = {}  # Mapping of feature -> start index of feature in a record\n",
        "cat_values = {} # Mapping of feature -> list of categorical values the feature can take\n",
        "\n",
        "# build up the cat_index and cat_values dictionary\n",
        "for i, header in enumerate(data.keys()):\n",
        "    if \"_\" in header: # categorical header\n",
        "        feature, value = header.split()\n",
        "        feature = feature[:-1] # remove the last char; it is always an underscore\n",
        "        if feature not in cat_index:\n",
        "            cat_index[feature] = i\n",
        "            cat_values[feature] = [value]\n",
        "        else:\n",
        "            cat_values[feature].append(value)\n",
        "\n",
        "def get_onehot(record, feature):\n",
        "    \"\"\"\n",
        "    Return the portion of `record` that is the one-hot encoding\n",
        "    of `feature`. For example, since the feature \"work\" is stored\n",
        "    in the indices [5:12] in each record, calling `get_range(record, \"work\")`\n",
        "    is equivalent to accessing `record[5:12]`.\n",
        "    \n",
        "    Args:\n",
        "        - record: a numpy array representing one record, formatted\n",
        "                  the same way as a row in `data.np`\n",
        "        - feature: a string, should be an element of `catcols`\n",
        "    \"\"\"\n",
        "    start_index = cat_index[feature]\n",
        "    stop_index = cat_index[feature] + len(cat_values[feature])\n",
        "    return record[start_index:stop_index]\n",
        "\n",
        "def get_categorical_value(onehot, feature):\n",
        "    \"\"\"\n",
        "    Return the categorical value name of a feature given\n",
        "    a one-hot vector representing the feature.\n",
        "    \n",
        "    Args:\n",
        "        - onehot: a numpy array one-hot representation of the feature\n",
        "        - feature: a string, should be an element of `catcols`\n",
        "        \n",
        "    Examples:\n",
        "    \n",
        "    >>> get_categorical_value(np.array([0., 0., 0., 0., 0., 1., 0.]), \"work\")\n",
        "    'State-gov'\n",
        "    >>> get_categorical_value(np.array([0.1, 0., 1.1, 0.2, 0., 1., 0.]), \"work\")\n",
        "    'Private'\n",
        "    \"\"\"\n",
        "\n",
        "    return cat_values[feature][list(onehot).index(max(onehot))]\n",
        "\n",
        "    # <----- TODO: WRITE YOUR CODE HERE ----->\n",
        "    # You may find the variables `cat_index` and `cat_values` \n",
        "    # (created above) useful.\n",
        "\n",
        "print(get_categorical_value(np.array([0.1, 0., 1.1, 0.2, 0., 1., 0.]), \"work\"))\n",
        "print(get_categorical_value(np.array([0., 0., 0., 0., 0., 1., 0.]), \"work\"))"
      ]
    },
    {
      "cell_type": "code",
      "execution_count": null,
      "metadata": {
        "collapsed": true,
        "id": "T_XXxZdh1pqv",
        "jupyter": {
          "outputs_hidden": true
        }
      },
      "outputs": [],
      "source": [
        "# more useful code, used during training, that depends on the function\n",
        "# you write above\n",
        "\n",
        "def get_feature(record, feature):\n",
        "    \"\"\"\n",
        "    Return the categorical feature value of a record\n",
        "    \"\"\"\n",
        "    onehot = get_onehot(record, feature)\n",
        "    return get_categorical_value(onehot, feature)\n",
        "\n",
        "def get_features(record):\n",
        "    \"\"\"\n",
        "    Return a dictionary of all categorical feature values of a record\n",
        "    \"\"\"\n",
        "    return { f: get_feature(record, f) for f in catcols }"
      ]
    },
    {
      "cell_type": "markdown",
      "metadata": {
        "id": "1_5ZZR_J1pqy"
      },
      "source": [
        "### Part (g) Train/Test Split [3 pt]\n",
        "\n",
        "Randomly split the data into approximately 70% training, 15% validation and 15% test.\n",
        "\n",
        "Report the number of items in your training, validation, and test set."
      ]
    },
    {
      "cell_type": "code",
      "execution_count": null,
      "metadata": {
        "colab": {
          "base_uri": "https://localhost:8080/"
        },
        "collapsed": true,
        "id": "TE_fTJJf1pqz",
        "jupyter": {
          "outputs_hidden": true
        },
        "outputId": "746ef340-f16d-44ea-e103-7ca0710b12d4"
      },
      "outputs": [
        {
          "output_type": "stream",
          "name": "stdout",
          "text": [
            "Train set: 21502\n",
            "Val set: 4608\n",
            "Test set: 4608\n"
          ]
        }
      ],
      "source": [
        "# set the numpy seed for reproducibility\n",
        "# https://docs.scipy.org/doc/numpy/reference/generated/numpy.random.seed.html\n",
        "np.random.seed(50)\n",
        "\n",
        "# todo\n",
        "index_list = np.array(range(len(datanp)))\n",
        "index_list = np.random.permutation(index_list)\n",
        "\n",
        "train_data = datanp[index_list[:int(len(datanp) * .7)]]\n",
        "val_data = datanp[index_list[int(len(datanp) * .7): int(len(datanp) * .85)]]\n",
        "test_data = datanp[index_list[int(len(datanp) * .85):]]\n",
        "\n",
        "print(\"Train set:\",len(train_data))\n",
        "print(\"Val set:\",len(val_data))\n",
        "print(\"Test set:\",len(test_data))"
      ]
    },
    {
      "cell_type": "code",
      "source": [
        "train_dataset = TensorDataset(torch.Tensor(train_data))\n",
        "val_dataset = TensorDataset(torch.Tensor(val_data))\n",
        "test_dataset = TensorDataset(torch.Tensor(test_data))"
      ],
      "metadata": {
        "id": "PjN2QzU9kEvr"
      },
      "execution_count": null,
      "outputs": []
    },
    {
      "cell_type": "code",
      "source": [
        "train_loader = DataLoader(train_dataset, batch_size = 1)\n",
        "val_loader = DataLoader(val_dataset, batch_size = 1)\n",
        "test_loader = DataLoader(test_dataset, batch_size = 1)"
      ],
      "metadata": {
        "id": "x5rgZuLnpL2r"
      },
      "execution_count": null,
      "outputs": []
    },
    {
      "cell_type": "code",
      "source": [
        "def zero_out_feature(records, feature):\n",
        "    \"\"\" Set the feature missing in records, by setting the appropriate\n",
        "    columns of records to 0\n",
        "    \"\"\"\n",
        "    # print(records, feature)\n",
        "    start_index = cat_index[feature]\n",
        "    stop_index = cat_index[feature] + len(cat_values[feature])\n",
        "    records[start_index:stop_index] = 0\n",
        "    return records\n",
        "\n",
        "\n",
        "def zero_out_random_feature(records):\n",
        "    \"\"\" Set one random feature missing in records, by setting the \n",
        "    appropriate columns of records to 0\n",
        "    \"\"\"\n",
        "    return zero_out_feature(records, random.choice(catcols))\n",
        "\n",
        "for data in val_loader:\n",
        "    print((data))\n",
        "    datam = zero_out_random_feature(np.copy(data[0].numpy())) # zero out one categorical feature\n",
        "    data_tn = torch.tensor(datam)\n",
        "    break"
      ],
      "metadata": {
        "colab": {
          "base_uri": "https://localhost:8080/"
        },
        "id": "7cAMpXQBlUuq",
        "outputId": "4103fe14-1e9f-42db-e6ce-e412c03c6a76"
      },
      "execution_count": null,
      "outputs": [
        {
          "output_type": "stream",
          "name": "stdout",
          "text": [
            "[tensor([[0.1507, 0.5333, 0.0000, 0.0000, 0.3980, 0.0000, 0.0000, 1.0000, 0.0000,\n",
            "         0.0000, 0.0000, 0.0000, 1.0000, 0.0000, 0.0000, 0.0000, 0.0000, 0.0000,\n",
            "         0.0000, 0.0000, 0.0000, 0.0000, 0.0000, 0.0000, 0.0000, 0.0000, 0.0000,\n",
            "         0.0000, 0.0000, 0.0000, 0.0000, 1.0000, 0.0000, 0.0000, 0.0000, 0.0000,\n",
            "         0.0000, 0.0000, 0.0000, 0.0000, 0.0000, 0.0000, 0.0000, 0.0000, 1.0000,\n",
            "         0.0000, 0.0000, 0.0000, 0.0000, 0.0000, 0.0000, 0.0000, 1.0000, 0.0000,\n",
            "         0.0000, 1.0000, 0.0000]])]\n"
          ]
        }
      ]
    },
    {
      "cell_type": "markdown",
      "metadata": {
        "id": "h9wJAKOI1pq3"
      },
      "source": [
        "## Part 2. Model Setup [5 pt]\n",
        "\n",
        "### Part (a) [4 pt]\n",
        "\n",
        "Design a fully-connected autoencoder by modifying the `encoder` and `decoder`\n",
        "below.\n",
        "\n",
        "The input to this autoencoder will be the features of the `data`, with\n",
        "one categorical feature recorded as \"missing\". The output of the autoencoder\n",
        "should be the reconstruction of the same features, but with the missing\n",
        "value filled in.\n",
        "\n",
        "**Note**: Do not reduce the dimensionality of the input too much!\n",
        "The output of your embedding is expected to contain information \n",
        "about ~11 features."
      ]
    },
    {
      "cell_type": "code",
      "execution_count": null,
      "metadata": {
        "collapsed": true,
        "id": "f3F--tdn1pq3",
        "jupyter": {
          "outputs_hidden": true
        }
      },
      "outputs": [],
      "source": [
        "from torch import nn\n",
        "\n",
        "class AutoEncoder(nn.Module):\n",
        "    def __init__(self):\n",
        "        super(AutoEncoder, self).__init__()\n",
        "        self.encoder = nn.Sequential(\n",
        "            nn.Linear(57, 34), # TODO -- FILL OUT THE CODE HERE!\n",
        "            nn.Linear(34, 11)\n",
        "        )\n",
        "        self.decoder = nn.Sequential(\n",
        "            nn.Linear(11, 34),\n",
        "            nn.Linear(34, 57), # TODO -- FILL OUT THE CODE HERE!\n",
        "            nn.Sigmoid() # get to the range (0, 1)\n",
        "        )\n",
        "\n",
        "    def forward(self, x):\n",
        "        x = self.encoder(x)\n",
        "        x = self.decoder(x)\n",
        "        return x\n",
        "\n",
        "model = AutoEncoder()"
      ]
    },
    {
      "cell_type": "markdown",
      "metadata": {
        "id": "kuEzTSAv1pq6"
      },
      "source": [
        "### Part (b) [1 pt]\n",
        "\n",
        "Explain why there is a sigmoid activation in the last step of the decoder.\n",
        "\n",
        "(**Note**: the values inside the data frame `data` and the training code in Part 3 might be helpful.)"
      ]
    },
    {
      "cell_type": "markdown",
      "source": [
        "ANS: The outputs need to be in the same range as the inputs and hence we use a sigmoid function. This also helps us in one-hot prediction of categorical labels"
      ],
      "metadata": {
        "id": "0N1YVW5COLF3"
      }
    },
    {
      "cell_type": "markdown",
      "metadata": {
        "id": "jYwqFWVl1pq8"
      },
      "source": [
        "## Part 3. Training [18] \n",
        "\n",
        "### Part (a) [6 pt]\n",
        "\n",
        "We will train our autoencoder in the following way:\n",
        "\n",
        "- In each iteration, we will hide one of the categorical features using the `zero_out_random_features` function\n",
        "- We will pass the data with one missing feature through the autoencoder, and obtain a reconstruction\n",
        "- We will check how close the reconstruction is compared to the original data -- including the value of the missing feature\n",
        "\n",
        "Complete the code to train the autoencoder, and plot the training and validation loss every few iterations.\n",
        "You may also want to plot training and validation \"accuracy\" every few iterations, as we will define in\n",
        "part (b). You may also want to checkpoint your model every few iterations or epochs.\n",
        "\n",
        "Use `nn.MSELoss()` as your loss function. (Side note: you might recognize that this loss function is not\n",
        "ideal for this problem, but we will use it anyway.)"
      ]
    },
    {
      "cell_type": "code",
      "source": [
        "import matplotlib.pyplot as plt\n",
        "\n",
        "\n",
        "def evaluate(model, val_loader, learning_rate):\n",
        "  criterion = nn.MSELoss()\n",
        "  optimizer = torch.optim.Adam(model.parameters(), lr=learning_rate)\n",
        "  val_loss = 0.0\n",
        "  iter = 0\n",
        "  for data in val_loader:\n",
        "      datam = zero_out_random_feature(np.copy(data[0].numpy())) # zero out one categorical feature\n",
        "      data_tn = torch.tensor(datam)\n",
        "      recon = model(data_tn)\n",
        "      loss = criterion(recon, data[0])\n",
        "      loss.backward()\n",
        "\n",
        "      val_loss += loss.item()\n",
        "      iter += 1\n",
        "      optimizer.step()\n",
        "      optimizer.zero_grad()\n",
        "  \n",
        "  return (val_loss / iter + 1)\n",
        "\n",
        "def zero_out_feature(records, feature):\n",
        "    \"\"\" Set the feature missing in records, by setting the appropriate\n",
        "    columns of records to 0\n",
        "    \"\"\"\n",
        "    # print(records, feature)\n",
        "    start_index = cat_index[feature]\n",
        "    stop_index = cat_index[feature] + len(cat_values[feature])\n",
        "    records[start_index:stop_index] = 0\n",
        "    return records\n",
        "\n",
        "def zero_out_random_feature(records):\n",
        "    \"\"\" Set one random feature missing in records, by setting the \n",
        "    appropriate columns of records to 0\n",
        "    \"\"\"\n",
        "    return zero_out_feature(records, random.choice(catcols))\n",
        "\n",
        "def train(model, train_loader, valid_loader, num_epochs=5, learning_rate=1e-4):\n",
        "    \"\"\" Training loop. You should update this.\"\"\"\n",
        "    torch.manual_seed(42)\n",
        "    criterion = nn.MSELoss()\n",
        "    optimizer = torch.optim.Adam(model.parameters(), lr=learning_rate)\n",
        "\n",
        "    train_loss_list = []\n",
        "    val_loss_list = []\n",
        "\n",
        "    for epoch in range(num_epochs):\n",
        "        print(\"Epoch:\", epoch + 1)\n",
        "\n",
        "        train_loss = 0.0\n",
        "        val_loss = 0.0\n",
        "        iter = 0\n",
        "        for data in train_loader:\n",
        "            datam = zero_out_random_feature(np.copy(data[0].numpy())) # zero out one categorical feature\n",
        "            data_tn = torch.tensor(datam)\n",
        "            recon = model(data_tn)\n",
        "            loss = criterion(recon, data[0])\n",
        "            loss.backward()\n",
        "\n",
        "            train_loss += loss.item()\n",
        "            iter += 1\n",
        "            optimizer.step()\n",
        "            optimizer.zero_grad()\n",
        "            if iter % 10000 == 0:\n",
        "              print(\"Iter: \", iter)\n",
        "\n",
        "        train_loss_list.append(train_loss / (iter + 1))\n",
        "        val_loss_list.append(evaluate(model, valid_loader, learning_rate))\n",
        "        print('---')\n",
        "\n",
        "    plt.subplots_adjust(left=0.1,\n",
        "                    bottom=0.1, \n",
        "                    right=0.9, \n",
        "                    top=0.9, \n",
        "                    wspace=0.4, \n",
        "                    hspace=0.4)\n",
        "    \n",
        "    plt.subplot(1, 2, 1)\n",
        "    plt.plot(range(num_epochs), train_loss_list, label = \"Train\")\n",
        "    plt.legend()\n",
        "    plt.subplot(1, 2, 2)\n",
        "    plt.plot(range(num_epochs), val_loss_list, label = \"Val\")\n",
        "    plt.legend()\n",
        "    plt.show()"
      ],
      "metadata": {
        "id": "a6Ze2PWox1ca"
      },
      "execution_count": null,
      "outputs": []
    },
    {
      "cell_type": "code",
      "execution_count": null,
      "metadata": {
        "colab": {
          "base_uri": "https://localhost:8080/",
          "height": 1000
        },
        "id": "IDQA_-dS1pq9",
        "jupyter": {
          "outputs_hidden": true
        },
        "outputId": "476e0a38-39fd-4565-90b5-1b36dce8841c"
      },
      "outputs": [
        {
          "output_type": "stream",
          "name": "stdout",
          "text": [
            "Epoch: 1\n",
            "Iter:  10000\n",
            "Iter:  20000\n",
            "[0.014514746048430895]\n",
            "[1.0145494235452663]\n",
            "---\n",
            "Epoch: 2\n",
            "Iter:  10000\n",
            "Iter:  20000\n",
            "[0.014514746048430895, 0.014468019871844158]\n",
            "[1.0145494235452663, 1.014675035922429]\n",
            "---\n",
            "Epoch: 3\n",
            "Iter:  10000\n",
            "Iter:  20000\n",
            "[0.014514746048430895, 0.014468019871844158, 0.014464388470157274]\n",
            "[1.0145494235452663, 1.014675035922429, 1.0146167277145173]\n",
            "---\n",
            "Epoch: 4\n",
            "Iter:  10000\n",
            "Iter:  20000\n",
            "[0.014514746048430895, 0.014468019871844158, 0.014464388470157274, 0.014385080178838005]\n",
            "[1.0145494235452663, 1.014675035922429, 1.0146167277145173, 1.0143799001300648]\n",
            "---\n",
            "Epoch: 5\n",
            "Iter:  10000\n",
            "Iter:  20000\n",
            "[0.014514746048430895, 0.014468019871844158, 0.014464388470157274, 0.014385080178838005, 0.014357123924666]\n",
            "[1.0145494235452663, 1.014675035922429, 1.0146167277145173, 1.0143799001300648, 1.0142600145229734]\n",
            "---\n",
            "Epoch: 6\n",
            "Iter:  10000\n",
            "Iter:  20000\n",
            "[0.014514746048430895, 0.014468019871844158, 0.014464388470157274, 0.014385080178838005, 0.014357123924666, 0.014319227137243108]\n",
            "[1.0145494235452663, 1.014675035922429, 1.0146167277145173, 1.0143799001300648, 1.0142600145229734, 1.0145105889660695]\n",
            "---\n",
            "Epoch: 7\n",
            "Iter:  10000\n",
            "Iter:  20000\n",
            "[0.014514746048430895, 0.014468019871844158, 0.014464388470157274, 0.014385080178838005, 0.014357123924666, 0.014319227137243108, 0.014400169849274697]\n",
            "[1.0145494235452663, 1.014675035922429, 1.0146167277145173, 1.0143799001300648, 1.0142600145229734, 1.0145105889660695, 1.014388697675713]\n",
            "---\n",
            "Epoch: 8\n",
            "Iter:  10000\n",
            "Iter:  20000\n",
            "[0.014514746048430895, 0.014468019871844158, 0.014464388470157274, 0.014385080178838005, 0.014357123924666, 0.014319227137243108, 0.014400169849274697, 0.014209744773080372]\n",
            "[1.0145494235452663, 1.014675035922429, 1.0146167277145173, 1.0143799001300648, 1.0142600145229734, 1.0145105889660695, 1.014388697675713, 1.0143656834875456]\n",
            "---\n",
            "Epoch: 9\n",
            "Iter:  10000\n",
            "Iter:  20000\n",
            "[0.014514746048430895, 0.014468019871844158, 0.014464388470157274, 0.014385080178838005, 0.014357123924666, 0.014319227137243108, 0.014400169849274697, 0.014209744773080372, 0.01430111621897693]\n",
            "[1.0145494235452663, 1.014675035922429, 1.0146167277145173, 1.0143799001300648, 1.0142600145229734, 1.0145105889660695, 1.014388697675713, 1.0143656834875456, 1.0143616185205255]\n",
            "---\n",
            "Epoch: 10\n",
            "Iter:  10000\n",
            "Iter:  20000\n",
            "[0.014514746048430895, 0.014468019871844158, 0.014464388470157274, 0.014385080178838005, 0.014357123924666, 0.014319227137243108, 0.014400169849274697, 0.014209744773080372, 0.01430111621897693, 0.014280614750901923]\n",
            "[1.0145494235452663, 1.014675035922429, 1.0146167277145173, 1.0143799001300648, 1.0142600145229734, 1.0145105889660695, 1.014388697675713, 1.0143656834875456, 1.0143616185205255, 1.0144903946840986]\n",
            "---\n",
            "Epoch: 11\n",
            "Iter:  10000\n",
            "Iter:  20000\n",
            "[0.014514746048430895, 0.014468019871844158, 0.014464388470157274, 0.014385080178838005, 0.014357123924666, 0.014319227137243108, 0.014400169849274697, 0.014209744773080372, 0.01430111621897693, 0.014280614750901923, 0.01421271482521649]\n",
            "[1.0145494235452663, 1.014675035922429, 1.0146167277145173, 1.0143799001300648, 1.0142600145229734, 1.0145105889660695, 1.014388697675713, 1.0143656834875456, 1.0143616185205255, 1.0144903946840986, 1.0142941462166253]\n",
            "---\n",
            "Epoch: 12\n",
            "Iter:  10000\n",
            "Iter:  20000\n",
            "[0.014514746048430895, 0.014468019871844158, 0.014464388470157274, 0.014385080178838005, 0.014357123924666, 0.014319227137243108, 0.014400169849274697, 0.014209744773080372, 0.01430111621897693, 0.014280614750901923, 0.01421271482521649, 0.014239160650903663]\n",
            "[1.0145494235452663, 1.014675035922429, 1.0146167277145173, 1.0143799001300648, 1.0142600145229734, 1.0145105889660695, 1.014388697675713, 1.0143656834875456, 1.0143616185205255, 1.0144903946840986, 1.0142941462166253, 1.0139209919285836]\n",
            "---\n",
            "Epoch: 13\n",
            "Iter:  10000\n",
            "Iter:  20000\n",
            "[0.014514746048430895, 0.014468019871844158, 0.014464388470157274, 0.014385080178838005, 0.014357123924666, 0.014319227137243108, 0.014400169849274697, 0.014209744773080372, 0.01430111621897693, 0.014280614750901923, 0.01421271482521649, 0.014239160650903663, 0.014130950932109757]\n",
            "[1.0145494235452663, 1.014675035922429, 1.0146167277145173, 1.0143799001300648, 1.0142600145229734, 1.0145105889660695, 1.014388697675713, 1.0143656834875456, 1.0143616185205255, 1.0144903946840986, 1.0142941462166253, 1.0139209919285836, 1.0143635139730434]\n",
            "---\n",
            "Epoch: 14\n",
            "Iter:  10000\n",
            "Iter:  20000\n",
            "[0.014514746048430895, 0.014468019871844158, 0.014464388470157274, 0.014385080178838005, 0.014357123924666, 0.014319227137243108, 0.014400169849274697, 0.014209744773080372, 0.01430111621897693, 0.014280614750901923, 0.01421271482521649, 0.014239160650903663, 0.014130950932109757, 0.01414105309553614]\n",
            "[1.0145494235452663, 1.014675035922429, 1.0146167277145173, 1.0143799001300648, 1.0142600145229734, 1.0145105889660695, 1.014388697675713, 1.0143656834875456, 1.0143616185205255, 1.0144903946840986, 1.0142941462166253, 1.0139209919285836, 1.0143635139730434, 1.0142490587354775]\n",
            "---\n",
            "Epoch: 15\n",
            "Iter:  10000\n",
            "Iter:  20000\n",
            "[0.014514746048430895, 0.014468019871844158, 0.014464388470157274, 0.014385080178838005, 0.014357123924666, 0.014319227137243108, 0.014400169849274697, 0.014209744773080372, 0.01430111621897693, 0.014280614750901923, 0.01421271482521649, 0.014239160650903663, 0.014130950932109757, 0.01414105309553614, 0.014039854478891294]\n",
            "[1.0145494235452663, 1.014675035922429, 1.0146167277145173, 1.0143799001300648, 1.0142600145229734, 1.0145105889660695, 1.014388697675713, 1.0143656834875456, 1.0143616185205255, 1.0144903946840986, 1.0142941462166253, 1.0139209919285836, 1.0143635139730434, 1.0142490587354775, 1.0142159749997828]\n",
            "---\n",
            "Epoch: 16\n",
            "Iter:  10000\n",
            "Iter:  20000\n",
            "[0.014514746048430895, 0.014468019871844158, 0.014464388470157274, 0.014385080178838005, 0.014357123924666, 0.014319227137243108, 0.014400169849274697, 0.014209744773080372, 0.01430111621897693, 0.014280614750901923, 0.01421271482521649, 0.014239160650903663, 0.014130950932109757, 0.01414105309553614, 0.014039854478891294, 0.01412419342099544]\n",
            "[1.0145494235452663, 1.014675035922429, 1.0146167277145173, 1.0143799001300648, 1.0142600145229734, 1.0145105889660695, 1.014388697675713, 1.0143656834875456, 1.0143616185205255, 1.0144903946840986, 1.0142941462166253, 1.0139209919285836, 1.0143635139730434, 1.0142490587354775, 1.0142159749997828, 1.0142140586811204]\n",
            "---\n",
            "Epoch: 17\n",
            "Iter:  10000\n",
            "Iter:  20000\n",
            "[0.014514746048430895, 0.014468019871844158, 0.014464388470157274, 0.014385080178838005, 0.014357123924666, 0.014319227137243108, 0.014400169849274697, 0.014209744773080372, 0.01430111621897693, 0.014280614750901923, 0.01421271482521649, 0.014239160650903663, 0.014130950932109757, 0.01414105309553614, 0.014039854478891294, 0.01412419342099544, 0.014106794907352308]\n",
            "[1.0145494235452663, 1.014675035922429, 1.0146167277145173, 1.0143799001300648, 1.0142600145229734, 1.0145105889660695, 1.014388697675713, 1.0143656834875456, 1.0143616185205255, 1.0144903946840986, 1.0142941462166253, 1.0139209919285836, 1.0143635139730434, 1.0142490587354775, 1.0142159749997828, 1.0142140586811204, 1.014092452185311]\n",
            "---\n",
            "Epoch: 18\n",
            "Iter:  10000\n",
            "Iter:  20000\n",
            "[0.014514746048430895, 0.014468019871844158, 0.014464388470157274, 0.014385080178838005, 0.014357123924666, 0.014319227137243108, 0.014400169849274697, 0.014209744773080372, 0.01430111621897693, 0.014280614750901923, 0.01421271482521649, 0.014239160650903663, 0.014130950932109757, 0.01414105309553614, 0.014039854478891294, 0.01412419342099544, 0.014106794907352308, 0.014141716179265282]\n",
            "[1.0145494235452663, 1.014675035922429, 1.0146167277145173, 1.0143799001300648, 1.0142600145229734, 1.0145105889660695, 1.014388697675713, 1.0143656834875456, 1.0143616185205255, 1.0144903946840986, 1.0142941462166253, 1.0139209919285836, 1.0143635139730434, 1.0142490587354775, 1.0142159749997828, 1.0142140586811204, 1.014092452185311, 1.014142630999757]\n",
            "---\n",
            "Epoch: 19\n",
            "Iter:  10000\n",
            "Iter:  20000\n",
            "[0.014514746048430895, 0.014468019871844158, 0.014464388470157274, 0.014385080178838005, 0.014357123924666, 0.014319227137243108, 0.014400169849274697, 0.014209744773080372, 0.01430111621897693, 0.014280614750901923, 0.01421271482521649, 0.014239160650903663, 0.014130950932109757, 0.01414105309553614, 0.014039854478891294, 0.01412419342099544, 0.014106794907352308, 0.014141716179265282, 0.014014588421113753]\n",
            "[1.0145494235452663, 1.014675035922429, 1.0146167277145173, 1.0143799001300648, 1.0142600145229734, 1.0145105889660695, 1.014388697675713, 1.0143656834875456, 1.0143616185205255, 1.0144903946840986, 1.0142941462166253, 1.0139209919285836, 1.0143635139730434, 1.0142490587354775, 1.0142159749997828, 1.0142140586811204, 1.014092452185311, 1.014142630999757, 1.014142946524586]\n",
            "---\n",
            "Epoch: 20\n",
            "Iter:  10000\n",
            "Iter:  20000\n",
            "[0.014514746048430895, 0.014468019871844158, 0.014464388470157274, 0.014385080178838005, 0.014357123924666, 0.014319227137243108, 0.014400169849274697, 0.014209744773080372, 0.01430111621897693, 0.014280614750901923, 0.01421271482521649, 0.014239160650903663, 0.014130950932109757, 0.01414105309553614, 0.014039854478891294, 0.01412419342099544, 0.014106794907352308, 0.014141716179265282, 0.014014588421113753, 0.014025035805507988]\n",
            "[1.0145494235452663, 1.014675035922429, 1.0146167277145173, 1.0143799001300648, 1.0142600145229734, 1.0145105889660695, 1.014388697675713, 1.0143656834875456, 1.0143616185205255, 1.0144903946840986, 1.0142941462166253, 1.0139209919285836, 1.0143635139730434, 1.0142490587354775, 1.0142159749997828, 1.0142140586811204, 1.014092452185311, 1.014142630999757, 1.014142946524586, 1.014138722205153]\n",
            "---\n"
          ]
        },
        {
          "output_type": "display_data",
          "data": {
            "image/png": "[encoded data removed]",
            "text/plain": [
              "<Figure size 432x288 with 2 Axes>"
            ]
          },
          "metadata": {
            "needs_background": "light"
          }
        }
      ],
      "source": [
        "train(model, train_loader, val_loader, 20)"
      ]
    },
    {
      "cell_type": "markdown",
      "metadata": {
        "id": "WKk01pwx1pq_"
      },
      "source": [
        "### Part (b) [3 pt]\n",
        "\n",
        "While plotting training and validation loss is valuable, loss values are harder to compare\n",
        "than accuracy percentages. It would be nice to have a measure of \"accuracy\" in this problem.\n",
        "\n",
        "Since we will only be imputing missing categorical values, we will define an accuracy measure.\n",
        "For each record and for each categorical feature, we determine whether\n",
        "the model can predict the categorical feature given all the other features of the record.\n",
        "\n",
        "A function `get_accuracy` is written for you. It is up to you to figure out how to\n",
        "use the function. **You don't need to submit anything in this part.**\n",
        "To earn the marks, correctly plot the training and validation accuracy every few \n",
        "iterations as part of your training curve."
      ]
    },
    {
      "cell_type": "code",
      "execution_count": null,
      "metadata": {
        "collapsed": true,
        "id": "bHWLfCzM1pq_",
        "jupyter": {
          "outputs_hidden": true
        }
      },
      "outputs": [],
      "source": [
        "def get_accuracy(model, data_loader):\n",
        "    \"\"\"Return the \"accuracy\" of the autoencoder model across a data set.\n",
        "    That is, for each record and for each categorical feature, \n",
        "    we determine whether the model can successfully predict the value\n",
        "    of the categorical feature given all the other features of the \n",
        "    record. The returned \"accuracy\" measure is the percentage of times \n",
        "    that our model is successful.\n",
        "        \n",
        "    Args:\n",
        "       - model: the autoencoder model, an instance of nn.Module\n",
        "       - data_loader: an instance of torch.utils.data.DataLoader\n",
        "\n",
        "    Example (to illustrate how get_accuracy is intended to be called.\n",
        "             Depending on your variable naming this code might require\n",
        "             modification.)\n",
        "\n",
        "        >>> model = AutoEncoder()\n",
        "        >>> vdl = torch.utils.data.DataLoader(data_valid, batch_size=256, shuffle=True)\n",
        "        >>> get_accuracy(model, vdl)\n",
        "    \"\"\"\n",
        "    total = 0\n",
        "    acc = 0\n",
        "    for col in catcols:\n",
        "        for item in data_loader: # minibatches\n",
        "            inp = item[0].detach().numpy()\n",
        "            out = model(zero_out_feature(item[0].clone(), col)).detach().numpy()\n",
        "            for i in range(out.shape[0]): # record in minibatch\n",
        "                acc += int(get_feature(out[i], col) == get_feature(inp[i], col))\n",
        "                total += 1\n",
        "    return acc / total"
      ]
    },
    {
      "cell_type": "markdown",
      "metadata": {
        "id": "SxCTlXoV1prB"
      },
      "source": [
        "### Part (c) [4 pt]\n",
        "\n",
        "Run your updated training code, using reasonable initial hyperparameters.\n",
        "\n",
        "Include your training curve in your submission."
      ]
    },
    {
      "cell_type": "code",
      "source": [
        "def train(model, train_loader, valid_loader, num_epochs=5, learning_rate=1e-4, plot=True):\n",
        "    \"\"\" Training loop. You should update this.\"\"\"\n",
        "    torch.manual_seed(42)\n",
        "    criterion = nn.MSELoss()\n",
        "    optimizer = torch.optim.Adam(model.parameters(), lr=learning_rate)\n",
        "\n",
        "    train_loss_list = []\n",
        "    val_loss_list = []\n",
        "\n",
        "    for epoch in range(num_epochs):\n",
        "        print(\"Epoch:\", epoch + 1)\n",
        "\n",
        "        train_loss = 0.0\n",
        "        val_loss = 0.0\n",
        "        iter = 0\n",
        "        for data in train_loader:\n",
        "            datam = zero_out_random_feature(np.copy(data[0].numpy())) # zero out one categorical feature\n",
        "            data_tn = torch.tensor(datam)\n",
        "            recon = model(data_tn)\n",
        "            loss = criterion(recon, data[0])\n",
        "            loss.backward()\n",
        "\n",
        "            train_loss += loss.item()\n",
        "            iter += 1\n",
        "            optimizer.step()\n",
        "            optimizer.zero_grad()\n",
        "            if iter % 10000 == 0:\n",
        "              print(\"Iter: \", iter)\n",
        "\n",
        "        train_loss_list.append(train_loss / (iter + 1))\n",
        "        val_loss_list.append(evaluate(model, valid_loader, learning_rate))\n",
        "\n",
        "        print(\"Training accuracy:\", get_accuracy(model, train_loader))\n",
        "        print(\"Validation accuracy:\", get_accuracy(model, valid_loader))\n",
        "\n",
        "        print(train_loss_list)\n",
        "        print(val_loss_list)\n",
        "        print('---')\n",
        "\n",
        "    if (plot):\n",
        "      plt.subplots_adjust(left=0.1,\n",
        "                      bottom=0.1, \n",
        "                      right=0.9, \n",
        "                      top=0.9, \n",
        "                      wspace=0.4, \n",
        "                      hspace=0.4)\n",
        "      \n",
        "      plt.subplot(1, 2, 1)\n",
        "      plt.plot(range(num_epochs), train_loss_list, label = \"Train\")\n",
        "      plt.legend()\n",
        "      plt.subplot(1, 2, 2)\n",
        "      plt.plot(range(num_epochs), val_loss_list, label = \"Val\")\n",
        "      plt.legend()\n",
        "      plt.show()"
      ],
      "metadata": {
        "id": "d3djsXNJx-9A"
      },
      "execution_count": null,
      "outputs": []
    },
    {
      "cell_type": "code",
      "execution_count": null,
      "metadata": {
        "collapsed": true,
        "id": "nj5b71l-1prC",
        "jupyter": {
          "outputs_hidden": true
        },
        "colab": {
          "base_uri": "https://localhost:8080/",
          "height": 972
        },
        "outputId": "3a0189b2-206f-4e68-d58a-bab4762b4210"
      },
      "outputs": [
        {
          "output_type": "stream",
          "name": "stdout",
          "text": [
            "Epoch: 1\n",
            "Iter:  10000\n",
            "Iter:  20000\n",
            "Training accuracy: 0.8383018633925526\n",
            "Validation accuracy: 0.8419053819444444\n",
            "[0.045165844139021194]\n",
            "[1.0256266407304035]\n",
            "---\n",
            "Epoch: 2\n",
            "Iter:  10000\n",
            "Iter:  20000\n",
            "Training accuracy: 0.885057203981025\n",
            "Validation accuracy: 0.8871527777777778\n",
            "[0.045165844139021194, 0.021093086613872426]\n",
            "[1.0256266407304035, 1.0181007754200664]\n",
            "---\n",
            "Epoch: 3\n",
            "Iter:  10000\n",
            "Iter:  20000\n",
            "Training accuracy: 0.9039236660155644\n",
            "Validation accuracy: 0.9059244791666666\n",
            "[0.045165844139021194, 0.021093086613872426, 0.01686117837210426]\n",
            "[1.0256266407304035, 1.0181007754200664, 1.0152866991053189]\n",
            "---\n",
            "Epoch: 4\n",
            "Iter:  10000\n",
            "Iter:  20000\n",
            "Training accuracy: 0.9165891544972561\n",
            "Validation accuracy: 0.9185474537037037\n",
            "[0.045165844139021194, 0.021093086613872426, 0.01686117837210426, 0.014256108244306388]\n",
            "[1.0256266407304035, 1.0181007754200664, 1.0152866991053189, 1.0130367261809405]\n",
            "---\n",
            "Epoch: 5\n",
            "Iter:  10000\n",
            "Iter:  20000\n",
            "Training accuracy: 0.9268130096425139\n",
            "Validation accuracy: 0.9279152199074074\n",
            "[0.045165844139021194, 0.021093086613872426, 0.01686117837210426, 0.014256108244306388, 0.012375956832896924]\n",
            "[1.0256266407304035, 1.0181007754200664, 1.0152866991053189, 1.0130367261809405, 1.011691528482123]\n",
            "---\n"
          ]
        },
        {
          "output_type": "display_data",
          "data": {
            "image/png": "[encoded data removed]",
            "text/plain": [
              "<Figure size 432x288 with 2 Axes>"
            ]
          },
          "metadata": {
            "needs_background": "light"
          }
        }
      ],
      "source": [
        "train(model, train_loader, val_loader, 5)"
      ]
    },
    {
      "cell_type": "markdown",
      "metadata": {
        "id": "h9xTwIf51prF"
      },
      "source": [
        "### Part (d) [5 pt]\n",
        "\n",
        "Tune your hyperparameters, training at least 4 different models (4 sets of hyperparameters).\n",
        "\n",
        "Do not include all your training curves. Instead, explain what hyperparameters\n",
        "you tried, what their effect was, and what your thought process was as you \n",
        "chose the next set of hyperparameters to try."
      ]
    },
    {
      "cell_type": "markdown",
      "source": [
        "Results:\n",
        "\n",
        "\n",
        "*   Learning rate = 0.005: Train Acc.: 0.9374 & Val. Acc: 0.9372\n",
        "*   Learning rate = 0.001: Train Acc.: 0.9558 & Val. Acc: 0.9567\n",
        "*   Epoch = 15: Train Acc.: 0.9583 & Val. Acc.: 0.9594\n",
        "*   Big model with 3 layers / block: Train. Acc: 0.8539 & Val. Acc.: 0.8552\n",
        "*   Model where end layer has 15 features: Train. Acc.: 0.9018 & Val. Acc.: 0.9006\n",
        "\n"
      ],
      "metadata": {
        "id": "S-8kgh8yNlOc"
      }
    },
    {
      "cell_type": "code",
      "execution_count": null,
      "metadata": {
        "collapsed": true,
        "id": "PhTKt9iL1prG",
        "jupyter": {
          "outputs_hidden": true
        },
        "colab": {
          "base_uri": "https://localhost:8080/"
        },
        "outputId": "6673850b-fe6f-426e-9219-8070736e5848"
      },
      "outputs": [
        {
          "output_type": "stream",
          "name": "stdout",
          "text": [
            "Epoch: 1\n",
            "Iter:  10000\n",
            "Iter:  20000\n",
            "Training accuracy: 0.9018928471770068\n",
            "Validation accuracy: 0.9016565393518519\n",
            "[0.026755707743422334]\n",
            "[1.0156099290229514]\n",
            "---\n",
            "Epoch: 2\n",
            "Iter:  10000\n",
            "Iter:  20000\n",
            "Training accuracy: 0.9277354044585\n",
            "Validation accuracy: 0.9276258680555556\n",
            "[0.026755707743422334, 0.012541886297728554]\n",
            "[1.0156099290229514, 1.011098670998982]\n",
            "---\n",
            "Epoch: 3\n",
            "Iter:  10000\n",
            "Iter:  20000\n",
            "Training accuracy: 0.9339518804452299\n",
            "Validation accuracy: 0.9342809606481481\n",
            "[0.026755707743422334, 0.012541886297728554, 0.010283541989292311]\n",
            "[1.0156099290229514, 1.011098670998982, 1.00974385253711]\n",
            "---\n",
            "Epoch: 4\n",
            "Iter:  10000\n",
            "Iter:  20000\n",
            "Training accuracy: 0.9351998263727406\n",
            "Validation accuracy: 0.9354021990740741\n",
            "[0.026755707743422334, 0.012541886297728554, 0.010283541989292311, 0.00937433175941489]\n",
            "[1.0156099290229514, 1.011098670998982, 1.00974385253711, 1.0091508659980795]\n",
            "---\n",
            "Epoch: 5\n",
            "Iter:  10000\n",
            "Iter:  20000\n",
            "Training accuracy: 0.9374166744178836\n",
            "Validation accuracy: 0.9372829861111112\n",
            "[0.026755707743422334, 0.012541886297728554, 0.010283541989292311, 0.00937433175941489, 0.00893316619021679]\n",
            "[1.0156099290229514, 1.011098670998982, 1.00974385253711, 1.0091508659980795, 1.0087370111238831]\n",
            "---\n"
          ]
        }
      ],
      "source": [
        "model = AutoEncoder()\n",
        "train(model, train_loader, val_loader, 5, learning_rate=0.0005, plot = False)"
      ]
    },
    {
      "cell_type": "code",
      "source": [
        "model = AutoEncoder()\n",
        "train(model, train_loader, val_loader, 5, learning_rate=0.001, plot = False)"
      ],
      "metadata": {
        "colab": {
          "base_uri": "https://localhost:8080/"
        },
        "id": "pDHiLvlYyA3P",
        "outputId": "d22dd791-12d8-477c-c00f-d0c5055a686b"
      },
      "execution_count": null,
      "outputs": [
        {
          "output_type": "stream",
          "name": "stdout",
          "text": [
            "Epoch: 1\n",
            "Iter:  10000\n",
            "Iter:  20000\n",
            "Training accuracy: 0.9526013084054197\n",
            "Validation accuracy: 0.9534143518518519\n",
            "[0.008001460934247527]\n",
            "[1.0080672081614426]\n",
            "---\n",
            "Epoch: 2\n",
            "Iter:  10000\n",
            "Iter:  20000\n",
            "Training accuracy: 0.9527950888289461\n",
            "Validation accuracy: 0.9535951967592593\n",
            "[0.008001460934247527, 0.00789953677387754]\n",
            "[1.0080672081614426, 1.0079588592480146]\n",
            "---\n",
            "Epoch: 3\n",
            "Iter:  10000\n",
            "Iter:  20000\n",
            "Training accuracy: 0.9556397854463151\n",
            "Validation accuracy: 0.9560546875\n",
            "[0.008001460934247527, 0.00789953677387754, 0.00789831658956382]\n",
            "[1.0080672081614426, 1.0079588592480146, 1.0078820293898356]\n",
            "---\n",
            "Epoch: 4\n",
            "Iter:  10000\n",
            "Iter:  20000\n",
            "Training accuracy: 0.9552134685145568\n",
            "Validation accuracy: 0.9560908564814815\n",
            "[0.008001460934247527, 0.00789953677387754, 0.00789831658956382, 0.0076788187764436355]\n",
            "[1.0080672081614426, 1.0079588592480146, 1.0078820293898356, 1.0076639920355317]\n",
            "---\n",
            "Epoch: 5\n",
            "Iter:  10000\n",
            "Iter:  20000\n",
            "Training accuracy: 0.9558180634359594\n",
            "Validation accuracy: 0.9567418981481481\n",
            "[0.008001460934247527, 0.00789953677387754, 0.00789831658956382, 0.0076788187764436355, 0.007581466481596743]\n",
            "[1.0080672081614426, 1.0079588592480146, 1.0078820293898356, 1.0076639920355317, 1.0075382987711285]\n",
            "---\n"
          ]
        }
      ]
    },
    {
      "cell_type": "code",
      "source": [
        "model = AutoEncoder()\n",
        "train(model, train_loader, val_loader, 15, learning_rate=0.0001, plot = False)"
      ],
      "metadata": {
        "colab": {
          "base_uri": "https://localhost:8080/"
        },
        "id": "A907DcaoyFBL",
        "outputId": "92eddcd9-a130-497c-a05c-786f1d4c260a"
      },
      "execution_count": null,
      "outputs": [
        {
          "output_type": "stream",
          "name": "stdout",
          "text": [
            "Epoch: 1\n",
            "Iter:  10000\n",
            "Iter:  20000\n",
            "Training accuracy: 0.9577016091526369\n",
            "Validation accuracy: 0.9582609953703703\n",
            "[0.006273962423640503]\n",
            "[1.0060328791478859]\n",
            "---\n",
            "Epoch: 2\n",
            "Iter:  10000\n",
            "Iter:  20000\n",
            "Training accuracy: 0.9579031407931046\n",
            "Validation accuracy: 0.9586588541666666\n",
            "[0.006273962423640503, 0.006030206612315919]\n",
            "[1.0060328791478859, 1.0059282298592944]\n",
            "---\n",
            "Epoch: 3\n",
            "Iter:  10000\n",
            "Iter:  20000\n",
            "Training accuracy: 0.9580116578302793\n",
            "Validation accuracy: 0.9589482060185185\n",
            "[0.006273962423640503, 0.006030206612315919, 0.005948134533953319]\n",
            "[1.0060328791478859, 1.0059282298592944, 1.0058578092680106]\n",
            "---\n",
            "Epoch: 4\n",
            "Iter:  10000\n",
            "Iter:  20000\n",
            "Training accuracy: 0.9581201748674542\n",
            "Validation accuracy: 0.9590205439814815\n",
            "[0.006273962423640503, 0.006030206612315919, 0.005948134533953319, 0.005894095600899005]\n",
            "[1.0060328791478859, 1.0059282298592944, 1.0058578092680106, 1.005809961550756]\n",
            "---\n",
            "Epoch: 5\n",
            "Iter:  10000\n",
            "Iter:  20000\n",
            "Training accuracy: 0.9582054382538059\n",
            "Validation accuracy: 0.9590205439814815\n",
            "[0.006273962423640503, 0.006030206612315919, 0.005948134533953319, 0.005894095600899005, 0.0058581075005102465]\n",
            "[1.0060328791478859, 1.0059282298592944, 1.0058578092680106, 1.005809961550756, 1.0057833706755623]\n",
            "---\n",
            "Epoch: 6\n",
            "Iter:  10000\n",
            "Iter:  20000\n",
            "Training accuracy: 0.9581666821691005\n",
            "Validation accuracy: 0.9588758680555556\n",
            "[0.006273962423640503, 0.006030206612315919, 0.005948134533953319, 0.005894095600899005, 0.0058581075005102465, 0.005830850317190019]\n",
            "[1.0060328791478859, 1.0059282298592944, 1.0058578092680106, 1.005809961550756, 1.0057833706755623, 1.0057601695016674]\n",
            "---\n",
            "Epoch: 7\n",
            "Iter:  10000\n",
            "Iter:  20000\n",
            "Training accuracy: 0.9582519455554522\n",
            "Validation accuracy: 0.958984375\n",
            "[0.006273962423640503, 0.006030206612315919, 0.005948134533953319, 0.005894095600899005, 0.0058581075005102465, 0.005830850317190019, 0.005806414650411955]\n",
            "[1.0060328791478859, 1.0059282298592944, 1.0058578092680106, 1.005809961550756, 1.0057833706755623, 1.0057601695016674, 1.005741268027758]\n",
            "---\n",
            "Epoch: 8\n",
            "Iter:  10000\n",
            "Iter:  20000\n",
            "Training accuracy: 0.9582907016401575\n",
            "Validation accuracy: 0.9591290509259259\n",
            "[0.006273962423640503, 0.006030206612315919, 0.005948134533953319, 0.005894095600899005, 0.0058581075005102465, 0.005830850317190019, 0.005806414650411955, 0.005786340056456008]\n",
            "[1.0060328791478859, 1.0059282298592944, 1.0058578092680106, 1.005809961550756, 1.0057833706755623, 1.0057601695016674, 1.005741268027758, 1.0057280543084886]\n",
            "---\n",
            "Epoch: 9\n",
            "Iter:  10000\n",
            "Iter:  20000\n",
            "Training accuracy: 0.9583294577248628\n",
            "Validation accuracy: 0.9592013888888888\n",
            "[0.006273962423640503, 0.006030206612315919, 0.005948134533953319, 0.005894095600899005, 0.0058581075005102465, 0.005830850317190019, 0.005806414650411955, 0.005786340056456008, 0.005768236437517086]\n",
            "[1.0060328791478859, 1.0059282298592944, 1.0058578092680106, 1.005809961550756, 1.0057833706755623, 1.0057601695016674, 1.005741268027758, 1.0057280543084886, 1.005706257470949]\n",
            "---\n",
            "Epoch: 10\n",
            "Iter:  10000\n",
            "Iter:  20000\n",
            "Training accuracy: 0.9583372089418039\n",
            "Validation accuracy: 0.9593460648148148\n",
            "[0.006273962423640503, 0.006030206612315919, 0.005948134533953319, 0.005894095600899005, 0.0058581075005102465, 0.005830850317190019, 0.005806414650411955, 0.005786340056456008, 0.005768236437517086, 0.0057513495496451525]\n",
            "[1.0060328791478859, 1.0059282298592944, 1.0058578092680106, 1.005809961550756, 1.0057833706755623, 1.0057601695016674, 1.005741268027758, 1.0057280543084886, 1.005706257470949, 1.0056897532076043]\n",
            "---\n",
            "Epoch: 11\n",
            "Iter:  10000\n",
            "Iter:  20000\n",
            "Training accuracy: 0.9582984528570986\n",
            "Validation accuracy: 0.9593460648148148\n",
            "[0.006273962423640503, 0.006030206612315919, 0.005948134533953319, 0.005894095600899005, 0.0058581075005102465, 0.005830850317190019, 0.005806414650411955, 0.005786340056456008, 0.005768236437517086, 0.0057513495496451525, 0.0057384076905192755]\n",
            "[1.0060328791478859, 1.0059282298592944, 1.0058578092680106, 1.005809961550756, 1.0057833706755623, 1.0057601695016674, 1.005741268027758, 1.0057280543084886, 1.005706257470949, 1.0056897532076043, 1.0056759665461388]\n",
            "---\n",
            "Epoch: 12\n",
            "Iter:  10000\n",
            "Iter:  20000\n",
            "Training accuracy: 0.9583217065079217\n",
            "Validation accuracy: 0.9593460648148148\n",
            "[0.006273962423640503, 0.006030206612315919, 0.005948134533953319, 0.005894095600899005, 0.0058581075005102465, 0.005830850317190019, 0.005806414650411955, 0.005786340056456008, 0.005768236437517086, 0.0057513495496451525, 0.0057384076905192755, 0.005727714850816819]\n",
            "[1.0060328791478859, 1.0059282298592944, 1.0058578092680106, 1.005809961550756, 1.0057833706755623, 1.0057601695016674, 1.005741268027758, 1.0057280543084886, 1.005706257470949, 1.0056897532076043, 1.0056759665461388, 1.0056624853345202]\n",
            "---\n",
            "Epoch: 13\n",
            "Iter:  10000\n",
            "Iter:  20000\n",
            "Training accuracy: 0.9583604625926271\n",
            "Validation accuracy: 0.9593460648148148\n",
            "[0.006273962423640503, 0.006030206612315919, 0.005948134533953319, 0.005894095600899005, 0.0058581075005102465, 0.005830850317190019, 0.005806414650411955, 0.005786340056456008, 0.005768236437517086, 0.0057513495496451525, 0.0057384076905192755, 0.005727714850816819, 0.0057116955676521355]\n",
            "[1.0060328791478859, 1.0059282298592944, 1.0058578092680106, 1.005809961550756, 1.0057833706755623, 1.0057601695016674, 1.005741268027758, 1.0057280543084886, 1.005706257470949, 1.0056897532076043, 1.0056759665461388, 1.0056624853345202, 1.005650514110382]\n",
            "---\n",
            "Epoch: 14\n",
            "Iter:  10000\n",
            "Iter:  20000\n",
            "Training accuracy: 0.9583372089418039\n",
            "Validation accuracy: 0.9592737268518519\n",
            "[0.006273962423640503, 0.006030206612315919, 0.005948134533953319, 0.005894095600899005, 0.0058581075005102465, 0.005830850317190019, 0.005806414650411955, 0.005786340056456008, 0.005768236437517086, 0.0057513495496451525, 0.0057384076905192755, 0.005727714850816819, 0.0057116955676521355, 0.005697181563456488]\n",
            "[1.0060328791478859, 1.0059282298592944, 1.0058578092680106, 1.005809961550756, 1.0057833706755623, 1.0057601695016674, 1.005741268027758, 1.0057280543084886, 1.005706257470949, 1.0056897532076043, 1.0056759665461388, 1.0056624853345202, 1.005650514110382, 1.0056408635462426]\n",
            "---\n",
            "Epoch: 15\n",
            "Iter:  10000\n",
            "Iter:  20000\n",
            "Training accuracy: 0.9583449601587449\n",
            "Validation accuracy: 0.9594907407407407\n",
            "[0.006273962423640503, 0.006030206612315919, 0.005948134533953319, 0.005894095600899005, 0.0058581075005102465, 0.005830850317190019, 0.005806414650411955, 0.005786340056456008, 0.005768236437517086, 0.0057513495496451525, 0.0057384076905192755, 0.005727714850816819, 0.0057116955676521355, 0.005697181563456488, 0.005685569489035571]\n",
            "[1.0060328791478859, 1.0059282298592944, 1.0058578092680106, 1.005809961550756, 1.0057833706755623, 1.0057601695016674, 1.005741268027758, 1.0057280543084886, 1.005706257470949, 1.0056897532076043, 1.0056759665461388, 1.0056624853345202, 1.005650514110382, 1.0056408635462426, 1.005627844539487]\n",
            "---\n"
          ]
        }
      ]
    },
    {
      "cell_type": "code",
      "source": [
        "## Big net\n",
        "class BigAutoEncoder(nn.Module):\n",
        "    def __init__(self):\n",
        "        super(BigAutoEncoder, self).__init__()\n",
        "        self.encoder = nn.Sequential(\n",
        "            nn.Linear(57, 40), # TODO -- FILL OUT THE CODE HERE!\n",
        "            nn.Linear(40, 21),\n",
        "            nn.Linear(21, 11)\n",
        "        )\n",
        "        self.decoder = nn.Sequential(\n",
        "            nn.Linear(11, 21),\n",
        "            nn.Linear(21, 40),\n",
        "            nn.Linear(40, 57), # TODO -- FILL OUT THE CODE HERE!\n",
        "            nn.Sigmoid() # get to the range (0, 1)\n",
        "        )\n",
        "\n",
        "    def forward(self, x):\n",
        "        x = self.encoder(x)\n",
        "        x = self.decoder(x)\n",
        "        return x\n",
        "\n",
        "big_model = BigAutoEncoder()"
      ],
      "metadata": {
        "id": "QXZQO_5xyLma"
      },
      "execution_count": null,
      "outputs": []
    },
    {
      "cell_type": "code",
      "source": [
        "train(big_model, train_loader, val_loader, 5, learning_rate=0.0001, plot = False)"
      ],
      "metadata": {
        "colab": {
          "base_uri": "https://localhost:8080/"
        },
        "id": "CwUrIMAt1UQ0",
        "outputId": "81f6c0d7-1d63-4dbe-ce24-0c1a23ab7fe7"
      },
      "execution_count": null,
      "outputs": [
        {
          "output_type": "stream",
          "name": "stdout",
          "text": [
            "Epoch: 1\n",
            "Iter:  10000\n",
            "Iter:  20000\n",
            "Training accuracy: 0.7540848913279384\n",
            "Validation accuracy: 0.7562572337962963\n",
            "[0.05191571783745996]\n",
            "[1.0366831437382364]\n",
            "---\n",
            "Epoch: 2\n",
            "Iter:  10000\n",
            "Iter:  20000\n",
            "Training accuracy: 0.8010340123399373\n",
            "Validation accuracy: 0.8032407407407407\n",
            "[0.05191571783745996, 0.030593101933280572]\n",
            "[1.0366831437382364, 1.028175076610498]\n",
            "---\n",
            "Epoch: 3\n",
            "Iter:  10000\n",
            "Iter:  20000\n",
            "Training accuracy: 0.8162496511952376\n",
            "Validation accuracy: 0.8176721643518519\n",
            "[0.05191571783745996, 0.030593101933280572, 0.027583933748726783]\n",
            "[1.0366831437382364, 1.028175076610498, 1.0270102928652325]\n",
            "---\n",
            "Epoch: 4\n",
            "Iter:  10000\n",
            "Iter:  20000\n",
            "Training accuracy: 0.8380073171487924\n",
            "Validation accuracy: 0.8381076388888888\n",
            "[0.05191571783745996, 0.030593101933280572, 0.027583933748726783, 0.02624176452074473]\n",
            "[1.0366831437382364, 1.028175076610498, 1.0270102928652325, 1.0250359027553548]\n",
            "---\n",
            "Epoch: 5\n",
            "Iter:  10000\n",
            "Iter:  20000\n",
            "Training accuracy: 0.8539980776981986\n",
            "Validation accuracy: 0.8552517361111112\n",
            "[0.05191571783745996, 0.030593101933280572, 0.027583933748726783, 0.02624176452074473, 0.022497220227420973]\n",
            "[1.0366831437382364, 1.028175076610498, 1.0270102928652325, 1.0250359027553548, 1.0211790339361864]\n",
            "---\n"
          ]
        }
      ]
    },
    {
      "cell_type": "markdown",
      "metadata": {
        "id": "ymCsZH291prI"
      },
      "source": [
        "## Part 4. Testing [12 pt]\n",
        "\n",
        "### Part (a) [2 pt]\n",
        "\n",
        "Compute and report the test accuracy."
      ]
    },
    {
      "cell_type": "code",
      "execution_count": null,
      "metadata": {
        "collapsed": true,
        "id": "0OkSbup91prJ",
        "jupyter": {
          "outputs_hidden": true
        },
        "colab": {
          "base_uri": "https://localhost:8080/"
        },
        "outputId": "5002a918-6b9d-417b-e36a-6bf411d7e842"
      },
      "outputs": [
        {
          "output_type": "stream",
          "name": "stdout",
          "text": [
            "Test accuracy: 0.9615523726851852\n"
          ]
        }
      ],
      "source": [
        "print(\"Test accuracy:\", get_accuracy(model, test_loader))"
      ]
    },
    {
      "cell_type": "markdown",
      "metadata": {
        "id": "UEe9yt6L1prM"
      },
      "source": [
        "### Part (b) [4 pt]\n",
        "\n",
        "Based on the test accuracy alone, it is difficult to assess whether our model\n",
        "is actually performing well. We don't know whether a high accuracy is due to\n",
        "the simplicity of the problem, or if a poor accuracy is a result of the inherent\n",
        "difficulty of the problem.\n",
        "\n",
        "It is therefore very important to be able to compare our model to at least one\n",
        "alternative. In particular, we consider a simple **baseline**\n",
        "model that is not very computationally expensive. Our neural network\n",
        "should at least outperform this baseline model. If our network is not much\n",
        "better than the baseline, then it is not doing well.\n",
        "\n",
        "For our data imputation problem, consider the following baseline model:\n",
        "to predict a missing feature, the baseline model will look at the **most common value** of the feature in the training set. \n",
        "\n",
        "For example, if the feature \"marriage\" is missing, then this model's prediction will be the most common value for \"marriage\" in the training set, which happens to be \"Married-civ-spouse\".\n",
        "\n",
        "What would be the test accuracy of this baseline model?\n"
      ]
    },
    {
      "cell_type": "code",
      "source": [
        "header = ['age', 'work', 'fnlwgt', 'edu', 'yredu', 'marriage', 'occupation',\n",
        " 'relationship', 'race', 'sex', 'capgain', 'caploss', 'workhr', 'country']\n",
        "df = pd.read_csv(\n",
        "    \"https://archive.ics.uci.edu/ml/machine-learning-databases/adult/adult.data\",\n",
        "    names=header,\n",
        "    index_col=False)"
      ],
      "metadata": {
        "colab": {
          "base_uri": "https://localhost:8080/"
        },
        "id": "E2zqubT2A472",
        "outputId": "5e3342b1-9291-412b-891e-8d7e83feb4cd"
      },
      "execution_count": null,
      "outputs": [
        {
          "output_type": "stream",
          "name": "stderr",
          "text": [
            "/usr/local/lib/python3.7/dist-packages/pandas/util/_decorators.py:311: ParserWarning: Length of header or names does not match length of data. This leads to a loss of data with index_col=False.\n",
            "  return func(*args, **kwargs)\n"
          ]
        }
      ]
    },
    {
      "cell_type": "code",
      "source": [
        "contcols = [\"age\", \"yredu\", \"capgain\", \"caploss\", \"workhr\"]\n",
        "catcols = [\"work\", \"marriage\", \"occupation\", \"edu\", \"relationship\", \"sex\"]\n",
        "features = contcols + catcols\n",
        "df = df[features]"
      ],
      "metadata": {
        "id": "s1pC5SjRA5xd"
      },
      "execution_count": null,
      "outputs": []
    },
    {
      "cell_type": "code",
      "source": [
        "missing = pd.concat([df[c] == \" ?\" for c in catcols], axis=1).any(axis=1)\n",
        "df_with_missing = df[missing]\n",
        "df_not_missing = df[~missing]"
      ],
      "metadata": {
        "id": "iDteTnu2BBn_"
      },
      "execution_count": null,
      "outputs": []
    },
    {
      "cell_type": "code",
      "source": [
        "# We are making a 80-20 split\n",
        "train_dataframe = df_not_missing[:int(len(df_not_missing)*0.8)]\n",
        "test_dataframe = df_not_missing[int(len(df_not_missing)*0.8):]"
      ],
      "metadata": {
        "id": "DDQXfxH0ABWG"
      },
      "execution_count": null,
      "outputs": []
    },
    {
      "cell_type": "code",
      "execution_count": null,
      "metadata": {
        "collapsed": true,
        "id": "p45VHp011prN",
        "jupyter": {
          "outputs_hidden": true
        },
        "colab": {
          "base_uri": "https://localhost:8080/"
        },
        "outputId": "99367c62-c63f-4b67-9d3e-14460c8ef892"
      },
      "outputs": [
        {
          "output_type": "execute_result",
          "data": {
            "text/plain": [
              "{'age': 37,\n",
              " 'capgain': 0,\n",
              " 'caploss': 0,\n",
              " 'edu': ' HS-grad',\n",
              " 'marriage': ' Married-civ-spouse',\n",
              " 'occupation': ' Prof-specialty',\n",
              " 'relationship': ' Husband',\n",
              " 'sex': ' Male',\n",
              " 'work': ' Private',\n",
              " 'workhr': 40,\n",
              " 'yredu': 9}"
            ]
          },
          "metadata": {},
          "execution_count": 88
        }
      ],
      "source": [
        "mapping = {}\n",
        "\n",
        "for col in train_dataframe.columns:\n",
        "  if col in train_dataframe.columns:\n",
        "    if col not in mapping.keys():\n",
        "      mapping[col] = list(train_dataframe[col].mode())[0]\n",
        "\n",
        "mapping"
      ]
    },
    {
      "cell_type": "code",
      "source": [
        "def baseline (missing_col):\n",
        "    return mapping[missing_col]\n",
        "\n",
        "np.random.seed(10)\n",
        "\n",
        "def train(data):\n",
        "  acc = 0\n",
        "  total = 0\n",
        "\n",
        "  for index, row in data.iterrows():\n",
        "    col = np.random.choice(test_dataframe.columns)\n",
        "    pred_col = baseline(col)\n",
        "    if (row[col] == pred_col):\n",
        "      acc += 1\n",
        "    total += 1\n",
        "\n",
        "  return acc/total\n",
        "\n",
        "print(train(test_dataframe))"
      ],
      "metadata": {
        "colab": {
          "base_uri": "https://localhost:8080/"
        },
        "id": "nLZwBBYt8RDM",
        "outputId": "0a733a8c-411b-4900-8616-33f23d99d9fa"
      },
      "execution_count": null,
      "outputs": [
        {
          "output_type": "stream",
          "name": "stdout",
          "text": [
            "0.494140625\n"
          ]
        }
      ]
    },
    {
      "cell_type": "markdown",
      "metadata": {
        "id": "QlHu0wxh1prP"
      },
      "source": [
        "### Part (c) [1 pt]\n",
        "\n",
        "How does your test accuracy from part (a) compared to your basline test accuracy in part (b)?"
      ]
    },
    {
      "cell_type": "code",
      "execution_count": null,
      "metadata": {
        "collapsed": true,
        "id": "1KQdwE_n1prQ",
        "jupyter": {
          "outputs_hidden": true
        }
      },
      "outputs": [],
      "source": [
        "# The test accuracy of the autoencoder is much better than the baseline test accuracy"
      ]
    },
    {
      "cell_type": "markdown",
      "metadata": {
        "id": "DfQPgu1Q1prS"
      },
      "source": [
        "### Part (d) [1 pt]\n",
        "\n",
        "Look at the first item in your test data. \n",
        "Do you think it is reasonable for a human\n",
        "to be able to guess this person's education level\n",
        "based on their other features? Explain."
      ]
    },
    {
      "cell_type": "code",
      "source": [
        "set(df_not_missing['edu'])"
      ],
      "metadata": {
        "colab": {
          "base_uri": "https://localhost:8080/"
        },
        "id": "cpVplrWpCFRG",
        "outputId": "bb6776c7-2f07-43c2-a6f9-8da5a4777276"
      },
      "execution_count": null,
      "outputs": [
        {
          "output_type": "execute_result",
          "data": {
            "text/plain": [
              "{' 10th',\n",
              " ' 11th',\n",
              " ' 12th',\n",
              " ' 1st-4th',\n",
              " ' 5th-6th',\n",
              " ' 7th-8th',\n",
              " ' 9th',\n",
              " ' Assoc-acdm',\n",
              " ' Assoc-voc',\n",
              " ' Bachelors',\n",
              " ' Doctorate',\n",
              " ' HS-grad',\n",
              " ' Masters',\n",
              " ' Preschool',\n",
              " ' Prof-school',\n",
              " ' Some-college'}"
            ]
          },
          "metadata": {},
          "execution_count": 97
        }
      ]
    },
    {
      "cell_type": "code",
      "execution_count": null,
      "metadata": {
        "collapsed": true,
        "id": "3qbQ1vvT1prT",
        "jupyter": {
          "outputs_hidden": true
        },
        "colab": {
          "base_uri": "https://localhost:8080/",
          "height": 214
        },
        "outputId": "f0deeb63-774c-4da4-ee4b-2c1e98aa84f8"
      },
      "outputs": [
        {
          "output_type": "execute_result",
          "data": {
            "text/html": [
              "\n",
              "  <div id=\"df-934840eb-deb0-40d5-8675-d715c4e2095b\">\n",
              "    <div class=\"colab-df-container\">\n",
              "      <div>\n",
              "<style scoped>\n",
              "    .dataframe tbody tr th:only-of-type {\n",
              "        vertical-align: middle;\n",
              "    }\n",
              "\n",
              "    .dataframe tbody tr th {\n",
              "        vertical-align: top;\n",
              "    }\n",
              "\n",
              "    .dataframe thead th {\n",
              "        text-align: right;\n",
              "    }\n",
              "</style>\n",
              "<table border=\"1\" class=\"dataframe\">\n",
              "  <thead>\n",
              "    <tr style=\"text-align: right;\">\n",
              "      <th></th>\n",
              "      <th>age</th>\n",
              "      <th>yredu</th>\n",
              "      <th>capgain</th>\n",
              "      <th>caploss</th>\n",
              "      <th>workhr</th>\n",
              "      <th>work_ Federal-gov</th>\n",
              "      <th>work_ Local-gov</th>\n",
              "      <th>work_ Private</th>\n",
              "      <th>work_ Self-emp-inc</th>\n",
              "      <th>work_ Self-emp-not-inc</th>\n",
              "      <th>work_ State-gov</th>\n",
              "      <th>work_ Without-pay</th>\n",
              "      <th>marriage_ Divorced</th>\n",
              "      <th>marriage_ Married-AF-spouse</th>\n",
              "      <th>marriage_ Married-civ-spouse</th>\n",
              "      <th>marriage_ Married-spouse-absent</th>\n",
              "      <th>marriage_ Never-married</th>\n",
              "      <th>marriage_ Separated</th>\n",
              "      <th>marriage_ Widowed</th>\n",
              "      <th>occupation_ Adm-clerical</th>\n",
              "      <th>occupation_ Armed-Forces</th>\n",
              "      <th>occupation_ Craft-repair</th>\n",
              "      <th>occupation_ Exec-managerial</th>\n",
              "      <th>occupation_ Farming-fishing</th>\n",
              "      <th>occupation_ Handlers-cleaners</th>\n",
              "      <th>occupation_ Machine-op-inspct</th>\n",
              "      <th>occupation_ Other-service</th>\n",
              "      <th>occupation_ Priv-house-serv</th>\n",
              "      <th>occupation_ Prof-specialty</th>\n",
              "      <th>occupation_ Protective-serv</th>\n",
              "      <th>occupation_ Sales</th>\n",
              "      <th>occupation_ Tech-support</th>\n",
              "      <th>occupation_ Transport-moving</th>\n",
              "      <th>edu_ 10th</th>\n",
              "      <th>edu_ 11th</th>\n",
              "      <th>edu_ 12th</th>\n",
              "      <th>edu_ 1st-4th</th>\n",
              "      <th>edu_ 5th-6th</th>\n",
              "      <th>edu_ 7th-8th</th>\n",
              "      <th>edu_ 9th</th>\n",
              "      <th>edu_ Assoc-acdm</th>\n",
              "      <th>edu_ Assoc-voc</th>\n",
              "      <th>edu_ Bachelors</th>\n",
              "      <th>edu_ Doctorate</th>\n",
              "      <th>edu_ HS-grad</th>\n",
              "      <th>edu_ Masters</th>\n",
              "      <th>edu_ Preschool</th>\n",
              "      <th>edu_ Prof-school</th>\n",
              "      <th>edu_ Some-college</th>\n",
              "      <th>relationship_ Husband</th>\n",
              "      <th>relationship_ Not-in-family</th>\n",
              "      <th>relationship_ Other-relative</th>\n",
              "      <th>relationship_ Own-child</th>\n",
              "      <th>relationship_ Unmarried</th>\n",
              "      <th>relationship_ Wife</th>\n",
              "      <th>sex_ Female</th>\n",
              "      <th>sex_ Male</th>\n",
              "    </tr>\n",
              "  </thead>\n",
              "  <tbody>\n",
              "    <tr>\n",
              "      <th>0</th>\n",
              "      <td>0.30137</td>\n",
              "      <td>0.8</td>\n",
              "      <td>0.02174</td>\n",
              "      <td>0.0</td>\n",
              "      <td>0.397959</td>\n",
              "      <td>0</td>\n",
              "      <td>0</td>\n",
              "      <td>0</td>\n",
              "      <td>0</td>\n",
              "      <td>0</td>\n",
              "      <td>1</td>\n",
              "      <td>0</td>\n",
              "      <td>0</td>\n",
              "      <td>0</td>\n",
              "      <td>0</td>\n",
              "      <td>0</td>\n",
              "      <td>1</td>\n",
              "      <td>0</td>\n",
              "      <td>0</td>\n",
              "      <td>1</td>\n",
              "      <td>0</td>\n",
              "      <td>0</td>\n",
              "      <td>0</td>\n",
              "      <td>0</td>\n",
              "      <td>0</td>\n",
              "      <td>0</td>\n",
              "      <td>0</td>\n",
              "      <td>0</td>\n",
              "      <td>0</td>\n",
              "      <td>0</td>\n",
              "      <td>0</td>\n",
              "      <td>0</td>\n",
              "      <td>0</td>\n",
              "      <td>0</td>\n",
              "      <td>0</td>\n",
              "      <td>0</td>\n",
              "      <td>0</td>\n",
              "      <td>0</td>\n",
              "      <td>0</td>\n",
              "      <td>0</td>\n",
              "      <td>0</td>\n",
              "      <td>0</td>\n",
              "      <td>1</td>\n",
              "      <td>0</td>\n",
              "      <td>0</td>\n",
              "      <td>0</td>\n",
              "      <td>0</td>\n",
              "      <td>0</td>\n",
              "      <td>0</td>\n",
              "      <td>0</td>\n",
              "      <td>1</td>\n",
              "      <td>0</td>\n",
              "      <td>0</td>\n",
              "      <td>0</td>\n",
              "      <td>0</td>\n",
              "      <td>0</td>\n",
              "      <td>1</td>\n",
              "    </tr>\n",
              "  </tbody>\n",
              "</table>\n",
              "</div>\n",
              "      <button class=\"colab-df-convert\" onclick=\"convertToInteractive('df-934840eb-deb0-40d5-8675-d715c4e2095b')\"\n",
              "              title=\"Convert this dataframe to an interactive table.\"\n",
              "              style=\"display:none;\">\n",
              "        \n",
              "  <svg xmlns=\"http://www.w3.org/2000/svg\" height=\"24px\"viewBox=\"0 0 24 24\"\n",
              "       width=\"24px\">\n",
              "    <path d=\"M0 0h24v24H0V0z\" fill=\"none\"/>\n",
              "    <path d=\"M18.56 5.44l.94 2.06.94-2.06 2.06-.94-2.06-.94-.94-2.06-.94 2.06-2.06.94zm-11 1L8.5 8.5l.94-2.06 2.06-.94-2.06-.94L8.5 2.5l-.94 2.06-2.06.94zm10 10l.94 2.06.94-2.06 2.06-.94-2.06-.94-.94-2.06-.94 2.06-2.06.94z\"/><path d=\"M17.41 7.96l-1.37-1.37c-.4-.4-.92-.59-1.43-.59-.52 0-1.04.2-1.43.59L10.3 9.45l-7.72 7.72c-.78.78-.78 2.05 0 2.83L4 21.41c.39.39.9.59 1.41.59.51 0 1.02-.2 1.41-.59l7.78-7.78 2.81-2.81c.8-.78.8-2.07 0-2.86zM5.41 20L4 18.59l7.72-7.72 1.47 1.35L5.41 20z\"/>\n",
              "  </svg>\n",
              "      </button>\n",
              "      \n",
              "  <style>\n",
              "    .colab-df-container {\n",
              "      display:flex;\n",
              "      flex-wrap:wrap;\n",
              "      gap: 12px;\n",
              "    }\n",
              "\n",
              "    .colab-df-convert {\n",
              "      background-color: #E8F0FE;\n",
              "      border: none;\n",
              "      border-radius: 50%;\n",
              "      cursor: pointer;\n",
              "      display: none;\n",
              "      fill: #1967D2;\n",
              "      height: 32px;\n",
              "      padding: 0 0 0 0;\n",
              "      width: 32px;\n",
              "    }\n",
              "\n",
              "    .colab-df-convert:hover {\n",
              "      background-color: #E2EBFA;\n",
              "      box-shadow: 0px 1px 2px rgba(60, 64, 67, 0.3), 0px 1px 3px 1px rgba(60, 64, 67, 0.15);\n",
              "      fill: #174EA6;\n",
              "    }\n",
              "\n",
              "    [theme=dark] .colab-df-convert {\n",
              "      background-color: #3B4455;\n",
              "      fill: #D2E3FC;\n",
              "    }\n",
              "\n",
              "    [theme=dark] .colab-df-convert:hover {\n",
              "      background-color: #434B5C;\n",
              "      box-shadow: 0px 1px 3px 1px rgba(0, 0, 0, 0.15);\n",
              "      filter: drop-shadow(0px 1px 2px rgba(0, 0, 0, 0.3));\n",
              "      fill: #FFFFFF;\n",
              "    }\n",
              "  </style>\n",
              "\n",
              "      <script>\n",
              "        const buttonEl =\n",
              "          document.querySelector('#df-934840eb-deb0-40d5-8675-d715c4e2095b button.colab-df-convert');\n",
              "        buttonEl.style.display =\n",
              "          google.colab.kernel.accessAllowed ? 'block' : 'none';\n",
              "\n",
              "        async function convertToInteractive(key) {\n",
              "          const element = document.querySelector('#df-934840eb-deb0-40d5-8675-d715c4e2095b');\n",
              "          const dataTable =\n",
              "            await google.colab.kernel.invokeFunction('convertToInteractive',\n",
              "                                                     [key], {});\n",
              "          if (!dataTable) return;\n",
              "\n",
              "          const docLinkHtml = 'Like what you see? Visit the ' +\n",
              "            '<a target=\"_blank\" href=https://colab.research.google.com/notebooks/data_table.ipynb>data table notebook</a>'\n",
              "            + ' to learn more about interactive tables.';\n",
              "          element.innerHTML = '';\n",
              "          dataTable['output_type'] = 'display_data';\n",
              "          await google.colab.output.renderOutput(dataTable, element);\n",
              "          const docLink = document.createElement('div');\n",
              "          docLink.innerHTML = docLinkHtml;\n",
              "          element.appendChild(docLink);\n",
              "        }\n",
              "      </script>\n",
              "    </div>\n",
              "  </div>\n",
              "  "
            ],
            "text/plain": [
              "       age  yredu  capgain  caploss    workhr  work_ Federal-gov  \\\n",
              "0  0.30137    0.8  0.02174      0.0  0.397959                  0   \n",
              "\n",
              "   work_ Local-gov  work_ Private  work_ Self-emp-inc  work_ Self-emp-not-inc  \\\n",
              "0                0              0                   0                       0   \n",
              "\n",
              "   work_ State-gov  work_ Without-pay  marriage_ Divorced  \\\n",
              "0                1                  0                   0   \n",
              "\n",
              "   marriage_ Married-AF-spouse  marriage_ Married-civ-spouse  \\\n",
              "0                            0                             0   \n",
              "\n",
              "   marriage_ Married-spouse-absent  marriage_ Never-married  \\\n",
              "0                                0                        1   \n",
              "\n",
              "   marriage_ Separated  marriage_ Widowed  occupation_ Adm-clerical  \\\n",
              "0                    0                  0                         1   \n",
              "\n",
              "   occupation_ Armed-Forces  occupation_ Craft-repair  \\\n",
              "0                         0                         0   \n",
              "\n",
              "   occupation_ Exec-managerial  occupation_ Farming-fishing  \\\n",
              "0                            0                            0   \n",
              "\n",
              "   occupation_ Handlers-cleaners  occupation_ Machine-op-inspct  \\\n",
              "0                              0                              0   \n",
              "\n",
              "   occupation_ Other-service  occupation_ Priv-house-serv  \\\n",
              "0                          0                            0   \n",
              "\n",
              "   occupation_ Prof-specialty  occupation_ Protective-serv  occupation_ Sales  \\\n",
              "0                           0                            0                  0   \n",
              "\n",
              "   occupation_ Tech-support  occupation_ Transport-moving  edu_ 10th  \\\n",
              "0                         0                             0          0   \n",
              "\n",
              "   edu_ 11th  edu_ 12th  edu_ 1st-4th  edu_ 5th-6th  edu_ 7th-8th  edu_ 9th  \\\n",
              "0          0          0             0             0             0         0   \n",
              "\n",
              "   edu_ Assoc-acdm  edu_ Assoc-voc  edu_ Bachelors  edu_ Doctorate  \\\n",
              "0                0               0               1               0   \n",
              "\n",
              "   edu_ HS-grad  edu_ Masters  edu_ Preschool  edu_ Prof-school  \\\n",
              "0             0             0               0                 0   \n",
              "\n",
              "   edu_ Some-college  relationship_ Husband  relationship_ Not-in-family  \\\n",
              "0                  0                      0                            1   \n",
              "\n",
              "   relationship_ Other-relative  relationship_ Own-child  \\\n",
              "0                             0                        0   \n",
              "\n",
              "   relationship_ Unmarried  relationship_ Wife  sex_ Female  sex_ Male  \n",
              "0                        0                   0            0          1  "
            ]
          },
          "metadata": {},
          "execution_count": 215
        }
      ],
      "source": [
        "# He is in clerical operations and hence its reasonable to expect a degree higher than highschool probably a bachelors's degree \n",
        "import pandas as pd\n",
        "pd.set_option(\"display.max_columns\", None)\n",
        "\n",
        "data[:1]"
      ]
    },
    {
      "cell_type": "markdown",
      "metadata": {
        "id": "p_d5uuAY1prZ"
      },
      "source": [
        "### Part (e) [2 pt]\n",
        "\n",
        "What is your model's prediction of this person's education\n",
        "level, given their other features?\n"
      ]
    },
    {
      "cell_type": "code",
      "execution_count": null,
      "metadata": {
        "collapsed": true,
        "id": "kBY5gKXR1pra",
        "jupyter": {
          "outputs_hidden": true
        },
        "colab": {
          "base_uri": "https://localhost:8080/",
          "height": 214
        },
        "outputId": "57e8b970-737e-44fb-8f91-d9f76200ff13"
      },
      "outputs": [
        {
          "output_type": "execute_result",
          "data": {
            "text/html": [
              "\n",
              "  <div id=\"df-5aa562ba-c146-4c75-ba32-8d7dad3c3631\">\n",
              "    <div class=\"colab-df-container\">\n",
              "      <div>\n",
              "<style scoped>\n",
              "    .dataframe tbody tr th:only-of-type {\n",
              "        vertical-align: middle;\n",
              "    }\n",
              "\n",
              "    .dataframe tbody tr th {\n",
              "        vertical-align: top;\n",
              "    }\n",
              "\n",
              "    .dataframe thead th {\n",
              "        text-align: right;\n",
              "    }\n",
              "</style>\n",
              "<table border=\"1\" class=\"dataframe\">\n",
              "  <thead>\n",
              "    <tr style=\"text-align: right;\">\n",
              "      <th></th>\n",
              "      <th>age</th>\n",
              "      <th>yredu</th>\n",
              "      <th>capgain</th>\n",
              "      <th>caploss</th>\n",
              "      <th>workhr</th>\n",
              "      <th>work_ Federal-gov</th>\n",
              "      <th>work_ Local-gov</th>\n",
              "      <th>work_ Private</th>\n",
              "      <th>work_ Self-emp-inc</th>\n",
              "      <th>work_ Self-emp-not-inc</th>\n",
              "      <th>work_ State-gov</th>\n",
              "      <th>work_ Without-pay</th>\n",
              "      <th>marriage_ Divorced</th>\n",
              "      <th>marriage_ Married-AF-spouse</th>\n",
              "      <th>marriage_ Married-civ-spouse</th>\n",
              "      <th>marriage_ Married-spouse-absent</th>\n",
              "      <th>marriage_ Never-married</th>\n",
              "      <th>marriage_ Separated</th>\n",
              "      <th>marriage_ Widowed</th>\n",
              "      <th>occupation_ Adm-clerical</th>\n",
              "      <th>occupation_ Armed-Forces</th>\n",
              "      <th>occupation_ Craft-repair</th>\n",
              "      <th>occupation_ Exec-managerial</th>\n",
              "      <th>occupation_ Farming-fishing</th>\n",
              "      <th>occupation_ Handlers-cleaners</th>\n",
              "      <th>occupation_ Machine-op-inspct</th>\n",
              "      <th>occupation_ Other-service</th>\n",
              "      <th>occupation_ Priv-house-serv</th>\n",
              "      <th>occupation_ Prof-specialty</th>\n",
              "      <th>occupation_ Protective-serv</th>\n",
              "      <th>occupation_ Sales</th>\n",
              "      <th>occupation_ Tech-support</th>\n",
              "      <th>occupation_ Transport-moving</th>\n",
              "      <th>edu_ 10th</th>\n",
              "      <th>edu_ 11th</th>\n",
              "      <th>edu_ 12th</th>\n",
              "      <th>edu_ 1st-4th</th>\n",
              "      <th>edu_ 5th-6th</th>\n",
              "      <th>edu_ 7th-8th</th>\n",
              "      <th>edu_ 9th</th>\n",
              "      <th>edu_ Assoc-acdm</th>\n",
              "      <th>edu_ Assoc-voc</th>\n",
              "      <th>edu_ Bachelors</th>\n",
              "      <th>edu_ Doctorate</th>\n",
              "      <th>edu_ HS-grad</th>\n",
              "      <th>edu_ Masters</th>\n",
              "      <th>edu_ Preschool</th>\n",
              "      <th>edu_ Prof-school</th>\n",
              "      <th>edu_ Some-college</th>\n",
              "      <th>relationship_ Husband</th>\n",
              "      <th>relationship_ Not-in-family</th>\n",
              "      <th>relationship_ Other-relative</th>\n",
              "      <th>relationship_ Own-child</th>\n",
              "      <th>relationship_ Unmarried</th>\n",
              "      <th>relationship_ Wife</th>\n",
              "      <th>sex_ Female</th>\n",
              "      <th>sex_ Male</th>\n",
              "    </tr>\n",
              "  </thead>\n",
              "  <tbody>\n",
              "    <tr>\n",
              "      <th>0</th>\n",
              "      <td>0.30137</td>\n",
              "      <td>0.8</td>\n",
              "      <td>0.02174</td>\n",
              "      <td>0.0</td>\n",
              "      <td>0.397959</td>\n",
              "      <td>0</td>\n",
              "      <td>0</td>\n",
              "      <td>0</td>\n",
              "      <td>0</td>\n",
              "      <td>0</td>\n",
              "      <td>1</td>\n",
              "      <td>0</td>\n",
              "      <td>0</td>\n",
              "      <td>0</td>\n",
              "      <td>0</td>\n",
              "      <td>0</td>\n",
              "      <td>1</td>\n",
              "      <td>0</td>\n",
              "      <td>0</td>\n",
              "      <td>1</td>\n",
              "      <td>0</td>\n",
              "      <td>0</td>\n",
              "      <td>0</td>\n",
              "      <td>0</td>\n",
              "      <td>0</td>\n",
              "      <td>0</td>\n",
              "      <td>0</td>\n",
              "      <td>0</td>\n",
              "      <td>0</td>\n",
              "      <td>0</td>\n",
              "      <td>0</td>\n",
              "      <td>0</td>\n",
              "      <td>0</td>\n",
              "      <td>0</td>\n",
              "      <td>0</td>\n",
              "      <td>0</td>\n",
              "      <td>0</td>\n",
              "      <td>0</td>\n",
              "      <td>0</td>\n",
              "      <td>0</td>\n",
              "      <td>0</td>\n",
              "      <td>0</td>\n",
              "      <td>1</td>\n",
              "      <td>0</td>\n",
              "      <td>0</td>\n",
              "      <td>0</td>\n",
              "      <td>0</td>\n",
              "      <td>0</td>\n",
              "      <td>0</td>\n",
              "      <td>0</td>\n",
              "      <td>1</td>\n",
              "      <td>0</td>\n",
              "      <td>0</td>\n",
              "      <td>0</td>\n",
              "      <td>0</td>\n",
              "      <td>0</td>\n",
              "      <td>1</td>\n",
              "    </tr>\n",
              "  </tbody>\n",
              "</table>\n",
              "</div>\n",
              "      <button class=\"colab-df-convert\" onclick=\"convertToInteractive('df-5aa562ba-c146-4c75-ba32-8d7dad3c3631')\"\n",
              "              title=\"Convert this dataframe to an interactive table.\"\n",
              "              style=\"display:none;\">\n",
              "        \n",
              "  <svg xmlns=\"http://www.w3.org/2000/svg\" height=\"24px\"viewBox=\"0 0 24 24\"\n",
              "       width=\"24px\">\n",
              "    <path d=\"M0 0h24v24H0V0z\" fill=\"none\"/>\n",
              "    <path d=\"M18.56 5.44l.94 2.06.94-2.06 2.06-.94-2.06-.94-.94-2.06-.94 2.06-2.06.94zm-11 1L8.5 8.5l.94-2.06 2.06-.94-2.06-.94L8.5 2.5l-.94 2.06-2.06.94zm10 10l.94 2.06.94-2.06 2.06-.94-2.06-.94-.94-2.06-.94 2.06-2.06.94z\"/><path d=\"M17.41 7.96l-1.37-1.37c-.4-.4-.92-.59-1.43-.59-.52 0-1.04.2-1.43.59L10.3 9.45l-7.72 7.72c-.78.78-.78 2.05 0 2.83L4 21.41c.39.39.9.59 1.41.59.51 0 1.02-.2 1.41-.59l7.78-7.78 2.81-2.81c.8-.78.8-2.07 0-2.86zM5.41 20L4 18.59l7.72-7.72 1.47 1.35L5.41 20z\"/>\n",
              "  </svg>\n",
              "      </button>\n",
              "      \n",
              "  <style>\n",
              "    .colab-df-container {\n",
              "      display:flex;\n",
              "      flex-wrap:wrap;\n",
              "      gap: 12px;\n",
              "    }\n",
              "\n",
              "    .colab-df-convert {\n",
              "      background-color: #E8F0FE;\n",
              "      border: none;\n",
              "      border-radius: 50%;\n",
              "      cursor: pointer;\n",
              "      display: none;\n",
              "      fill: #1967D2;\n",
              "      height: 32px;\n",
              "      padding: 0 0 0 0;\n",
              "      width: 32px;\n",
              "    }\n",
              "\n",
              "    .colab-df-convert:hover {\n",
              "      background-color: #E2EBFA;\n",
              "      box-shadow: 0px 1px 2px rgba(60, 64, 67, 0.3), 0px 1px 3px 1px rgba(60, 64, 67, 0.15);\n",
              "      fill: #174EA6;\n",
              "    }\n",
              "\n",
              "    [theme=dark] .colab-df-convert {\n",
              "      background-color: #3B4455;\n",
              "      fill: #D2E3FC;\n",
              "    }\n",
              "\n",
              "    [theme=dark] .colab-df-convert:hover {\n",
              "      background-color: #434B5C;\n",
              "      box-shadow: 0px 1px 3px 1px rgba(0, 0, 0, 0.15);\n",
              "      filter: drop-shadow(0px 1px 2px rgba(0, 0, 0, 0.3));\n",
              "      fill: #FFFFFF;\n",
              "    }\n",
              "  </style>\n",
              "\n",
              "      <script>\n",
              "        const buttonEl =\n",
              "          document.querySelector('#df-5aa562ba-c146-4c75-ba32-8d7dad3c3631 button.colab-df-convert');\n",
              "        buttonEl.style.display =\n",
              "          google.colab.kernel.accessAllowed ? 'block' : 'none';\n",
              "\n",
              "        async function convertToInteractive(key) {\n",
              "          const element = document.querySelector('#df-5aa562ba-c146-4c75-ba32-8d7dad3c3631');\n",
              "          const dataTable =\n",
              "            await google.colab.kernel.invokeFunction('convertToInteractive',\n",
              "                                                     [key], {});\n",
              "          if (!dataTable) return;\n",
              "\n",
              "          const docLinkHtml = 'Like what you see? Visit the ' +\n",
              "            '<a target=\"_blank\" href=https://colab.research.google.com/notebooks/data_table.ipynb>data table notebook</a>'\n",
              "            + ' to learn more about interactive tables.';\n",
              "          element.innerHTML = '';\n",
              "          dataTable['output_type'] = 'display_data';\n",
              "          await google.colab.output.renderOutput(dataTable, element);\n",
              "          const docLink = document.createElement('div');\n",
              "          docLink.innerHTML = docLinkHtml;\n",
              "          element.appendChild(docLink);\n",
              "        }\n",
              "      </script>\n",
              "    </div>\n",
              "  </div>\n",
              "  "
            ],
            "text/plain": [
              "       age  yredu  capgain  caploss    workhr  work_ Federal-gov  \\\n",
              "0  0.30137    0.8  0.02174      0.0  0.397959                  0   \n",
              "\n",
              "   work_ Local-gov  work_ Private  work_ Self-emp-inc  work_ Self-emp-not-inc  \\\n",
              "0                0              0                   0                       0   \n",
              "\n",
              "   work_ State-gov  work_ Without-pay  marriage_ Divorced  \\\n",
              "0                1                  0                   0   \n",
              "\n",
              "   marriage_ Married-AF-spouse  marriage_ Married-civ-spouse  \\\n",
              "0                            0                             0   \n",
              "\n",
              "   marriage_ Married-spouse-absent  marriage_ Never-married  \\\n",
              "0                                0                        1   \n",
              "\n",
              "   marriage_ Separated  marriage_ Widowed  occupation_ Adm-clerical  \\\n",
              "0                    0                  0                         1   \n",
              "\n",
              "   occupation_ Armed-Forces  occupation_ Craft-repair  \\\n",
              "0                         0                         0   \n",
              "\n",
              "   occupation_ Exec-managerial  occupation_ Farming-fishing  \\\n",
              "0                            0                            0   \n",
              "\n",
              "   occupation_ Handlers-cleaners  occupation_ Machine-op-inspct  \\\n",
              "0                              0                              0   \n",
              "\n",
              "   occupation_ Other-service  occupation_ Priv-house-serv  \\\n",
              "0                          0                            0   \n",
              "\n",
              "   occupation_ Prof-specialty  occupation_ Protective-serv  occupation_ Sales  \\\n",
              "0                           0                            0                  0   \n",
              "\n",
              "   occupation_ Tech-support  occupation_ Transport-moving  edu_ 10th  \\\n",
              "0                         0                             0          0   \n",
              "\n",
              "   edu_ 11th  edu_ 12th  edu_ 1st-4th  edu_ 5th-6th  edu_ 7th-8th  edu_ 9th  \\\n",
              "0          0          0             0             0             0         0   \n",
              "\n",
              "   edu_ Assoc-acdm  edu_ Assoc-voc  edu_ Bachelors  edu_ Doctorate  \\\n",
              "0                0               0               1               0   \n",
              "\n",
              "   edu_ HS-grad  edu_ Masters  edu_ Preschool  edu_ Prof-school  \\\n",
              "0             0             0               0                 0   \n",
              "\n",
              "   edu_ Some-college  relationship_ Husband  relationship_ Not-in-family  \\\n",
              "0                  0                      0                            1   \n",
              "\n",
              "   relationship_ Other-relative  relationship_ Own-child  \\\n",
              "0                             0                        0   \n",
              "\n",
              "   relationship_ Unmarried  relationship_ Wife  sex_ Female  sex_ Male  \n",
              "0                        0                   0            0          1  "
            ]
          },
          "metadata": {},
          "execution_count": 211
        }
      ],
      "source": [
        "test_data = data[:1]\n",
        "test_data"
      ]
    },
    {
      "cell_type": "code",
      "source": [
        "for col in cat_values['edu']:\n",
        "  test_data['edu_ ' + col] = 0\n",
        "\n",
        "test_data"
      ],
      "metadata": {
        "colab": {
          "base_uri": "https://localhost:8080/",
          "height": 214
        },
        "id": "WxKII70MDVBr",
        "outputId": "2122188c-589d-4884-9514-68d232e757db"
      },
      "execution_count": null,
      "outputs": [
        {
          "output_type": "execute_result",
          "data": {
            "text/html": [
              "\n",
              "  <div id=\"df-d588f5af-b565-4b02-b76d-a73ee5ccd203\">\n",
              "    <div class=\"colab-df-container\">\n",
              "      <div>\n",
              "<style scoped>\n",
              "    .dataframe tbody tr th:only-of-type {\n",
              "        vertical-align: middle;\n",
              "    }\n",
              "\n",
              "    .dataframe tbody tr th {\n",
              "        vertical-align: top;\n",
              "    }\n",
              "\n",
              "    .dataframe thead th {\n",
              "        text-align: right;\n",
              "    }\n",
              "</style>\n",
              "<table border=\"1\" class=\"dataframe\">\n",
              "  <thead>\n",
              "    <tr style=\"text-align: right;\">\n",
              "      <th></th>\n",
              "      <th>age</th>\n",
              "      <th>yredu</th>\n",
              "      <th>capgain</th>\n",
              "      <th>caploss</th>\n",
              "      <th>workhr</th>\n",
              "      <th>work_ Federal-gov</th>\n",
              "      <th>work_ Local-gov</th>\n",
              "      <th>work_ Private</th>\n",
              "      <th>work_ Self-emp-inc</th>\n",
              "      <th>work_ Self-emp-not-inc</th>\n",
              "      <th>work_ State-gov</th>\n",
              "      <th>work_ Without-pay</th>\n",
              "      <th>marriage_ Divorced</th>\n",
              "      <th>marriage_ Married-AF-spouse</th>\n",
              "      <th>marriage_ Married-civ-spouse</th>\n",
              "      <th>marriage_ Married-spouse-absent</th>\n",
              "      <th>marriage_ Never-married</th>\n",
              "      <th>marriage_ Separated</th>\n",
              "      <th>marriage_ Widowed</th>\n",
              "      <th>occupation_ Adm-clerical</th>\n",
              "      <th>occupation_ Armed-Forces</th>\n",
              "      <th>occupation_ Craft-repair</th>\n",
              "      <th>occupation_ Exec-managerial</th>\n",
              "      <th>occupation_ Farming-fishing</th>\n",
              "      <th>occupation_ Handlers-cleaners</th>\n",
              "      <th>occupation_ Machine-op-inspct</th>\n",
              "      <th>occupation_ Other-service</th>\n",
              "      <th>occupation_ Priv-house-serv</th>\n",
              "      <th>occupation_ Prof-specialty</th>\n",
              "      <th>occupation_ Protective-serv</th>\n",
              "      <th>occupation_ Sales</th>\n",
              "      <th>occupation_ Tech-support</th>\n",
              "      <th>occupation_ Transport-moving</th>\n",
              "      <th>edu_ 10th</th>\n",
              "      <th>edu_ 11th</th>\n",
              "      <th>edu_ 12th</th>\n",
              "      <th>edu_ 1st-4th</th>\n",
              "      <th>edu_ 5th-6th</th>\n",
              "      <th>edu_ 7th-8th</th>\n",
              "      <th>edu_ 9th</th>\n",
              "      <th>edu_ Assoc-acdm</th>\n",
              "      <th>edu_ Assoc-voc</th>\n",
              "      <th>edu_ Bachelors</th>\n",
              "      <th>edu_ Doctorate</th>\n",
              "      <th>edu_ HS-grad</th>\n",
              "      <th>edu_ Masters</th>\n",
              "      <th>edu_ Preschool</th>\n",
              "      <th>edu_ Prof-school</th>\n",
              "      <th>edu_ Some-college</th>\n",
              "      <th>relationship_ Husband</th>\n",
              "      <th>relationship_ Not-in-family</th>\n",
              "      <th>relationship_ Other-relative</th>\n",
              "      <th>relationship_ Own-child</th>\n",
              "      <th>relationship_ Unmarried</th>\n",
              "      <th>relationship_ Wife</th>\n",
              "      <th>sex_ Female</th>\n",
              "      <th>sex_ Male</th>\n",
              "    </tr>\n",
              "  </thead>\n",
              "  <tbody>\n",
              "    <tr>\n",
              "      <th>0</th>\n",
              "      <td>0.30137</td>\n",
              "      <td>0.8</td>\n",
              "      <td>0.02174</td>\n",
              "      <td>0.0</td>\n",
              "      <td>0.397959</td>\n",
              "      <td>0</td>\n",
              "      <td>0</td>\n",
              "      <td>0</td>\n",
              "      <td>0</td>\n",
              "      <td>0</td>\n",
              "      <td>1</td>\n",
              "      <td>0</td>\n",
              "      <td>0</td>\n",
              "      <td>0</td>\n",
              "      <td>0</td>\n",
              "      <td>0</td>\n",
              "      <td>1</td>\n",
              "      <td>0</td>\n",
              "      <td>0</td>\n",
              "      <td>1</td>\n",
              "      <td>0</td>\n",
              "      <td>0</td>\n",
              "      <td>0</td>\n",
              "      <td>0</td>\n",
              "      <td>0</td>\n",
              "      <td>0</td>\n",
              "      <td>0</td>\n",
              "      <td>0</td>\n",
              "      <td>0</td>\n",
              "      <td>0</td>\n",
              "      <td>0</td>\n",
              "      <td>0</td>\n",
              "      <td>0</td>\n",
              "      <td>0</td>\n",
              "      <td>0</td>\n",
              "      <td>0</td>\n",
              "      <td>0</td>\n",
              "      <td>0</td>\n",
              "      <td>0</td>\n",
              "      <td>0</td>\n",
              "      <td>0</td>\n",
              "      <td>0</td>\n",
              "      <td>0</td>\n",
              "      <td>0</td>\n",
              "      <td>0</td>\n",
              "      <td>0</td>\n",
              "      <td>0</td>\n",
              "      <td>0</td>\n",
              "      <td>0</td>\n",
              "      <td>0</td>\n",
              "      <td>1</td>\n",
              "      <td>0</td>\n",
              "      <td>0</td>\n",
              "      <td>0</td>\n",
              "      <td>0</td>\n",
              "      <td>0</td>\n",
              "      <td>1</td>\n",
              "    </tr>\n",
              "  </tbody>\n",
              "</table>\n",
              "</div>\n",
              "      <button class=\"colab-df-convert\" onclick=\"convertToInteractive('df-d588f5af-b565-4b02-b76d-a73ee5ccd203')\"\n",
              "              title=\"Convert this dataframe to an interactive table.\"\n",
              "              style=\"display:none;\">\n",
              "        \n",
              "  <svg xmlns=\"http://www.w3.org/2000/svg\" height=\"24px\"viewBox=\"0 0 24 24\"\n",
              "       width=\"24px\">\n",
              "    <path d=\"M0 0h24v24H0V0z\" fill=\"none\"/>\n",
              "    <path d=\"M18.56 5.44l.94 2.06.94-2.06 2.06-.94-2.06-.94-.94-2.06-.94 2.06-2.06.94zm-11 1L8.5 8.5l.94-2.06 2.06-.94-2.06-.94L8.5 2.5l-.94 2.06-2.06.94zm10 10l.94 2.06.94-2.06 2.06-.94-2.06-.94-.94-2.06-.94 2.06-2.06.94z\"/><path d=\"M17.41 7.96l-1.37-1.37c-.4-.4-.92-.59-1.43-.59-.52 0-1.04.2-1.43.59L10.3 9.45l-7.72 7.72c-.78.78-.78 2.05 0 2.83L4 21.41c.39.39.9.59 1.41.59.51 0 1.02-.2 1.41-.59l7.78-7.78 2.81-2.81c.8-.78.8-2.07 0-2.86zM5.41 20L4 18.59l7.72-7.72 1.47 1.35L5.41 20z\"/>\n",
              "  </svg>\n",
              "      </button>\n",
              "      \n",
              "  <style>\n",
              "    .colab-df-container {\n",
              "      display:flex;\n",
              "      flex-wrap:wrap;\n",
              "      gap: 12px;\n",
              "    }\n",
              "\n",
              "    .colab-df-convert {\n",
              "      background-color: #E8F0FE;\n",
              "      border: none;\n",
              "      border-radius: 50%;\n",
              "      cursor: pointer;\n",
              "      display: none;\n",
              "      fill: #1967D2;\n",
              "      height: 32px;\n",
              "      padding: 0 0 0 0;\n",
              "      width: 32px;\n",
              "    }\n",
              "\n",
              "    .colab-df-convert:hover {\n",
              "      background-color: #E2EBFA;\n",
              "      box-shadow: 0px 1px 2px rgba(60, 64, 67, 0.3), 0px 1px 3px 1px rgba(60, 64, 67, 0.15);\n",
              "      fill: #174EA6;\n",
              "    }\n",
              "\n",
              "    [theme=dark] .colab-df-convert {\n",
              "      background-color: #3B4455;\n",
              "      fill: #D2E3FC;\n",
              "    }\n",
              "\n",
              "    [theme=dark] .colab-df-convert:hover {\n",
              "      background-color: #434B5C;\n",
              "      box-shadow: 0px 1px 3px 1px rgba(0, 0, 0, 0.15);\n",
              "      filter: drop-shadow(0px 1px 2px rgba(0, 0, 0, 0.3));\n",
              "      fill: #FFFFFF;\n",
              "    }\n",
              "  </style>\n",
              "\n",
              "      <script>\n",
              "        const buttonEl =\n",
              "          document.querySelector('#df-d588f5af-b565-4b02-b76d-a73ee5ccd203 button.colab-df-convert');\n",
              "        buttonEl.style.display =\n",
              "          google.colab.kernel.accessAllowed ? 'block' : 'none';\n",
              "\n",
              "        async function convertToInteractive(key) {\n",
              "          const element = document.querySelector('#df-d588f5af-b565-4b02-b76d-a73ee5ccd203');\n",
              "          const dataTable =\n",
              "            await google.colab.kernel.invokeFunction('convertToInteractive',\n",
              "                                                     [key], {});\n",
              "          if (!dataTable) return;\n",
              "\n",
              "          const docLinkHtml = 'Like what you see? Visit the ' +\n",
              "            '<a target=\"_blank\" href=https://colab.research.google.com/notebooks/data_table.ipynb>data table notebook</a>'\n",
              "            + ' to learn more about interactive tables.';\n",
              "          element.innerHTML = '';\n",
              "          dataTable['output_type'] = 'display_data';\n",
              "          await google.colab.output.renderOutput(dataTable, element);\n",
              "          const docLink = document.createElement('div');\n",
              "          docLink.innerHTML = docLinkHtml;\n",
              "          element.appendChild(docLink);\n",
              "        }\n",
              "      </script>\n",
              "    </div>\n",
              "  </div>\n",
              "  "
            ],
            "text/plain": [
              "       age  yredu  capgain  caploss    workhr  work_ Federal-gov  \\\n",
              "0  0.30137    0.8  0.02174      0.0  0.397959                  0   \n",
              "\n",
              "   work_ Local-gov  work_ Private  work_ Self-emp-inc  work_ Self-emp-not-inc  \\\n",
              "0                0              0                   0                       0   \n",
              "\n",
              "   work_ State-gov  work_ Without-pay  marriage_ Divorced  \\\n",
              "0                1                  0                   0   \n",
              "\n",
              "   marriage_ Married-AF-spouse  marriage_ Married-civ-spouse  \\\n",
              "0                            0                             0   \n",
              "\n",
              "   marriage_ Married-spouse-absent  marriage_ Never-married  \\\n",
              "0                                0                        1   \n",
              "\n",
              "   marriage_ Separated  marriage_ Widowed  occupation_ Adm-clerical  \\\n",
              "0                    0                  0                         1   \n",
              "\n",
              "   occupation_ Armed-Forces  occupation_ Craft-repair  \\\n",
              "0                         0                         0   \n",
              "\n",
              "   occupation_ Exec-managerial  occupation_ Farming-fishing  \\\n",
              "0                            0                            0   \n",
              "\n",
              "   occupation_ Handlers-cleaners  occupation_ Machine-op-inspct  \\\n",
              "0                              0                              0   \n",
              "\n",
              "   occupation_ Other-service  occupation_ Priv-house-serv  \\\n",
              "0                          0                            0   \n",
              "\n",
              "   occupation_ Prof-specialty  occupation_ Protective-serv  occupation_ Sales  \\\n",
              "0                           0                            0                  0   \n",
              "\n",
              "   occupation_ Tech-support  occupation_ Transport-moving  edu_ 10th  \\\n",
              "0                         0                             0          0   \n",
              "\n",
              "   edu_ 11th  edu_ 12th  edu_ 1st-4th  edu_ 5th-6th  edu_ 7th-8th  edu_ 9th  \\\n",
              "0          0          0             0             0             0         0   \n",
              "\n",
              "   edu_ Assoc-acdm  edu_ Assoc-voc  edu_ Bachelors  edu_ Doctorate  \\\n",
              "0                0               0               0               0   \n",
              "\n",
              "   edu_ HS-grad  edu_ Masters  edu_ Preschool  edu_ Prof-school  \\\n",
              "0             0             0               0                 0   \n",
              "\n",
              "   edu_ Some-college  relationship_ Husband  relationship_ Not-in-family  \\\n",
              "0                  0                      0                            1   \n",
              "\n",
              "   relationship_ Other-relative  relationship_ Own-child  \\\n",
              "0                             0                        0   \n",
              "\n",
              "   relationship_ Unmarried  relationship_ Wife  sex_ Female  sex_ Male  \n",
              "0                        0                   0            0          1  "
            ]
          },
          "metadata": {},
          "execution_count": 212
        }
      ]
    },
    {
      "cell_type": "code",
      "source": [
        "for index, row in test_data.iterrows():\n",
        "  datam = (torch.tensor(np.array(row)).float())"
      ],
      "metadata": {
        "id": "ezPqIc0mK-rf"
      },
      "execution_count": null,
      "outputs": []
    },
    {
      "cell_type": "code",
      "source": [
        "out = model(datam).detach().numpy()\n",
        "print(\"Prediction:\", get_feature(out, 'edu'))"
      ],
      "metadata": {
        "colab": {
          "base_uri": "https://localhost:8080/"
        },
        "id": "IxtHuaZDK5Bc",
        "outputId": "145192f9-f4f9-4c27-9e6a-baa347fa5e5d"
      },
      "execution_count": null,
      "outputs": [
        {
          "output_type": "stream",
          "name": "stdout",
          "text": [
            "Prediction: Assoc-voc\n"
          ]
        }
      ]
    },
    {
      "cell_type": "markdown",
      "metadata": {
        "id": "fdLNA0ce1prd"
      },
      "source": [
        "### Part (f) [2 pt]\n",
        "\n",
        "What is the baseline model's prediction\n",
        "of this person's education level?"
      ]
    },
    {
      "cell_type": "code",
      "execution_count": null,
      "metadata": {
        "collapsed": true,
        "id": "TXgoM9qk1prd",
        "jupyter": {
          "outputs_hidden": true
        },
        "colab": {
          "base_uri": "https://localhost:8080/"
        },
        "outputId": "79432e80-2021-4b13-abe6-7e979177e453"
      },
      "outputs": [
        {
          "output_type": "stream",
          "name": "stdout",
          "text": [
            "Prediction:  HS-grad\n"
          ]
        }
      ],
      "source": [
        "print(\"Prediction:\", mapping['edu'])"
      ]
    }
  ],
  "metadata": {
    "colab": {
      "collapsed_sections": [
        "p_d5uuAY1prZ",
        "fdLNA0ce1prd"
      ],
      "name": "Lab_4_Data_Imputation_Winter_2022.ipynb",
      "provenance": []
    },
    "kernelspec": {
      "display_name": "Python 3 (ipykernel)",
      "language": "python",
      "name": "python3"
    },
    "language_info": {
      "codemirror_mode": {
        "name": "ipython",
        "version": 3
      },
      "file_extension": ".py",
      "mimetype": "text/x-python",
      "name": "python",
      "nbconvert_exporter": "python",
      "pygments_lexer": "ipython3",
      "version": "3.9.4"
    }
  },
  "nbformat": 4,
  "nbformat_minor": 0
}